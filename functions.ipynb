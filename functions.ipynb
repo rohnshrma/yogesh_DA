{
 "cells": [
  {
   "cell_type": "code",
   "execution_count": null,
   "id": "7295c14d-a5ca-475d-b82b-bbfaaf33cd7c",
   "metadata": {},
   "outputs": [],
   "source": [
    "# functions\n",
    "# reusable block of code \n",
    "\n",
    "# def keyword is used to define a function followed by its name and then parameters (if any).\n",
    "\n",
    "\n",
    "# syntax\n",
    "\n",
    "# def func_name():\n",
    "#     print(\"hello world\")"
   ]
  },
  {
   "cell_type": "code",
   "execution_count": null,
   "id": "a25582a9-0d5f-45a9-adae-6a79f167ecbd",
   "metadata": {},
   "outputs": [],
   "source": [
    "# Underweight\tBelow 18.5\n",
    "# Healthy\t18.5 – 24.9\n",
    "# Overweight\t25.0 – 29.9\n",
    "# Obesity\t30.0 or above"
   ]
  },
  {
   "cell_type": "code",
   "execution_count": 3,
   "id": "4202e68a-4778-4eb1-9102-a7ad5905e610",
   "metadata": {},
   "outputs": [
    {
     "name": "stdin",
     "output_type": "stream",
     "text": [
      "Enter your weight(kg's) :  23\n",
      "Enter your height(m's) :  1.78\n"
     ]
    },
    {
     "name": "stdout",
     "output_type": "stream",
     "text": [
      "Underweight\n"
     ]
    }
   ],
   "source": [
    "weight = int(input(\"Enter your weight(kg's) : \"))\n",
    "height = float(input(\"Enter your height(m's) : \"))\n",
    "bmi = weight / height ** 2\n",
    "if bmi < 18.5:\n",
    "    print(\"Underweight\")\n",
    "elif bmi >= 18.5 and bmi <= 24.9:\n",
    "    print(\"Healthy\")\n",
    "elif bmi >= 25.0 and bmi <= 29.9:\n",
    "    print(\"Overweight\")\n",
    "else:\n",
    "    print(\"Obesity\")\n",
    "    \n",
    "weight = int(input(\"Enter your weight(kg's) : \"))\n",
    "height = float(input(\"Enter your height(m's) : \"))\n",
    "bmi = weight / height ** 2\n",
    "if bmi < 18.5:\n",
    "    print(\"Underweight\")\n",
    "elif bmi >= 18.5 and bmi <= 24.9:\n",
    "    print(\"Healthy\")\n",
    "elif bmi >= 25.0 and bmi <= 29.9:\n",
    "    print(\"Overweight\")\n",
    "else:\n",
    "    print(\"Obesity\")\n",
    "    \n",
    "weight = int(input(\"Enter your weight(kg's) : \"))\n",
    "height = float(input(\"Enter your height(m's) : \"))\n",
    "bmi = weight / height ** 2\n",
    "if bmi < 18.5:\n",
    "    print(\"Underweight\")\n",
    "elif bmi >= 18.5 and bmi <= 24.9:\n",
    "    print(\"Healthy\")\n",
    "elif bmi >= 25.0 and bmi <= 29.9:\n",
    "    print(\"Overweight\")\n",
    "else:\n",
    "    print(\"Obesity\")\n"
   ]
  },
  {
   "cell_type": "code",
   "execution_count": 15,
   "id": "fcb2abbe-3009-47d8-8902-72fa7c713b04",
   "metadata": {},
   "outputs": [],
   "source": [
    "\n",
    "\n",
    "def greeting():\n",
    "    print(\"hello world\")"
   ]
  },
  {
   "cell_type": "code",
   "execution_count": 21,
   "id": "acd3baee-14b6-4651-8552-0d5fea8d8d75",
   "metadata": {},
   "outputs": [
    {
     "name": "stdout",
     "output_type": "stream",
     "text": [
      "hello world\n",
      "hello world\n",
      "hello world\n",
      "hello world\n",
      "hello world\n",
      "hello world\n",
      "hello world\n"
     ]
    }
   ],
   "source": [
    "greeting()\n",
    "greeting()\n",
    "greeting()\n",
    "greeting()\n",
    "greeting()\n",
    "greeting()\n",
    "greeting()"
   ]
  },
  {
   "cell_type": "code",
   "execution_count": 23,
   "id": "a5791eee-f7b5-4fb4-8516-79edf2f3ef51",
   "metadata": {},
   "outputs": [],
   "source": [
    "def calcBmi():\n",
    "    weight = int(input(\"Enter your weight(kg's) : \"))\n",
    "    height = float(input(\"Enter your height(m's) : \"))\n",
    "    bmi = weight / height ** 2\n",
    "    if bmi < 18.5:\n",
    "        print(\"Underweight\")\n",
    "    elif bmi >= 18.5 and bmi <= 24.9:\n",
    "        print(\"Healthy\")\n",
    "    elif bmi >= 25.0 and bmi <= 29.9:\n",
    "        print(\"Overweight\")\n",
    "    else:\n",
    "        print(\"Obesity\")\n"
   ]
  },
  {
   "cell_type": "code",
   "execution_count": 25,
   "id": "acd94779-1b20-4850-a961-b1c986bf2a0d",
   "metadata": {},
   "outputs": [
    {
     "name": "stdin",
     "output_type": "stream",
     "text": [
      "Enter your weight(kg's) :  100\n",
      "Enter your height(m's) :  1.80\n"
     ]
    },
    {
     "name": "stdout",
     "output_type": "stream",
     "text": [
      "Obesity\n"
     ]
    },
    {
     "name": "stdin",
     "output_type": "stream",
     "text": [
      "Enter your weight(kg's) :  80\n",
      "Enter your height(m's) :  1.80\n"
     ]
    },
    {
     "name": "stdout",
     "output_type": "stream",
     "text": [
      "Healthy\n"
     ]
    },
    {
     "name": "stdin",
     "output_type": "stream",
     "text": [
      "Enter your weight(kg's) :  70\n",
      "Enter your height(m's) :  1.78\n"
     ]
    },
    {
     "name": "stdout",
     "output_type": "stream",
     "text": [
      "Healthy\n"
     ]
    }
   ],
   "source": [
    "calcBmi()\n",
    "calcBmi()\n",
    "calcBmi()"
   ]
  },
  {
   "cell_type": "code",
   "execution_count": 5,
   "id": "1db54802-8966-47c3-a0c8-99d78565ded5",
   "metadata": {},
   "outputs": [],
   "source": [
    "def sum(a , b):\n",
    "    print(a+b)"
   ]
  },
  {
   "cell_type": "code",
   "execution_count": null,
   "id": "efe74a82-f1e4-41d7-8ec7-df2364f0f923",
   "metadata": {},
   "outputs": [],
   "source": []
  },
  {
   "cell_type": "code",
   "execution_count": null,
   "id": "a568370d-0b7a-4bfd-9aca-1536bb6bfbc7",
   "metadata": {},
   "outputs": [],
   "source": []
  },
  {
   "cell_type": "code",
   "execution_count": 10,
   "id": "ac68aba6-4925-48e0-b259-31a98357c1a2",
   "metadata": {},
   "outputs": [
    {
     "name": "stdout",
     "output_type": "stream",
     "text": [
      "57\n"
     ]
    }
   ],
   "source": [
    "sum(34,23)"
   ]
  },
  {
   "cell_type": "code",
   "execution_count": null,
   "id": "992b9eb5-fa7f-4bbc-a89c-4855e03e8c0e",
   "metadata": {},
   "outputs": [],
   "source": []
  },
  {
   "cell_type": "code",
   "execution_count": 12,
   "id": "e8c8b1e1-c00f-42f1-8ffe-bc8df82b9991",
   "metadata": {},
   "outputs": [],
   "source": [
    "def calcBmi(w , h):\n",
    "    bmi = w / h ** 2\n",
    "    if bmi < 18.5:\n",
    "        print(\"Underweight\")\n",
    "    elif bmi >= 18.5 and bmi <= 24.9:\n",
    "        print(\"Healthy\")\n",
    "    elif bmi >= 25.0 and bmi <= 29.9:\n",
    "        print(\"Overweight\")\n",
    "    else:\n",
    "        print(\"Obesity\")"
   ]
  },
  {
   "cell_type": "code",
   "execution_count": 14,
   "id": "cfc94a5c-44fb-4789-b35f-a440171d3476",
   "metadata": {},
   "outputs": [
    {
     "name": "stdout",
     "output_type": "stream",
     "text": [
      "Obesity\n",
      "Overweight\n"
     ]
    }
   ],
   "source": [
    "calcBmi(100,1.80)\n",
    "calcBmi(70,1.60)"
   ]
  },
  {
   "cell_type": "code",
   "execution_count": null,
   "id": "fc989021-4d83-408a-9093-13b41e752ea3",
   "metadata": {},
   "outputs": [],
   "source": []
  },
  {
   "cell_type": "code",
   "execution_count": 36,
   "id": "3e1ffd61-ce08-4db7-83b2-2f32e80f989f",
   "metadata": {},
   "outputs": [],
   "source": [
    "def list_total(items):\n",
    "    total = 0\n",
    "    for item in items:\n",
    "        total += item\n",
    "    print(total)"
   ]
  },
  {
   "cell_type": "code",
   "execution_count": 38,
   "id": "cc6ae0ce-8a00-4190-979c-61de02e1e0e5",
   "metadata": {},
   "outputs": [
    {
     "name": "stdout",
     "output_type": "stream",
     "text": [
      "143\n"
     ]
    }
   ],
   "source": [
    "marks = [12,23,4,42,3,34,23,2]\n",
    "list_total(marks)"
   ]
  },
  {
   "cell_type": "code",
   "execution_count": null,
   "id": "160ae05b-d90c-4fbb-a7c7-f5d2f62d6daa",
   "metadata": {},
   "outputs": [],
   "source": []
  },
  {
   "cell_type": "markdown",
   "id": "b66ee9b8-eef5-4bf7-83e0-009f40145f66",
   "metadata": {},
   "source": [
    "# Assignment\n",
    "\n",
    "# Task 1: Create a function to print the sum of numbers in a predefined list [1, 2, 3, 4, 5]\n",
    "def print_list_sum():\n",
    "\n",
    "# Task 2: Create a function to print the count of vowels in a predefined string \"hello world\"\n",
    "def print_vowel_count():\n",
    "\n",
    "# Task 3: Create a function to print all even numbers from a predefined list [1, 2, 3, 4, 5, 6, 7, 8]\n",
    "def print_even_list():\n",
    "\n",
    "# Task 4: Create a function to print the average of numbers in a predefined list [10, 20, 30, 40]\n",
    "def print_list_average():\n",
    "\n",
    "# Task 5: Create a function to print the number of consonants in a predefined string \"python\"\n",
    "def print_consonant_count():\n",
    "\n",
    "# Task 6: Create a function to print all odd numbers from a predefined list [1, 2, 3, 4, 5, 6, 7]\n",
    "def print_odd_list():\n",
    "\n",
    "# Task 7: Create a function to print the maximum number in a predefined list [5, 12, 3, 8, 15]\n",
    "def print_max_number():\n",
    "\n",
    "# Task 8: Create a function to print the number of uppercase letters in a predefined string \"HeLLo\"\n",
    "def print_uppercase_count():\n",
    "\n",
    "# Task 9: Create a function to print the minimum number in a predefined list [7, 2, 9, 4, 1]\n",
    "def print_min_number():\n",
    "\n",
    "# Task 10: Create a function to print the count of words in a predefined string \"I love to code\"\n",
    "def print_word_count():\n",
    "\n",
    "# Task 11: Create a function to print all numbers divisible by 3 from a predefined list [3, 4, 6, 7, 9, 12]\n",
    "def print_divisible_by_three():\n",
    "\n",
    "# Task 12: Create a function to print the length of each word in a predefined string \"cat dog bird\"\n",
    "def print_word_lengths():\n",
    "\n",
    "# Task 13: Create a function to print the sum of squares of numbers in a predefined list [1, 2, 3]\n",
    "def print_sum_squares():\n",
    "\n",
    "# Task 14: Create a function to print the count of digits in a predefined string \"abc123def4\"\n",
    "def print_digit_count():\n",
    "\n",
    "# Task 15: Create a function to print all numbers greater than 10 from a predefined list [5, 12, 8, 15, 3, 20]\n",
    "def print_greater_than_ten():"
   ]
  },
  {
   "cell_type": "code",
   "execution_count": null,
   "id": "a912421c-9f5f-46ed-969b-f9a0db442c14",
   "metadata": {},
   "outputs": [],
   "source": []
  },
  {
   "cell_type": "code",
   "execution_count": 41,
   "id": "94d905b5-8396-4e35-a481-af080ebc4ed1",
   "metadata": {},
   "outputs": [],
   "source": [
    "def print_greater_than_ten(nums):\n",
    "    for n in nums:\n",
    "        if n > 10:\n",
    "            print(n)"
   ]
  },
  {
   "cell_type": "code",
   "execution_count": 45,
   "id": "e130e797-5e2a-4fb0-b13f-56a81cfd481d",
   "metadata": {},
   "outputs": [
    {
     "name": "stdout",
     "output_type": "stream",
     "text": [
      "23\n",
      "12\n",
      "34\n",
      "23\n",
      "34\n",
      "23\n"
     ]
    }
   ],
   "source": [
    "marks = [1,4,23,12,34,23,34,23]\n",
    "print_greater_than_ten(marks)"
   ]
  },
  {
   "cell_type": "code",
   "execution_count": 50,
   "id": "ddde01c1-7ded-4d2e-b4c6-ae4d7c8cd5d7",
   "metadata": {},
   "outputs": [],
   "source": [
    "def print_digit_count(txt):\n",
    "    numCount = 0\n",
    "    for char in txt:\n",
    "        if char.isdigit():\n",
    "            numCount+=1\n",
    "    print(numCount)"
   ]
  },
  {
   "cell_type": "code",
   "execution_count": 52,
   "id": "f6bfc05f-60b1-47f7-8a51-175340273d86",
   "metadata": {},
   "outputs": [
    {
     "name": "stdout",
     "output_type": "stream",
     "text": [
      "4\n"
     ]
    }
   ],
   "source": [
    "mess=\"abc123def4\"\n",
    "print_digit_count(mess)"
   ]
  },
  {
   "cell_type": "code",
   "execution_count": 54,
   "id": "443365d5-cd41-46bb-8af0-7496aed45729",
   "metadata": {},
   "outputs": [],
   "source": [
    "def print_sum_squares(nums):\n",
    "    total_sq = 0\n",
    "    for num in nums:\n",
    "        total_sq += num ** 2\n",
    "    print(total_sq)"
   ]
  },
  {
   "cell_type": "code",
   "execution_count": 85,
   "id": "9d6ea904-a001-4ddb-98ce-74b3956bd8dd",
   "metadata": {},
   "outputs": [
    {
     "name": "stdout",
     "output_type": "stream",
     "text": [
      "4180\n"
     ]
    }
   ],
   "source": [
    "marks = [11,4,23,12,34,0,23,34,23]\n",
    "print_sum_squares(marks)"
   ]
  },
  {
   "cell_type": "code",
   "execution_count": 87,
   "id": "61d79e48-0467-4aaf-b4d7-694ac666eb18",
   "metadata": {},
   "outputs": [],
   "source": [
    "def print_word_lengths(txt):\n",
    "    list_of_words = txt.split(\" \")\n",
    "    for word in list_of_words:\n",
    "        print(f\"{word} => {len(word)}\")\n",
    "        "
   ]
  },
  {
   "cell_type": "code",
   "execution_count": 89,
   "id": "8045589f-d0fb-4fda-bc2a-14c62d4a222a",
   "metadata": {},
   "outputs": [
    {
     "name": "stdout",
     "output_type": "stream",
     "text": [
      "cat => 3\n",
      "dog => 3\n",
      "kutta => 5\n"
     ]
    }
   ],
   "source": [
    "mess = \"cat dog kutta\"\n",
    "print_word_lengths(mess)"
   ]
  },
  {
   "cell_type": "code",
   "execution_count": null,
   "id": "9f238671-2a6e-48e0-a67e-883ceb93a073",
   "metadata": {},
   "outputs": [],
   "source": []
  },
  {
   "cell_type": "code",
   "execution_count": 92,
   "id": "62a7fdb8-a5da-4507-98d8-9e23f5196cfe",
   "metadata": {},
   "outputs": [],
   "source": [
    "def print_word_count(txt):\n",
    "    list_of_words = txt.split(\" \")\n",
    "    print(len(list_of_words))"
   ]
  },
  {
   "cell_type": "code",
   "execution_count": 94,
   "id": "c76e20e5-b979-4d9e-a16e-8ed051f00edf",
   "metadata": {},
   "outputs": [
    {
     "name": "stdout",
     "output_type": "stream",
     "text": [
      "4\n"
     ]
    }
   ],
   "source": [
    "mess = \"i love to code\"\n",
    "print_word_count(mess)"
   ]
  },
  {
   "cell_type": "code",
   "execution_count": 107,
   "id": "2cfb193f-c4ff-41e7-8c8f-e8e7c8e61321",
   "metadata": {},
   "outputs": [],
   "source": [
    "def print_min_number(nums):\n",
    "    smallest = nums[0]\n",
    "    for n in nums:\n",
    "        # print(n , smallest , n < smallest)\n",
    "        if n < smallest:\n",
    "            smallest = n\n",
    "    print(smallest)"
   ]
  },
  {
   "cell_type": "code",
   "execution_count": 109,
   "id": "5e4cb032-a1c8-438d-9d6e-37a6082edcf5",
   "metadata": {},
   "outputs": [
    {
     "name": "stdout",
     "output_type": "stream",
     "text": [
      "0\n"
     ]
    }
   ],
   "source": [
    "print_min_number(marks)"
   ]
  },
  {
   "cell_type": "code",
   "execution_count": null,
   "id": "22d2e2e8-97aa-4b32-a82e-1a6886255c7a",
   "metadata": {},
   "outputs": [],
   "source": []
  },
  {
   "cell_type": "code",
   "execution_count": null,
   "id": "9f754888-c564-4006-b2d4-ca9917af22b1",
   "metadata": {},
   "outputs": [],
   "source": []
  },
  {
   "cell_type": "code",
   "execution_count": null,
   "id": "bc563d2a-78de-4098-9a2b-5bea49f37f8e",
   "metadata": {},
   "outputs": [],
   "source": []
  },
  {
   "cell_type": "code",
   "execution_count": 119,
   "id": "5d84534b-ef50-40cd-a2c7-f123ea8d8488",
   "metadata": {},
   "outputs": [],
   "source": [
    "def print_uppercase_count(txt):\n",
    "    count_upper = 0\n",
    "    for char in txt:\n",
    "        if char.isupper():\n",
    "            count_upper+=1\n",
    "\n",
    "    print(count_upper)"
   ]
  },
  {
   "cell_type": "code",
   "execution_count": 121,
   "id": "315bb510-c9e6-4c41-a326-f2f6622fca52",
   "metadata": {},
   "outputs": [
    {
     "name": "stdout",
     "output_type": "stream",
     "text": [
      "4\n"
     ]
    }
   ],
   "source": [
    "print_uppercase_count(\"HelloWORld\")"
   ]
  },
  {
   "cell_type": "code",
   "execution_count": 127,
   "id": "87249bb4-7b51-4e25-8a97-f98bc53f7881",
   "metadata": {},
   "outputs": [],
   "source": [
    "def print_consonant_count(text):\n",
    "    count = 0\n",
    "    for char in text.lower():\n",
    "        if char.isalpha() and char not in \"aeiou\":\n",
    "            count+=1\n",
    "    print(count)"
   ]
  },
  {
   "cell_type": "code",
   "execution_count": 129,
   "id": "779cb335-8f7c-424b-879a-9a12f16a8462",
   "metadata": {},
   "outputs": [
    {
     "name": "stdout",
     "output_type": "stream",
     "text": [
      "14\n"
     ]
    }
   ],
   "source": [
    "print_consonant_count(\"hello world this is pandu@1122\")"
   ]
  },
  {
   "cell_type": "code",
   "execution_count": 137,
   "id": "4ab47e5a-ee37-46f7-b59f-adfa2e8554ab",
   "metadata": {},
   "outputs": [],
   "source": [
    "def print_list_average(nums):\n",
    "    total = 0\n",
    "    for num in nums:\n",
    "        total += num \n",
    "    print(total / len(nums))"
   ]
  },
  {
   "cell_type": "code",
   "execution_count": 141,
   "id": "41608eb4-e0cd-4e94-802a-a75871fadd62",
   "metadata": {},
   "outputs": [
    {
     "name": "stdout",
     "output_type": "stream",
     "text": [
      "28.7\n"
     ]
    }
   ],
   "source": [
    "\n",
    "marks = [11,4,23,12,34,0,23,123,34,23]\n",
    "print_list_average(marks)"
   ]
  },
  {
   "cell_type": "code",
   "execution_count": 153,
   "id": "d38427a7-616d-40b7-9db8-0cb6819daa0d",
   "metadata": {},
   "outputs": [],
   "source": [
    "def calcBmi(w , h):\n",
    "    bmi = w / h ** 2\n",
    "    if bmi < 18.5:\n",
    "        return \"Underweight\"\n",
    "    elif bmi >= 18.5 and bmi <= 24.9:\n",
    "        return \"Healthy\"\n",
    "    elif bmi >= 25.0 and bmi <= 29.9:\n",
    "        return \"Overweight\"\n",
    "    else:\n",
    "        return \"Obesity\""
   ]
  },
  {
   "cell_type": "code",
   "execution_count": 155,
   "id": "d15d4d6f-4023-45f7-ace6-537eacf0cc1f",
   "metadata": {},
   "outputs": [],
   "source": [
    "x = calcBmi(100,1.80)"
   ]
  },
  {
   "cell_type": "code",
   "execution_count": 159,
   "id": "f4fda546-2f62-4f37-8fde-f7def5b421a9",
   "metadata": {},
   "outputs": [
    {
     "name": "stdout",
     "output_type": "stream",
     "text": [
      "Obesity\n"
     ]
    }
   ],
   "source": [
    "print()"
   ]
  },
  {
   "cell_type": "code",
   "execution_count": 161,
   "id": "5a4db56c-797c-45b5-82c3-53bb68e388a6",
   "metadata": {},
   "outputs": [],
   "source": [
    "def prints():\n",
    "    print(1)\n",
    "    print(2)\n",
    "    return \n",
    "    print(3)\n",
    "    print(4)"
   ]
  },
  {
   "cell_type": "code",
   "execution_count": 163,
   "id": "18df49f3-3c36-4378-a3b1-ebdfc91edbd7",
   "metadata": {},
   "outputs": [
    {
     "name": "stdout",
     "output_type": "stream",
     "text": [
      "1\n",
      "2\n"
     ]
    }
   ],
   "source": [
    "prints()"
   ]
  },
  {
   "cell_type": "code",
   "execution_count": null,
   "id": "8d205a6e-c733-4feb-b47f-7be285e662e4",
   "metadata": {},
   "outputs": [],
   "source": []
  }
 ],
 "metadata": {
  "kernelspec": {
   "display_name": "Python 3 (ipykernel)",
   "language": "python",
   "name": "python3"
  },
  "language_info": {
   "codemirror_mode": {
    "name": "ipython",
    "version": 3
   },
   "file_extension": ".py",
   "mimetype": "text/x-python",
   "name": "python",
   "nbconvert_exporter": "python",
   "pygments_lexer": "ipython3",
   "version": "3.11.7"
  }
 },
 "nbformat": 4,
 "nbformat_minor": 5
}
