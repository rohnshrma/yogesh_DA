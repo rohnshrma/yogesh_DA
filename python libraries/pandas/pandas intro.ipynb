{
 "cells": [
  {
   "cell_type": "code",
   "execution_count": 2,
   "id": "5affad44-c185-4c05-80b2-614170789c4c",
   "metadata": {},
   "outputs": [
    {
     "name": "stdout",
     "output_type": "stream",
     "text": [
      "Requirement already satisfied: pandas in /opt/anaconda3/lib/python3.11/site-packages (2.1.4)\n",
      "Requirement already satisfied: numpy<2,>=1.23.2 in /opt/anaconda3/lib/python3.11/site-packages (from pandas) (1.26.4)\n",
      "Requirement already satisfied: python-dateutil>=2.8.2 in /opt/anaconda3/lib/python3.11/site-packages (from pandas) (2.8.2)\n",
      "Requirement already satisfied: pytz>=2020.1 in /opt/anaconda3/lib/python3.11/site-packages (from pandas) (2023.3.post1)\n",
      "Requirement already satisfied: tzdata>=2022.1 in /opt/anaconda3/lib/python3.11/site-packages (from pandas) (2023.3)\n",
      "Requirement already satisfied: six>=1.5 in /opt/anaconda3/lib/python3.11/site-packages (from python-dateutil>=2.8.2->pandas) (1.16.0)\n",
      "Note: you may need to restart the kernel to use updated packages.\n"
     ]
    }
   ],
   "source": [
    "pip install pandas"
   ]
  },
  {
   "cell_type": "code",
   "execution_count": 1,
   "id": "e57605db-0c20-408c-be0e-7c012f67736f",
   "metadata": {},
   "outputs": [
    {
     "name": "stdout",
     "output_type": "stream",
     "text": [
      "2.1.4\n"
     ]
    }
   ],
   "source": [
    "import pandas as pd\n",
    "print(pd.__version__)"
   ]
  },
  {
   "cell_type": "markdown",
   "id": "13899d0e-2a55-4810-b968-f3ee9875a309",
   "metadata": {},
   "source": [
    "# `series`\n",
    "\n",
    "- it is like a column in a table\n",
    "- it is a one-dimensional array holding data of any type"
   ]
  },
  {
   "cell_type": "code",
   "execution_count": 3,
   "id": "550a9fe2-253a-4828-91d8-f108ed55a993",
   "metadata": {},
   "outputs": [
    {
     "name": "stdout",
     "output_type": "stream",
     "text": [
      "0    23\n",
      "1    34\n",
      "2    23\n",
      "dtype: int64\n",
      "23\n",
      "23\n"
     ]
    }
   ],
   "source": [
    "a = [23,34,23]\n",
    "x = pd.Series(a)\n",
    "print(x)\n",
    "print(x[0])\n",
    "print(x[2])"
   ]
  },
  {
   "cell_type": "code",
   "execution_count": 4,
   "id": "d34fd84e-0915-47f9-8a4e-c4235a3c4e45",
   "metadata": {},
   "outputs": [
    {
     "name": "stdout",
     "output_type": "stream",
     "text": [
      "rohan     56\n",
      "tushar    66\n",
      "yogesh    77\n",
      "dtype: int64\n"
     ]
    }
   ],
   "source": [
    "nums = [56,66,77]\n",
    "marks = pd.Series(nums, index = [\"rohan\",\"tushar\",\"yogesh\"])\n",
    "print(marks)"
   ]
  },
  {
   "cell_type": "code",
   "execution_count": 5,
   "id": "ed4d9291-9ca7-4049-a0c1-9640d9df56c6",
   "metadata": {},
   "outputs": [],
   "source": [
    "students = {\n",
    "    \"class_10 \" : 34,\n",
    "    \"class_11\" : 23,\n",
    "    \"class_12\" : 12\n",
    "}"
   ]
  },
  {
   "cell_type": "code",
   "execution_count": 6,
   "id": "0830343c-2448-484d-8e8b-bbeb4ffa9335",
   "metadata": {},
   "outputs": [
    {
     "name": "stdout",
     "output_type": "stream",
     "text": [
      "class_10     34\n",
      "class_11     23\n",
      "class_12     12\n",
      "dtype: int64\n"
     ]
    }
   ],
   "source": [
    "data = pd.Series(students)\n",
    "print(data)"
   ]
  },
  {
   "cell_type": "code",
   "execution_count": 7,
   "id": "e364e69d-950d-4564-8335-04415dc49a94",
   "metadata": {},
   "outputs": [],
   "source": [
    "data = {\n",
    "    \"calories_burnt\" : [234,453,233],\n",
    "    \"duration\" : [34,23,45]\n",
    "}"
   ]
  },
  {
   "cell_type": "code",
   "execution_count": 8,
   "id": "9d0b84d4-bb84-48e3-ac64-df7abf473d8d",
   "metadata": {},
   "outputs": [
    {
     "name": "stdout",
     "output_type": "stream",
     "text": [
      "   calories_burnt  duration\n",
      "0             234        34\n",
      "1             453        23\n",
      "2             233        45\n"
     ]
    }
   ],
   "source": [
    "mydata = pd.DataFrame(data)\n",
    "print(mydata)"
   ]
  },
  {
   "cell_type": "code",
   "execution_count": 16,
   "id": "bcdc70f6-d7a3-4592-b490-eb0d241ea0bb",
   "metadata": {},
   "outputs": [
    {
     "name": "stdout",
     "output_type": "stream",
     "text": [
      "calories_burnt    453\n",
      "duration           23\n",
      "Name: 1, dtype: int64\n"
     ]
    }
   ],
   "source": [
    "print(mydata.loc[1])\n"
   ]
  },
  {
   "cell_type": "code",
   "execution_count": 18,
   "id": "6c5e9dea-d545-4d93-b08e-11551ba1e9aa",
   "metadata": {},
   "outputs": [
    {
     "name": "stdout",
     "output_type": "stream",
     "text": [
      "   calories_burnt  duration\n",
      "0             234        34\n",
      "2             233        45\n"
     ]
    }
   ],
   "source": [
    "print(mydata.loc[[0,2]])"
   ]
  },
  {
   "cell_type": "code",
   "execution_count": 20,
   "id": "9795b80a-9a80-4f9c-9e26-31fa82cff5e2",
   "metadata": {},
   "outputs": [
    {
     "name": "stdout",
     "output_type": "stream",
     "text": [
      "   calories_burnt  duration\n",
      "0             234        34\n",
      "1             453        23\n",
      "2             233        45\n"
     ]
    }
   ],
   "source": [
    "print(mydata.loc[0:2])"
   ]
  },
  {
   "cell_type": "code",
   "execution_count": 89,
   "id": "2574ee7a-229b-445b-865d-62820a177458",
   "metadata": {},
   "outputs": [
    {
     "name": "stdout",
     "output_type": "stream",
     "text": [
      "          name   age              department  salary          date  \\\n",
      "0     John Doe  28.0                      HR   50000    2023-01-15   \n",
      "1   Jane Smith   NaN                      IT   60000    2023-02-10   \n",
      "2    Bob Jones  45.0                      hr   75000    2023-03-20   \n",
      "3  Alice Brown  32.0  Information Technology   55000    2023-04-05   \n",
      "4     John Doe  28.0                      HR   50000    2023-01-15   \n",
      "5   Tom Wilson  50.0                 Finance  120000    2023-05-12   \n",
      "6     Sara Lee  29.0                     NaN   65000    2023-06-18   \n",
      "7    Mike Chen  35.0                      IT   80000  invalid_date   \n",
      "8   Emma Davis  60.0                 Finance  200000    2023-07-22   \n",
      "9     Lisa Ray  27.0                     HR    52000    2023-08-10   \n",
      "\n",
      "                   email   \n",
      "0     john.doe@email.com   \n",
      "1   jane.smith@email.com   \n",
      "2     bob.jones@email.com  \n",
      "3  alice.brown@email.com   \n",
      "4     john.doe@email.com   \n",
      "5   tom.wilson@email.com   \n",
      "6     sara.lee@email.com   \n",
      "7    mike.chen@email.com   \n",
      "8   emma.davis@email.com   \n",
      "9      lisa.ray@email.com  \n"
     ]
    }
   ],
   "source": [
    "df = pd.read_csv(\"./sample_data.csv\")\n",
    "print(df)"
   ]
  },
  {
   "cell_type": "code",
   "execution_count": 27,
   "id": "00d69c3f-5334-4f63-9692-a26572464bf7",
   "metadata": {},
   "outputs": [],
   "source": [
    "df_excel = pd.read_excel(\"./file_example_XLSX_10.xlsx\")"
   ]
  },
  {
   "cell_type": "code",
   "execution_count": 29,
   "id": "f9fe9d55-aac6-4a0d-8964-e8e483c22260",
   "metadata": {},
   "outputs": [
    {
     "name": "stdout",
     "output_type": "stream",
     "text": [
      "   0 First Name  Last Name  Gender        Country  Age        Date    Id\n",
      "0  1      Dulce      Abril  Female  United States   32  15/10/2017  1562\n",
      "1  2       Mara  Hashimoto  Female  Great Britain   25  16/08/2016  1582\n",
      "2  3     Philip       Gent    Male         France   36  21/05/2015  2587\n",
      "3  4   Kathleen     Hanner  Female  United States   25  15/10/2017  3549\n",
      "4  5    Nereida    Magwood  Female  United States   58  16/08/2016  2468\n",
      "5  6     Gaston      Brumm    Male  United States   24  21/05/2015  2554\n",
      "6  7       Etta       Hurn  Female  Great Britain   56  15/10/2017  3598\n",
      "7  8    Earlean     Melgar  Female  United States   27  16/08/2016  2456\n",
      "8  9   Vincenza    Weiland  Female  United States   40  21/05/2015  6548\n"
     ]
    }
   ],
   "source": [
    "print(df_excel)"
   ]
  },
  {
   "cell_type": "code",
   "execution_count": 33,
   "id": "ae89a856-f6f4-46fd-8263-16d477756c8e",
   "metadata": {},
   "outputs": [
    {
     "name": "stdout",
     "output_type": "stream",
     "text": [
      "       0  First Name  Last Name  Gender  Country    Age   Date     Id\n",
      "0  False       False      False   False    False  False  False  False\n",
      "1  False       False      False   False    False  False  False  False\n",
      "2  False       False      False   False    False  False  False  False\n",
      "3  False       False      False   False    False  False  False  False\n",
      "4  False       False      False   False    False  False  False  False\n",
      "5  False       False      False   False    False  False  False  False\n",
      "6  False       False      False   False    False  False  False  False\n",
      "7  False       False      False   False    False  False  False  False\n",
      "8  False       False      False   False    False  False  False  False\n"
     ]
    }
   ],
   "source": [
    "print(df_excel.isnull())"
   ]
  },
  {
   "cell_type": "code",
   "execution_count": 37,
   "id": "b905a1b0-42cc-43c6-921a-fd59002e0046",
   "metadata": {},
   "outputs": [
    {
     "name": "stdout",
     "output_type": "stream",
     "text": [
      "    name    age  department  salary   date  email \n",
      "0  False  False       False   False  False   False\n",
      "1  False   True       False   False  False   False\n",
      "2  False  False       False   False  False   False\n",
      "3  False  False       False   False  False   False\n",
      "4  False  False       False   False  False   False\n",
      "5  False  False       False   False  False   False\n",
      "6  False  False        True   False  False   False\n",
      "7  False  False       False   False  False   False\n",
      "8  False  False       False   False  False   False\n",
      "9  False  False       False   False  False   False\n"
     ]
    }
   ],
   "source": [
    "print(df.isnull())"
   ]
  },
  {
   "cell_type": "code",
   "execution_count": 55,
   "id": "db47c60b-0634-44d1-93d6-dc8b7f9e4726",
   "metadata": {},
   "outputs": [
    {
     "data": {
      "text/html": [
       "<div>\n",
       "<style scoped>\n",
       "    .dataframe tbody tr th:only-of-type {\n",
       "        vertical-align: middle;\n",
       "    }\n",
       "\n",
       "    .dataframe tbody tr th {\n",
       "        vertical-align: top;\n",
       "    }\n",
       "\n",
       "    .dataframe thead th {\n",
       "        text-align: right;\n",
       "    }\n",
       "</style>\n",
       "<table border=\"1\" class=\"dataframe\">\n",
       "  <thead>\n",
       "    <tr style=\"text-align: right;\">\n",
       "      <th></th>\n",
       "      <th>name</th>\n",
       "      <th>age</th>\n",
       "      <th>department</th>\n",
       "      <th>salary</th>\n",
       "      <th>date</th>\n",
       "      <th>email</th>\n",
       "    </tr>\n",
       "  </thead>\n",
       "  <tbody>\n",
       "    <tr>\n",
       "      <th>0</th>\n",
       "      <td>John Doe</td>\n",
       "      <td>28.0</td>\n",
       "      <td>HR</td>\n",
       "      <td>50000</td>\n",
       "      <td>2023-01-15</td>\n",
       "      <td>john.doe@email.com</td>\n",
       "    </tr>\n",
       "    <tr>\n",
       "      <th>1</th>\n",
       "      <td>Jane Smith</td>\n",
       "      <td>NaN</td>\n",
       "      <td>IT</td>\n",
       "      <td>60000</td>\n",
       "      <td>2023-02-10</td>\n",
       "      <td>jane.smith@email.com</td>\n",
       "    </tr>\n",
       "    <tr>\n",
       "      <th>2</th>\n",
       "      <td>Bob Jones</td>\n",
       "      <td>45.0</td>\n",
       "      <td>hr</td>\n",
       "      <td>75000</td>\n",
       "      <td>2023-03-20</td>\n",
       "      <td>bob.jones@email.com</td>\n",
       "    </tr>\n",
       "    <tr>\n",
       "      <th>3</th>\n",
       "      <td>Alice Brown</td>\n",
       "      <td>32.0</td>\n",
       "      <td>Information Technology</td>\n",
       "      <td>55000</td>\n",
       "      <td>2023-04-05</td>\n",
       "      <td>alice.brown@email.com</td>\n",
       "    </tr>\n",
       "    <tr>\n",
       "      <th>4</th>\n",
       "      <td>John Doe</td>\n",
       "      <td>28.0</td>\n",
       "      <td>HR</td>\n",
       "      <td>50000</td>\n",
       "      <td>2023-01-15</td>\n",
       "      <td>john.doe@email.com</td>\n",
       "    </tr>\n",
       "    <tr>\n",
       "      <th>5</th>\n",
       "      <td>Tom Wilson</td>\n",
       "      <td>50.0</td>\n",
       "      <td>Finance</td>\n",
       "      <td>120000</td>\n",
       "      <td>2023-05-12</td>\n",
       "      <td>tom.wilson@email.com</td>\n",
       "    </tr>\n",
       "    <tr>\n",
       "      <th>6</th>\n",
       "      <td>Sara Lee</td>\n",
       "      <td>29.0</td>\n",
       "      <td>NaN</td>\n",
       "      <td>65000</td>\n",
       "      <td>2023-06-18</td>\n",
       "      <td>sara.lee@email.com</td>\n",
       "    </tr>\n",
       "    <tr>\n",
       "      <th>7</th>\n",
       "      <td>Mike Chen</td>\n",
       "      <td>35.0</td>\n",
       "      <td>IT</td>\n",
       "      <td>80000</td>\n",
       "      <td>invalid_date</td>\n",
       "      <td>mike.chen@email.com</td>\n",
       "    </tr>\n",
       "    <tr>\n",
       "      <th>8</th>\n",
       "      <td>Emma Davis</td>\n",
       "      <td>60.0</td>\n",
       "      <td>Finance</td>\n",
       "      <td>200000</td>\n",
       "      <td>2023-07-22</td>\n",
       "      <td>emma.davis@email.com</td>\n",
       "    </tr>\n",
       "    <tr>\n",
       "      <th>9</th>\n",
       "      <td>Lisa Ray</td>\n",
       "      <td>27.0</td>\n",
       "      <td>HR</td>\n",
       "      <td>52000</td>\n",
       "      <td>2023-08-10</td>\n",
       "      <td>lisa.ray@email.com</td>\n",
       "    </tr>\n",
       "  </tbody>\n",
       "</table>\n",
       "</div>"
      ],
      "text/plain": [
       "          name   age              department  salary          date  \\\n",
       "0     John Doe  28.0                      HR   50000    2023-01-15   \n",
       "1   Jane Smith   NaN                      IT   60000    2023-02-10   \n",
       "2    Bob Jones  45.0                      hr   75000    2023-03-20   \n",
       "3  Alice Brown  32.0  Information Technology   55000    2023-04-05   \n",
       "4     John Doe  28.0                      HR   50000    2023-01-15   \n",
       "5   Tom Wilson  50.0                 Finance  120000    2023-05-12   \n",
       "6     Sara Lee  29.0                     NaN   65000    2023-06-18   \n",
       "7    Mike Chen  35.0                      IT   80000  invalid_date   \n",
       "8   Emma Davis  60.0                 Finance  200000    2023-07-22   \n",
       "9     Lisa Ray  27.0                     HR    52000    2023-08-10   \n",
       "\n",
       "                   email   \n",
       "0     john.doe@email.com   \n",
       "1   jane.smith@email.com   \n",
       "2     bob.jones@email.com  \n",
       "3  alice.brown@email.com   \n",
       "4     john.doe@email.com   \n",
       "5   tom.wilson@email.com   \n",
       "6     sara.lee@email.com   \n",
       "7    mike.chen@email.com   \n",
       "8   emma.davis@email.com   \n",
       "9      lisa.ray@email.com  "
      ]
     },
     "execution_count": 55,
     "metadata": {},
     "output_type": "execute_result"
    }
   ],
   "source": [
    "df"
   ]
  },
  {
   "cell_type": "code",
   "execution_count": 91,
   "id": "c18902e2-c185-4ecc-9c8e-fcc5859e9fb4",
   "metadata": {},
   "outputs": [],
   "source": [
    "df = df.dropna(subset=\"age\")"
   ]
  },
  {
   "cell_type": "code",
   "execution_count": 99,
   "id": "ce26fcc8-6615-464d-b790-fa79f0018c90",
   "metadata": {},
   "outputs": [
    {
     "name": "stdout",
     "output_type": "stream",
     "text": [
      "          name   age              department  salary          date  \\\n",
      "0     John Doe  28.0                      HR   50000    2023-01-15   \n",
      "2    Bob Jones  45.0                      hr   75000    2023-03-20   \n",
      "3  Alice Brown  32.0  Information Technology   55000    2023-04-05   \n",
      "4     John Doe  28.0                      HR   50000    2023-01-15   \n",
      "5   Tom Wilson  50.0                 Finance  120000    2023-05-12   \n",
      "6     Sara Lee  29.0                      HR   65000    2023-06-18   \n",
      "7    Mike Chen  35.0                      IT   80000  invalid_date   \n",
      "8   Emma Davis  60.0                 Finance  200000    2023-07-22   \n",
      "9     Lisa Ray  27.0                     HR    52000    2023-08-10   \n",
      "\n",
      "                   email   \n",
      "0     john.doe@email.com   \n",
      "2     bob.jones@email.com  \n",
      "3  alice.brown@email.com   \n",
      "4     john.doe@email.com   \n",
      "5   tom.wilson@email.com   \n",
      "6     sara.lee@email.com   \n",
      "7    mike.chen@email.com   \n",
      "8   emma.davis@email.com   \n",
      "9      lisa.ray@email.com  \n"
     ]
    }
   ],
   "source": [
    "df = df.fillna({\"department\" : \"HR\"})\n",
    "print(df)"
   ]
  },
  {
   "cell_type": "code",
   "execution_count": 103,
   "id": "315ee538-7b7f-4314-8485-951045bf4dc8",
   "metadata": {},
   "outputs": [
    {
     "name": "stdout",
     "output_type": "stream",
     "text": [
      "name           object\n",
      "age           float64\n",
      "department     object\n",
      "salary          int64\n",
      "date           object\n",
      "email          object\n",
      "dtype: object\n"
     ]
    }
   ],
   "source": [
    "print(df.dtypes)"
   ]
  },
  {
   "cell_type": "code",
   "execution_count": 107,
   "id": "5f767960-fce3-4590-9569-6bdbee226644",
   "metadata": {},
   "outputs": [],
   "source": [
    "df[\"age\"] = df[\"age\"].astype(int)"
   ]
  },
  {
   "cell_type": "code",
   "execution_count": 109,
   "id": "c317ba91-895d-46eb-ba67-b3844ffd169b",
   "metadata": {},
   "outputs": [
    {
     "data": {
      "text/html": [
       "<div>\n",
       "<style scoped>\n",
       "    .dataframe tbody tr th:only-of-type {\n",
       "        vertical-align: middle;\n",
       "    }\n",
       "\n",
       "    .dataframe tbody tr th {\n",
       "        vertical-align: top;\n",
       "    }\n",
       "\n",
       "    .dataframe thead th {\n",
       "        text-align: right;\n",
       "    }\n",
       "</style>\n",
       "<table border=\"1\" class=\"dataframe\">\n",
       "  <thead>\n",
       "    <tr style=\"text-align: right;\">\n",
       "      <th></th>\n",
       "      <th>name</th>\n",
       "      <th>age</th>\n",
       "      <th>department</th>\n",
       "      <th>salary</th>\n",
       "      <th>date</th>\n",
       "      <th>email</th>\n",
       "    </tr>\n",
       "  </thead>\n",
       "  <tbody>\n",
       "    <tr>\n",
       "      <th>0</th>\n",
       "      <td>John Doe</td>\n",
       "      <td>28</td>\n",
       "      <td>HR</td>\n",
       "      <td>50000</td>\n",
       "      <td>2023-01-15</td>\n",
       "      <td>john.doe@email.com</td>\n",
       "    </tr>\n",
       "    <tr>\n",
       "      <th>2</th>\n",
       "      <td>Bob Jones</td>\n",
       "      <td>45</td>\n",
       "      <td>hr</td>\n",
       "      <td>75000</td>\n",
       "      <td>2023-03-20</td>\n",
       "      <td>bob.jones@email.com</td>\n",
       "    </tr>\n",
       "    <tr>\n",
       "      <th>3</th>\n",
       "      <td>Alice Brown</td>\n",
       "      <td>32</td>\n",
       "      <td>Information Technology</td>\n",
       "      <td>55000</td>\n",
       "      <td>2023-04-05</td>\n",
       "      <td>alice.brown@email.com</td>\n",
       "    </tr>\n",
       "    <tr>\n",
       "      <th>4</th>\n",
       "      <td>John Doe</td>\n",
       "      <td>28</td>\n",
       "      <td>HR</td>\n",
       "      <td>50000</td>\n",
       "      <td>2023-01-15</td>\n",
       "      <td>john.doe@email.com</td>\n",
       "    </tr>\n",
       "    <tr>\n",
       "      <th>5</th>\n",
       "      <td>Tom Wilson</td>\n",
       "      <td>50</td>\n",
       "      <td>Finance</td>\n",
       "      <td>120000</td>\n",
       "      <td>2023-05-12</td>\n",
       "      <td>tom.wilson@email.com</td>\n",
       "    </tr>\n",
       "    <tr>\n",
       "      <th>6</th>\n",
       "      <td>Sara Lee</td>\n",
       "      <td>29</td>\n",
       "      <td>HR</td>\n",
       "      <td>65000</td>\n",
       "      <td>2023-06-18</td>\n",
       "      <td>sara.lee@email.com</td>\n",
       "    </tr>\n",
       "    <tr>\n",
       "      <th>7</th>\n",
       "      <td>Mike Chen</td>\n",
       "      <td>35</td>\n",
       "      <td>IT</td>\n",
       "      <td>80000</td>\n",
       "      <td>invalid_date</td>\n",
       "      <td>mike.chen@email.com</td>\n",
       "    </tr>\n",
       "    <tr>\n",
       "      <th>8</th>\n",
       "      <td>Emma Davis</td>\n",
       "      <td>60</td>\n",
       "      <td>Finance</td>\n",
       "      <td>200000</td>\n",
       "      <td>2023-07-22</td>\n",
       "      <td>emma.davis@email.com</td>\n",
       "    </tr>\n",
       "    <tr>\n",
       "      <th>9</th>\n",
       "      <td>Lisa Ray</td>\n",
       "      <td>27</td>\n",
       "      <td>HR</td>\n",
       "      <td>52000</td>\n",
       "      <td>2023-08-10</td>\n",
       "      <td>lisa.ray@email.com</td>\n",
       "    </tr>\n",
       "  </tbody>\n",
       "</table>\n",
       "</div>"
      ],
      "text/plain": [
       "          name  age              department  salary          date  \\\n",
       "0     John Doe   28                      HR   50000    2023-01-15   \n",
       "2    Bob Jones   45                      hr   75000    2023-03-20   \n",
       "3  Alice Brown   32  Information Technology   55000    2023-04-05   \n",
       "4     John Doe   28                      HR   50000    2023-01-15   \n",
       "5   Tom Wilson   50                 Finance  120000    2023-05-12   \n",
       "6     Sara Lee   29                      HR   65000    2023-06-18   \n",
       "7    Mike Chen   35                      IT   80000  invalid_date   \n",
       "8   Emma Davis   60                 Finance  200000    2023-07-22   \n",
       "9     Lisa Ray   27                     HR    52000    2023-08-10   \n",
       "\n",
       "                   email   \n",
       "0     john.doe@email.com   \n",
       "2     bob.jones@email.com  \n",
       "3  alice.brown@email.com   \n",
       "4     john.doe@email.com   \n",
       "5   tom.wilson@email.com   \n",
       "6     sara.lee@email.com   \n",
       "7    mike.chen@email.com   \n",
       "8   emma.davis@email.com   \n",
       "9      lisa.ray@email.com  "
      ]
     },
     "execution_count": 109,
     "metadata": {},
     "output_type": "execute_result"
    }
   ],
   "source": [
    "df"
   ]
  },
  {
   "cell_type": "code",
   "execution_count": 111,
   "id": "b7173430-864e-465c-bee3-bf47d5da710d",
   "metadata": {},
   "outputs": [
    {
     "name": "stdout",
     "output_type": "stream",
     "text": [
      "0    False\n",
      "2    False\n",
      "3    False\n",
      "4     True\n",
      "5    False\n",
      "6    False\n",
      "7    False\n",
      "8    False\n",
      "9    False\n",
      "dtype: bool\n"
     ]
    }
   ],
   "source": [
    "duplicates = df.duplicated()\n",
    "print(duplicates)"
   ]
  },
  {
   "cell_type": "code",
   "execution_count": 113,
   "id": "62cb246f-778f-432b-9818-4d6bede794ce",
   "metadata": {},
   "outputs": [
    {
     "name": "stdout",
     "output_type": "stream",
     "text": [
      "          name  age              department  salary          date  \\\n",
      "0     John Doe   28                      HR   50000    2023-01-15   \n",
      "2    Bob Jones   45                      hr   75000    2023-03-20   \n",
      "3  Alice Brown   32  Information Technology   55000    2023-04-05   \n",
      "5   Tom Wilson   50                 Finance  120000    2023-05-12   \n",
      "6     Sara Lee   29                      HR   65000    2023-06-18   \n",
      "7    Mike Chen   35                      IT   80000  invalid_date   \n",
      "8   Emma Davis   60                 Finance  200000    2023-07-22   \n",
      "9     Lisa Ray   27                     HR    52000    2023-08-10   \n",
      "\n",
      "                   email   \n",
      "0     john.doe@email.com   \n",
      "2     bob.jones@email.com  \n",
      "3  alice.brown@email.com   \n",
      "5   tom.wilson@email.com   \n",
      "6     sara.lee@email.com   \n",
      "7    mike.chen@email.com   \n",
      "8   emma.davis@email.com   \n",
      "9      lisa.ray@email.com  \n"
     ]
    }
   ],
   "source": [
    "df_no_duplicates = df.drop_duplicates()\n",
    "print(df_no_duplicates)"
   ]
  },
  {
   "cell_type": "code",
   "execution_count": 119,
   "id": "83708d4e-a9ae-441d-b46f-1b3d4518f5fc",
   "metadata": {},
   "outputs": [],
   "source": [
    "df_2 = pd.DataFrame({\n",
    "    'name': ['Alice', 'Bob', 'Charlie', 'David'],\n",
    "    'age': [25, 30, 30, 35],\n",
    "    'salary': [50000, 60000, None, 80000]\n",
    "})"
   ]
  },
  {
   "cell_type": "code",
   "execution_count": 125,
   "id": "083a8d19-771d-431c-b952-905e9da51845",
   "metadata": {},
   "outputs": [
    {
     "name": "stdout",
     "output_type": "stream",
     "text": [
      "age          120.0\n",
      "salary    190000.0\n",
      "dtype: float64\n"
     ]
    }
   ],
   "source": [
    "sum_stats = df_2[[\"age\" ,\"salary\"]].sum()\n",
    "print(sum_stats)"
   ]
  },
  {
   "cell_type": "code",
   "execution_count": 129,
   "id": "e4fef620-2636-4c12-bbfd-788b61f6e453",
   "metadata": {},
   "outputs": [
    {
     "name": "stdout",
     "output_type": "stream",
     "text": [
      "age          30.000000\n",
      "salary    63333.333333\n",
      "dtype: float64\n"
     ]
    }
   ],
   "source": [
    "mean_stats = df_2[[\"age\" , \"salary\"]].mean()\n",
    "print(mean_stats)"
   ]
  },
  {
   "cell_type": "code",
   "execution_count": 131,
   "id": "fc57d5d9-029f-483d-b345-723eebdb41a6",
   "metadata": {},
   "outputs": [
    {
     "name": "stdout",
     "output_type": "stream",
     "text": [
      "age          30.0\n",
      "salary    60000.0\n",
      "dtype: float64\n"
     ]
    }
   ],
   "source": [
    "median_stats = df_2[[\"age\" , \"salary\"]].median()\n",
    "print(median_stats)"
   ]
  },
  {
   "cell_type": "code",
   "execution_count": 133,
   "id": "ddbc91ce-4196-4d87-b054-d91021cb988e",
   "metadata": {},
   "outputs": [
    {
     "name": "stdout",
     "output_type": "stream",
     "text": [
      "    age   salary\n",
      "0  30.0  50000.0\n",
      "1   NaN  60000.0\n",
      "2   NaN  80000.0\n"
     ]
    }
   ],
   "source": [
    "mode_stats = df_2[[\"age\" , \"salary\"]].mode()\n",
    "print(mode_stats)"
   ]
  },
  {
   "cell_type": "code",
   "execution_count": 135,
   "id": "f2b3704c-b2bc-4248-85a1-0196b33dbde3",
   "metadata": {},
   "outputs": [
    {
     "name": "stdout",
     "output_type": "stream",
     "text": [
      "Object `mode` not found.\n"
     ]
    }
   ],
   "source": [
    "mode_stats = df_2[[\"age\" , \"salary\"]].mode()"
   ]
  },
  {
   "cell_type": "code",
   "execution_count": 137,
   "id": "1cd22065-1560-4880-8ff8-216ed8d63300",
   "metadata": {},
   "outputs": [
    {
     "data": {
      "text/html": [
       "<div>\n",
       "<style scoped>\n",
       "    .dataframe tbody tr th:only-of-type {\n",
       "        vertical-align: middle;\n",
       "    }\n",
       "\n",
       "    .dataframe tbody tr th {\n",
       "        vertical-align: top;\n",
       "    }\n",
       "\n",
       "    .dataframe thead th {\n",
       "        text-align: right;\n",
       "    }\n",
       "</style>\n",
       "<table border=\"1\" class=\"dataframe\">\n",
       "  <thead>\n",
       "    <tr style=\"text-align: right;\">\n",
       "      <th></th>\n",
       "      <th>age</th>\n",
       "      <th>salary</th>\n",
       "    </tr>\n",
       "  </thead>\n",
       "  <tbody>\n",
       "    <tr>\n",
       "      <th>count</th>\n",
       "      <td>4.000000</td>\n",
       "      <td>3.000000</td>\n",
       "    </tr>\n",
       "    <tr>\n",
       "      <th>mean</th>\n",
       "      <td>30.000000</td>\n",
       "      <td>63333.333333</td>\n",
       "    </tr>\n",
       "    <tr>\n",
       "      <th>std</th>\n",
       "      <td>4.082483</td>\n",
       "      <td>15275.252317</td>\n",
       "    </tr>\n",
       "    <tr>\n",
       "      <th>min</th>\n",
       "      <td>25.000000</td>\n",
       "      <td>50000.000000</td>\n",
       "    </tr>\n",
       "    <tr>\n",
       "      <th>25%</th>\n",
       "      <td>28.750000</td>\n",
       "      <td>55000.000000</td>\n",
       "    </tr>\n",
       "    <tr>\n",
       "      <th>50%</th>\n",
       "      <td>30.000000</td>\n",
       "      <td>60000.000000</td>\n",
       "    </tr>\n",
       "    <tr>\n",
       "      <th>75%</th>\n",
       "      <td>31.250000</td>\n",
       "      <td>70000.000000</td>\n",
       "    </tr>\n",
       "    <tr>\n",
       "      <th>max</th>\n",
       "      <td>35.000000</td>\n",
       "      <td>80000.000000</td>\n",
       "    </tr>\n",
       "  </tbody>\n",
       "</table>\n",
       "</div>"
      ],
      "text/plain": [
       "             age        salary\n",
       "count   4.000000      3.000000\n",
       "mean   30.000000  63333.333333\n",
       "std     4.082483  15275.252317\n",
       "min    25.000000  50000.000000\n",
       "25%    28.750000  55000.000000\n",
       "50%    30.000000  60000.000000\n",
       "75%    31.250000  70000.000000\n",
       "max    35.000000  80000.000000"
      ]
     },
     "execution_count": 137,
     "metadata": {},
     "output_type": "execute_result"
    }
   ],
   "source": [
    "df_2.describe()"
   ]
  },
  {
   "cell_type": "code",
   "execution_count": null,
   "id": "da584bbb-2385-41c8-a1c8-c6b95ab6c6d3",
   "metadata": {},
   "outputs": [],
   "source": []
  }
 ],
 "metadata": {
  "kernelspec": {
   "display_name": "Python (myenv)",
   "language": "python",
   "name": "myenv"
  },
  "language_info": {
   "codemirror_mode": {
    "name": "ipython",
    "version": 3
   },
   "file_extension": ".py",
   "mimetype": "text/x-python",
   "name": "python",
   "nbconvert_exporter": "python",
   "pygments_lexer": "ipython3",
   "version": "3.11.7"
  }
 },
 "nbformat": 4,
 "nbformat_minor": 5
}
