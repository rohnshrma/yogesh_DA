{
 "cells": [
  {
   "cell_type": "code",
   "execution_count": 2,
   "id": "7cf8d01f-ede9-4498-934e-6c66d572b1a8",
   "metadata": {},
   "outputs": [],
   "source": [
    "#, let’s build a simple calculator! 🧮\n",
    "\n",
    "# 1. Print a message to tell user this calculator does +, -, *, / and ‘q’ to stop\n",
    "\n",
    "#    Write smth like “Simple Calculator: Use +, -, *, / or q to stop”\n",
    "\n",
    "#    Like tellin’ “Bhai, yeh machine in cheezon ke liye hai”\n",
    "\n",
    "# 2. Create a variable `start` and set it to ‘y’\n",
    "\n",
    "#    Think of `start` as a switch – ‘y’ means calculator is ON\n",
    "\n",
    "#    Like kickstartin’ your bike before ridin’\n",
    "\n",
    "# 3. Make a `while` loop that runs while `start` is ‘y’\n",
    "\n",
    "#    This loop keeps the calculator goin’ till user wants to quit\n",
    "\n",
    "#    Like sittin’ at a shop, waitin’ for customers till you’re done\n",
    "\n",
    "\n",
    "# 4. Inside the loop, ask for first number\n",
    "\n",
    "#    Print “Enter first number: ” and save what user types in a variable (like `num1`)\n",
    "\n",
    "#    Like askin’ “Bhai, pehla number bol na?”\n",
    "\n",
    "\n",
    "# 5. Check if `num1` is ‘q’\n",
    "#    If it’s ‘q’, print “Calculator stopping!” and set `start` to ‘n’\n",
    "\n",
    "#    Settin’ `start` to ‘n’ turns off the loop, like closin’ shop\n",
    "#    Like “Bas, bandh karo!”\n",
    "\n",
    "# 6. If `num1` is not ‘q’, ask for operator (+, -, *, /)\n",
    "\n",
    "#    Print “Enter operator (+, -, *, /): ” and save it in a variable (like `op`)\n",
    "\n",
    "#    Like askin’ “Ab kya karna? Jodna, ghataana, guna, ya bhag?”\n",
    "\n",
    "# 7. Check if `op` is wrong (not +, -, *, or /)\n",
    "#    If `op` is not ‘+’ and not ‘-’ and not ‘*’ and not ‘/’, print “Use +, -, *, or / only!”\n",
    "\n",
    "#    After printin’ error, don’t do anythin’ else in this loop – just let it loop back\n",
    "\n",
    "#    Like sayin’ “Bhai, galat bola, sahi operator do!” and waitin’ for next try\n",
    "\n",
    "# 8. If `op` is one of +, -, *, or /, ask for second number\n",
    "\n",
    "#    Print “Enter second number: ” and save it in a variable (like `num2`)\n",
    "\n",
    "#    Like “Ab doosra number bol!”\n",
    "\n",
    "# 9. If `num2` is ‘q’, print “Calculator stopping!” and set `start` to ‘n’\n",
    "\n",
    "#    This stops the loop, like turnin’ off the machine\n",
    "\n",
    "# 10. If `num2` is not ‘q’, convert `num1` and `num2` to numbers\n",
    "\n",
    "#     Use `float(num1)` and `float(num2)` to make ‘em ready for math\n",
    "\n",
    "#     Like turnin’ “5” and “2” into real numbers for calculatin’\n",
    "\n",
    "# 11. If `op` is ‘+’, add `num1` and `num2`\n",
    "\n",
    "#     Save result in a variable (like `answer`) and print “Answer: [answer]”\n",
    "\n",
    "#     Like “5 + 2 = 7, yeh hai jawab!”\n",
    "\n",
    "# 12. If `op` is ‘-’, subtract `num2` from `num1`\n",
    "\n",
    "#     Save result and print “Answer: [answer]”\n",
    "#     Like “5 - 2 = 3, done!”\n",
    "\n",
    "# 13. If `op` is ‘*’, multiply `num1` and `num2`\n",
    "\n",
    "#     Save result and print “Answer: [answer]”\n",
    "\n",
    "#     Like “5 * 2 = 10, ho gaya!”\n",
    "\n",
    "# 14. If `op` is ‘/’, check if `num2` is 0\n",
    "\n",
    "#     Gotta make sure we don’t divide by zero, it’s not possible\n",
    "\n",
    "#     Like tryin’ to split 10 rotis with 0 people – nahi hoga!\n",
    "\n",
    "# 15. If `num2` is 0 and `op` is ‘/’, print “Cannot divide by zero!”\n",
    "\n",
    "#     Don’t do math, just show this error\n",
    "\n",
    "#     Like “Bhai, zero se bhag nahi ho sakta!”\n",
    "\n",
    "# 16. If `op` is ‘/’ and `num2` is not 0, divide `num1` by `num2`\n",
    "\n",
    "#     Save result and print “Answer: [answer]”\n",
    "\n",
    "#     Like “10 / 2 = 5, yeh hai!”\n"
   ]
  },
  {
   "cell_type": "code",
   "execution_count": 10,
   "id": "6d3cdcaf-675b-405d-87e8-f919aac817c7",
   "metadata": {},
   "outputs": [
    {
     "name": "stdout",
     "output_type": "stream",
     "text": [
      "Welcome to the Calculator\n",
      "you can do + , - , / , % , **  and q for quit\n"
     ]
    },
    {
     "name": "stdin",
     "output_type": "stream",
     "text": [
      "Enter operator :  =\n",
      "Enter number 1 :  34\n",
      "Enter number 2 :  56\n",
      "Enter operator :  q\n"
     ]
    }
   ],
   "source": [
    "print(\"Welcome to the Calculator\\nyou can do + , - , / , % , **  and q for quit\")\n",
    "start = \"y\"\n",
    "while start == \"y\":\n",
    "    op = input(\"Enter operator : \")\n",
    "    \n",
    "    if op == \"q\":\n",
    "        break\n",
    "\n",
    "    num1 = int(input(\"Enter number 1 : \"))\n",
    "    num2 = int(input(\"Enter number 2 : \"))\n",
    "   \n",
    "\n",
    "    if op == \"+\":\n",
    "        print(num1 + num2)\n",
    "\n",
    "    \n",
    "    if op == \"-\":\n",
    "        print(num1 - num2)\n",
    "\n",
    "    \n",
    "    if op == \"*\":\n",
    "        print(num1 * num2)\n",
    "\n",
    "    \n",
    "    if op == \"/\":\n",
    "        print(num1 / num2)\n",
    "\n",
    "    \n",
    "    if op == \"%\":\n",
    "        print(num1 % num2)\n",
    "\n",
    "    \n",
    "    if op == \"**\":\n",
    "        print(num1 ** num2)\n",
    "\n",
    "    "
   ]
  },
  {
   "cell_type": "code",
   "execution_count": null,
   "id": "2e39f8d9-0428-4830-9ac9-c7f7110403d2",
   "metadata": {},
   "outputs": [],
   "source": []
  },
  {
   "cell_type": "code",
   "execution_count": null,
   "id": "917d6948-a282-4afd-8323-39932c959fe9",
   "metadata": {},
   "outputs": [],
   "source": []
  },
  {
   "cell_type": "code",
   "execution_count": 14,
   "id": "f4467ff2-c448-4eab-9049-f3e03452e6c9",
   "metadata": {},
   "outputs": [
    {
     "ename": "NameError",
     "evalue": "name 'sale' is not defined",
     "output_type": "error",
     "traceback": [
      "\u001b[0;31m---------------------------------------------------------------------------\u001b[0m",
      "\u001b[0;31mNameError\u001b[0m                                 Traceback (most recent call last)",
      "Cell \u001b[0;32mIn[14], line 1\u001b[0m\n\u001b[0;32m----> 1\u001b[0m sale\n",
      "\u001b[0;31mNameError\u001b[0m: name 'sale' is not defined"
     ]
    }
   ],
   "source": [
    "\n",
    "# Loop through a list of item prices; apply 10% discount if price > $50, 5% if $20-$50, else no discount\n",
    "# Input: prices (list of floats)\n",
    "# Output: total discounted price (float)\n",
    "\n",
    "# Task 2: Create a function to count open restaurants in a list based on current hour\n",
    "# Loop through a list of restaurant closing hours; check if current hour is before closing and not before 9 AM\n",
    "# Input: closing_hours (list of ints, 0-23), current_hour (int)\n",
    "# Output: number of open restaurants (int)\n",
    "\n",
    "# Task 3: Write a function to assign delivery zones based on distances\n",
    "# Loop through a list of delivery distances; assign \"Zone A\" (< 5km), \"Zone B\" (5-10km), or \"Zone C\" (>10km)\n",
    "# Input: distances (list of floats)\n",
    "# Output: list of zone assignments (list of strings)\n",
    "\n",
    "# Task 4: Create a function to validate and count valid phone numbers in a list\n",
    "# Loop through a list of phone numbers; check if each is 10 digits and starts with 6, 7, 8, or 9\n",
    "# Input: phone_numbers (list of strings)\n",
    "# Output: count of valid phone numbers (int)\n",
    "\n",
    "# Task 5: Write a function to calculate total cost of a meal plan\n",
    "# Loop through a list of meal prices; apply 15% discount if meal is vegetarian, 5% if non-vegetarian, else full price\n",
    "# Input: meal_prices (list of floats), is_vegetarian (list of booleans)\n",
    "# Output: total cost (float)\n",
    "\n",
    "# Task 6: Create a function to simulate a ticket booking system\n",
    "# Loop through a list of requested seats; check if seat number is available (1-50) and not already booked\n",
    "# Input: requested_seats (list of ints), booked_seats (list of ints)\n",
    "# Output: list of successfully booked seats (list of ints)\n",
    "\n",
    "# Task 7: Write a function to categorize daily temperatures in a week\n",
    "# Loop through a list of temperatures; classify as \"Cold\" (<15°C), \"Mild\" (15-25°C), or \"Hot\" (>25°C)\n",
    "# Input: temperatures (list of floats)\n",
    "# Output: dictionary with counts of each category (dict)\n",
    "\n",
    "# Task 8: Create a function to process a queue of customer orders\n",
    "# Loop through a list of order amounts; apply $5 discount if order > $30, reject if order < $10\n",
    "# Input: order_amounts (list of floats)\n",
    "# Output: total revenue after processing valid orders (float)\n",
    "\n",
    "# Task 9: Write a function to simulate a library fine calculator\n",
    "# Loop through a list of book return delays (days); charge $1/day for 1-7 days, $2/day for 8-14 days, $5/day for >14 days\n",
    "# Input: delays (list of ints)\n",
    "# Output: total fine amount (float)\n",
    "\n",
    "# Task 10: Create a function to check inventory stock levels\n",
    "# Loop through a list of product quantities; categorize as \"Restock\" (<10), \"Adequate\" (10-50), or \"Overstock\" (>50)\n",
    "# Input: quantities (list of ints)\n",
    "# Output: list of stock status for each product (list of strings)"
   ]
  },
  {
   "cell_type": "code",
   "execution_count": 16,
   "id": "2e0b0726-2a6f-4e88-b9c7-e3a736243d89",
   "metadata": {},
   "outputs": [],
   "source": [
    "# Loop through a list of item prices; apply 10% discount if price > $50, 5% if $20-$50, else no discount\n",
    "# Input: prices (list of floats)\n",
    "# Output: total discounted price (float)"
   ]
  },
  {
   "cell_type": "code",
   "execution_count": 18,
   "id": "b5877653-6e6e-4082-bb56-f9154cf04faf",
   "metadata": {},
   "outputs": [],
   "source": [
    "def discountedTotal(prices):\n",
    "    total = 0.0\n",
    "    for price in prices:\n",
    "        if price > 50:\n",
    "            total +=  ( price - price * 10 / 100)\n",
    "        elif price >= 20 and price <= 50:\n",
    "            total +=  ( price - price * 5 / 100)\n",
    "        else:\n",
    "            total += price\n",
    "\n",
    "    print(total)"
   ]
  },
  {
   "cell_type": "code",
   "execution_count": 20,
   "id": "afc64c62-3be2-4844-91dc-5948c97a062d",
   "metadata": {},
   "outputs": [
    {
     "name": "stdout",
     "output_type": "stream",
     "text": [
      "78550.25\n"
     ]
    }
   ],
   "source": [
    "discountedTotal([23,34,2,4,3,2,43534,2,4,323,43342])"
   ]
  },
  {
   "cell_type": "code",
   "execution_count": 22,
   "id": "dd9d279a-f298-45df-b2fd-c8bc6b2f3abf",
   "metadata": {},
   "outputs": [],
   "source": [
    "# Task 2: Create a function to count open restaurants in a list based on current hour\n",
    "# Loop through a list of restaurant closing hours; check if current hour is before closing and not before 9 AM\n",
    "# Input: closing_hours (list of ints, 0-23), current_hour (int)\n",
    "# Output: number of open restaurants (int)"
   ]
  },
  {
   "cell_type": "code",
   "execution_count": 28,
   "id": "9b577f3c-1997-42b1-8fbb-1501b7e2635f",
   "metadata": {},
   "outputs": [],
   "source": [
    "def openRest(closing_hours , currentHour):\n",
    "    openRes = 0\n",
    "    for hour in closing_hours:\n",
    "        if currentHour >= 9 and currentHour <= hour:\n",
    "            openRes+=1\n",
    "    print(f\"number of open restaurants {openRes}\")"
   ]
  },
  {
   "cell_type": "code",
   "execution_count": 30,
   "id": "e663f9a1-57b0-4489-82a1-8325d042bc8e",
   "metadata": {},
   "outputs": [
    {
     "name": "stdout",
     "output_type": "stream",
     "text": [
      "number of open restaurants 2\n"
     ]
    }
   ],
   "source": [
    "openRest([10,18,23,8] , 12)"
   ]
  },
  {
   "cell_type": "code",
   "execution_count": 32,
   "id": "71085fc7-57f3-46b8-b405-ab9beac0c705",
   "metadata": {},
   "outputs": [],
   "source": [
    "# Task 3: Write a function to assign delivery zones based on distances\n",
    "# Loop through a list of delivery distances; assign \"Zone A\" (< 5km), \"Zone B\" (5-10km), or \"Zone C\" (>10km)\n",
    "# Input: distances (list of floats)\n",
    "# Output: list of zone assignments (list of strings)\n"
   ]
  },
  {
   "cell_type": "code",
   "execution_count": 40,
   "id": "8cebad17-92cb-4dff-ad67-a40310402019",
   "metadata": {},
   "outputs": [],
   "source": [
    "def filterZones(distances):\n",
    "    zones = []\n",
    "    for distance in distances:\n",
    "        if distance < 5:\n",
    "            zones.append(\"Zone A\")\n",
    "        elif distance >= 5 and distance >= 10:\n",
    "            zones.append(\"Zone B\")\n",
    "        else:\n",
    "            zones.append(\"Zone C\")\n",
    "    print(zones)"
   ]
  },
  {
   "cell_type": "code",
   "execution_count": 42,
   "id": "cd2d5bcd-f02b-4cd7-850a-756625897054",
   "metadata": {},
   "outputs": [
    {
     "name": "stdout",
     "output_type": "stream",
     "text": [
      "['Zone A', 'Zone B', 'Zone B', 'Zone B', 'Zone A', 'Zone B']\n"
     ]
    }
   ],
   "source": [
    "filterZones([4,23,45,23,2,31])"
   ]
  },
  {
   "cell_type": "code",
   "execution_count": null,
   "id": "e51322e4-b67e-4596-8af5-dd48ce490473",
   "metadata": {},
   "outputs": [],
   "source": []
  },
  {
   "cell_type": "code",
   "execution_count": 57,
   "id": "98309393-be64-41c1-ae8f-a0c580482068",
   "metadata": {},
   "outputs": [],
   "source": [
    "# Task 4: Create a function to validate and count valid phone numbers in a list\n",
    "# Loop through a list of phone numbers; check if each is 10 digits and starts with 6, 7, 8, or 9\n",
    "# Input: phone_numbers (list of strings)\n",
    "# Output: count of valid phone numbers (int)\n",
    "\n",
    "def validateNumbers(mobile_numbers):\n",
    "\n",
    "    str_numbers = []\n",
    "    validNumbers = 0\n",
    "    \n",
    "    for n in mobile_numbers:\n",
    "        str_numbers.append(str(n))\n",
    "    \n",
    "    \n",
    "    for number in str_numbers:\n",
    "        if len(number) == 10 and number[0] in [\"6\",\"7\",\"8\",\"9\"]:\n",
    "            validNumbers += 1\n",
    "    print(validNumbers)\n"
   ]
  },
  {
   "cell_type": "code",
   "execution_count": 59,
   "id": "8309e7ca-5535-400e-9f5f-373917928cc1",
   "metadata": {},
   "outputs": [
    {
     "name": "stdout",
     "output_type": "stream",
     "text": [
      "2\n"
     ]
    }
   ],
   "source": [
    "validateNumbers([9876543456, 5678765456,8765678765 ,3456787654,8765])"
   ]
  },
  {
   "cell_type": "code",
   "execution_count": 61,
   "id": "a0c24a01-54c6-42f1-9e07-6c986ff1a99d",
   "metadata": {},
   "outputs": [],
   "source": [
    "# Task 5: Write a function to calculate total cost of a meal plan\n",
    "# Loop through a list of meal prices; apply 15% discount if meal is vegetarian, 5% if non-vegetarian, else full price\n",
    "# Input: meal_prices (list of floats), is_vegetarian (list of booleans)\n",
    "# Output: total cost (float)\n"
   ]
  },
  {
   "cell_type": "code",
   "execution_count": 77,
   "id": "8728ace5-c9d9-4697-adf3-4bc5175a966b",
   "metadata": {},
   "outputs": [],
   "source": [
    "# def mealPlan(meal_prices, isVegetarian):\n",
    "\n",
    "#     total = 0\n",
    "    \n",
    "#     if len(meal_prices) == len(isVegetarian) :\n",
    "#         i = 0\n",
    "#         while i < len(meal_prices):\n",
    "\n",
    "#             if isVegetarian[i] == True:\n",
    "#                 total = meal_prices[i] - (meal_prices[i] * 15 / 100)\n",
    "#             else:\n",
    "#                 total = meal_prices[i] - (meal_prices[i] * 5 / 100)\n",
    "#             i+=1\n",
    "#     else:\n",
    "#         print(\"invalid lists\")\n",
    "\n",
    "#     print(total)\n",
    "def mealPlan(meal_prices, isVegetarian):\n",
    "\n",
    "    total = 0\n",
    "    if len(meal_prices) == len(isVegetarian) :\n",
    "        \n",
    "        for price, isVege in zip(meal_prices,isVegetarian):\n",
    "            if isVege == True:\n",
    "                total = price - (price * 15 / 100)\n",
    "            else:\n",
    "                total = price - (price * 5 / 100)\n",
    "        \n",
    "    else:\n",
    "        print(\"invalid lists\")\n",
    "\n",
    "    print(total)"
   ]
  },
  {
   "cell_type": "code",
   "execution_count": 79,
   "id": "2aed4453-dfec-4912-816d-1493b7188422",
   "metadata": {},
   "outputs": [
    {
     "name": "stdout",
     "output_type": "stream",
     "text": [
      "32624.9\n"
     ]
    }
   ],
   "source": [
    "mealPlan([231,3444,3443,23434,34344,2334,334,34342] , [True, False,True,False,True,False,True,False])"
   ]
  },
  {
   "cell_type": "code",
   "execution_count": null,
   "id": "d80fd6df-970b-4691-af29-71d0d06113fe",
   "metadata": {},
   "outputs": [],
   "source": []
  },
  {
   "cell_type": "code",
   "execution_count": null,
   "id": "03b684cc-6c49-4258-bc66-06bdfbc6497d",
   "metadata": {},
   "outputs": [],
   "source": []
  },
  {
   "cell_type": "code",
   "execution_count": 81,
   "id": "aff0a9d6-1edc-493e-8908-952bd62be288",
   "metadata": {},
   "outputs": [],
   "source": [
    "# Task 6: Create a function to simulate a ticket booking system\n",
    "# Loop through a list of requested seats; check if seat number is available (1-50) and not already booked\n",
    "# Input: requested_seats (list of ints), booked_seats (list of ints)\n",
    "# Output: list of successfully booked seats (list of ints)\n"
   ]
  },
  {
   "cell_type": "code",
   "execution_count": 89,
   "id": "c5307357-567e-40d8-a608-0a340674885b",
   "metadata": {},
   "outputs": [],
   "source": [
    "def ticketBooking(requested_seats , booked_seats):\n",
    "    success = []\n",
    "\n",
    "    for req_seat in requested_seats:\n",
    "        if req_seat in range(1,51) and req_seat not in booked_seats:\n",
    "            success.append(req_seat)\n",
    "\n",
    "    print(success)"
   ]
  },
  {
   "cell_type": "code",
   "execution_count": 91,
   "id": "6e060d19-74c7-4ba9-ac7b-96d12e24e643",
   "metadata": {},
   "outputs": [
    {
     "name": "stdout",
     "output_type": "stream",
     "text": [
      "[1, 34, 6, 45]\n"
     ]
    }
   ],
   "source": [
    "ticketBooking([23,1,123,12,34,54,23, 6,45,3,23] , [2,3,22,12,23,54])"
   ]
  },
  {
   "cell_type": "code",
   "execution_count": null,
   "id": "863b2b72-728f-468f-9576-4ebb703775a7",
   "metadata": {},
   "outputs": [],
   "source": []
  },
  {
   "cell_type": "code",
   "execution_count": 94,
   "id": "03ff3698-0fa9-4d1b-8773-e18f11ffea1a",
   "metadata": {},
   "outputs": [],
   "source": [
    "\n",
    "# Task 7: Write a function to categorize daily temperatures in a week\n",
    "# Loop through a list of temperatures; classify as \"Cold\" (<15°C), \"Mild\" (15-25°C), or \"Hot\" (>25°C)\n",
    "# Input: temperatures (list of floats)\n",
    "# Output: dictionary with counts of each category (dict)"
   ]
  },
  {
   "cell_type": "code",
   "execution_count": null,
   "id": "d8c98f7c-9686-483f-aea3-a6985e39f7b8",
   "metadata": {},
   "outputs": [],
   "source": []
  },
  {
   "cell_type": "code",
   "execution_count": 97,
   "id": "df8acb46-bf4d-42bc-bf08-4cf1d677c070",
   "metadata": {},
   "outputs": [],
   "source": [
    "def summTemp (temps):\n",
    "    log = {\n",
    "        \"cold\" : [],\n",
    "        \"mild\" : [],\n",
    "        \"hot\" : []\n",
    "    }\n",
    "    for temp in temps:\n",
    "        if temp < 15:\n",
    "            log[\"cold\"].append(temp)\n",
    "        elif temp >= 15 and temp <= 25:\n",
    "            log[\"mild\"].append(temp)\n",
    "        else:\n",
    "            log[\"hot\"].append(temp)\n",
    "\n",
    "    print(log)"
   ]
  },
  {
   "cell_type": "code",
   "execution_count": 99,
   "id": "3e6c7bc8-9c75-43e6-a5ea-e9d212c01bbd",
   "metadata": {},
   "outputs": [
    {
     "name": "stdout",
     "output_type": "stream",
     "text": [
      "{'cold': [12, 11, 9], 'mild': [23, 23], 'hot': [34, 34, 56, 78, 34]}\n"
     ]
    }
   ],
   "source": [
    "summTemp([12,34,11,9,34,56,78,34,23,23])"
   ]
  },
  {
   "cell_type": "code",
   "execution_count": null,
   "id": "b8651086-da24-4f47-bb17-2fd1911398c3",
   "metadata": {},
   "outputs": [],
   "source": []
  },
  {
   "cell_type": "code",
   "execution_count": null,
   "id": "ddee4f8c-30ee-4b03-a8ca-0a815bfcd2b9",
   "metadata": {},
   "outputs": [],
   "source": []
  },
  {
   "cell_type": "code",
   "execution_count": 105,
   "id": "e01379a7-30cc-4f65-8e89-21c3b63c581b",
   "metadata": {},
   "outputs": [],
   "source": [
    "# Task 8: Create a function to process a queue of customer orders\n",
    "# Loop through a list of order amounts; apply $5 discount if order > $30, reject if order < $10\n",
    "# Input: order_amounts (list of floats)\n",
    "# Output: total revenue after processing valid orders (float)"
   ]
  },
  {
   "cell_type": "code",
   "execution_count": 123,
   "id": "f15e4bda-2424-4aee-8559-b85c64f014fe",
   "metadata": {},
   "outputs": [
    {
     "name": "stdout",
     "output_type": "stream",
     "text": [
      "145\n"
     ]
    }
   ],
   "source": [
    "# Task 9: Write a function to simulate a library fine calculator\n",
    "# Loop through a list of book return delays (days); charge $1/day for 1-7 days, $2/day for 8-14 days, $5/day for >14 days\n",
    "# Input: delays (list of ints)\n",
    "# Output: total fine amount (float)\n",
    "\n",
    "\n",
    "\n",
    "def total_fine(days):\n",
    "    totalFine = 0\n",
    "    for day in days:\n",
    "        if day >= 1 and day <= 7:\n",
    "            totalFine += (1*day)\n",
    "        elif  day >= 8 and day <= 14:\n",
    "            totalFine += (2*day)\n",
    "\n",
    "        else:\n",
    "            totalFine += (5*day)\n",
    "\n",
    "    print(totalFine)\n",
    "total_fine([6,12,23])"
   ]
  },
  {
   "cell_type": "code",
   "execution_count": 115,
   "id": "c06079b8-49af-4a1d-9cf7-8dc5ebb3595d",
   "metadata": {},
   "outputs": [],
   "source": [
    "# Task 10: Create a function to check inventory stock levels\n",
    "# Loop through a list of product quantities; categorize as \"Restock\" (<10), \"Adequate\" (10-50), or \"Overstock\" (>50)\n",
    "# Input: quantities (list of ints)\n",
    "# Output: list of stock status for each product (list of strings)\n",
    "\n",
    "\n",
    "def inLevel(inventory):\n",
    "    status = []\n",
    "    for level in inventory:\n",
    "        if level < 10:\n",
    "            status.append(\"Restock\")\n",
    "        elif level >= 10 and level <= 50:\n",
    "            status.append(\"Adequate\")\n",
    "        else:\n",
    "            status.append(\"OverStock\")\n",
    "    print(status)"
   ]
  },
  {
   "cell_type": "code",
   "execution_count": 117,
   "id": "676598fd-3adb-456f-ae4a-fa8952337d59",
   "metadata": {},
   "outputs": [
    {
     "name": "stdout",
     "output_type": "stream",
     "text": [
      "['Adequate', 'Adequate', 'Adequate', 'OverStock', 'Adequate', 'Adequate', 'OverStock']\n"
     ]
    }
   ],
   "source": [
    "inLevel([34,12,23,445,23,12,67])"
   ]
  },
  {
   "cell_type": "code",
   "execution_count": null,
   "id": "8276c7b7-61e2-44f3-8f4e-7b3b5091d77a",
   "metadata": {},
   "outputs": [],
   "source": []
  }
 ],
 "metadata": {
  "kernelspec": {
   "display_name": "Python (myenv)",
   "language": "python",
   "name": "myenv"
  },
  "language_info": {
   "codemirror_mode": {
    "name": "ipython",
    "version": 3
   },
   "file_extension": ".py",
   "mimetype": "text/x-python",
   "name": "python",
   "nbconvert_exporter": "python",
   "pygments_lexer": "ipython3",
   "version": "3.11.7"
  }
 },
 "nbformat": 4,
 "nbformat_minor": 5
}
