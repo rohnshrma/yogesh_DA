{
 "cells": [
  {
   "cell_type": "code",
   "execution_count": 29,
   "id": "dd220067-ae0f-4f01-b334-4a7226803353",
   "metadata": {},
   "outputs": [
    {
     "name": "stdout",
     "output_type": "stream",
     "text": [
      "10\n",
      "30\n",
      "25\n",
      "50\n",
      "2\n",
      "4\n",
      "1\n"
     ]
    }
   ],
   "source": [
    "# assignment operators\n",
    "a = 10 # assignment\n",
    "\n",
    "# a = a + 20\n",
    "print(a)\n",
    "\n",
    "a += 20 # add and assign\n",
    "\n",
    "print(a)\n",
    "\n",
    "a -= 5 # subtract and assign\n",
    "\n",
    "print(a)\n",
    "\n",
    "a *= 2 # multiply and assign\n",
    "print(a)\n",
    "\n",
    "# a /= 3 # quotient and assign\n",
    "# print(a)\n",
    "\n",
    "a %= 3 # remainder and assign\n",
    "print(a)\n",
    "\n",
    "a **= 2 # exponential and assign\n",
    "print(a)\n",
    "\n",
    "a //= 3\n",
    "print(a)"
   ]
  },
  {
   "cell_type": "code",
   "execution_count": null,
   "id": "ce5cb145-b7f1-4e23-8e1d-4a2f98c89679",
   "metadata": {},
   "outputs": [],
   "source": [
    "\n"
   ]
  },
  {
   "cell_type": "code",
   "execution_count": null,
   "id": "3ff5d8b2-b7d9-4f45-9461-602bc587de89",
   "metadata": {},
   "outputs": [],
   "source": []
  }
 ],
 "metadata": {
  "kernelspec": {
   "display_name": "Python (myenv)",
   "language": "python",
   "name": "myenv"
  },
  "language_info": {
   "codemirror_mode": {
    "name": "ipython",
    "version": 3
   },
   "file_extension": ".py",
   "mimetype": "text/x-python",
   "name": "python",
   "nbconvert_exporter": "python",
   "pygments_lexer": "ipython3",
   "version": "3.11.7"
  }
 },
 "nbformat": 4,
 "nbformat_minor": 5
}
