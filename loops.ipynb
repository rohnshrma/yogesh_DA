{
 "cells": [
  {
   "cell_type": "code",
   "execution_count": 22,
   "id": "14675a01-7eaf-4480-bac3-8891526da1e8",
   "metadata": {},
   "outputs": [
    {
     "name": "stdout",
     "output_type": "stream",
     "text": [
      "1\n",
      "2\n",
      "Fizz\n",
      "4\n",
      "Buzz\n",
      "Fizz\n",
      "7\n",
      "8\n",
      "Fizz\n",
      "Buzz\n",
      "11\n",
      "Fizz\n",
      "13\n",
      "14\n",
      "FizzBuzz\n",
      "16\n",
      "17\n",
      "Fizz\n",
      "19\n",
      "Buzz\n",
      "Fizz\n",
      "22\n",
      "23\n",
      "Fizz\n",
      "Buzz\n",
      "26\n",
      "Fizz\n",
      "28\n",
      "29\n",
      "FizzBuzz\n",
      "31\n",
      "32\n",
      "Fizz\n",
      "34\n",
      "Buzz\n",
      "Fizz\n",
      "37\n",
      "38\n",
      "Fizz\n",
      "Buzz\n",
      "41\n",
      "Fizz\n",
      "43\n",
      "44\n",
      "FizzBuzz\n",
      "46\n",
      "47\n",
      "Fizz\n",
      "49\n",
      "Buzz\n",
      "Fizz\n",
      "52\n",
      "53\n",
      "Fizz\n",
      "Buzz\n",
      "56\n",
      "Fizz\n",
      "58\n",
      "59\n",
      "FizzBuzz\n",
      "61\n",
      "62\n",
      "Fizz\n",
      "64\n",
      "Buzz\n",
      "Fizz\n",
      "67\n",
      "68\n",
      "Fizz\n",
      "Buzz\n",
      "71\n",
      "Fizz\n",
      "73\n",
      "74\n",
      "FizzBuzz\n",
      "76\n",
      "77\n",
      "Fizz\n",
      "79\n",
      "Buzz\n",
      "Fizz\n",
      "82\n",
      "83\n",
      "Fizz\n",
      "Buzz\n",
      "86\n",
      "Fizz\n",
      "88\n",
      "89\n",
      "FizzBuzz\n",
      "91\n",
      "92\n",
      "Fizz\n",
      "94\n",
      "Buzz\n",
      "Fizz\n",
      "97\n",
      "98\n",
      "Fizz\n",
      "Buzz\n",
      "1\n",
      "2\n",
      "Fizz\n",
      "4\n",
      "Buzz\n",
      "Fizz\n",
      "7\n",
      "8\n",
      "Fizz\n",
      "Buzz\n",
      "11\n",
      "Fizz\n",
      "13\n",
      "14\n",
      "FizzBuzz\n",
      "16\n",
      "17\n",
      "Fizz\n",
      "19\n",
      "Buzz\n",
      "Fizz\n",
      "22\n",
      "23\n",
      "Fizz\n",
      "Buzz\n",
      "26\n",
      "Fizz\n",
      "28\n",
      "29\n",
      "FizzBuzz\n",
      "31\n",
      "32\n",
      "Fizz\n",
      "34\n",
      "Buzz\n",
      "Fizz\n",
      "37\n",
      "38\n",
      "Fizz\n",
      "Buzz\n",
      "41\n",
      "Fizz\n",
      "43\n",
      "44\n",
      "FizzBuzz\n",
      "46\n",
      "47\n",
      "Fizz\n",
      "49\n",
      "Buzz\n",
      "Fizz\n",
      "52\n",
      "53\n",
      "Fizz\n",
      "Buzz\n",
      "56\n",
      "Fizz\n",
      "58\n",
      "59\n",
      "FizzBuzz\n",
      "61\n",
      "62\n",
      "Fizz\n",
      "64\n",
      "Buzz\n",
      "Fizz\n",
      "67\n",
      "68\n",
      "Fizz\n",
      "Buzz\n",
      "71\n",
      "Fizz\n",
      "73\n",
      "74\n",
      "FizzBuzz\n",
      "76\n",
      "77\n",
      "Fizz\n",
      "79\n",
      "Buzz\n",
      "Fizz\n",
      "82\n",
      "83\n",
      "Fizz\n",
      "Buzz\n",
      "86\n",
      "Fizz\n",
      "88\n",
      "89\n",
      "FizzBuzz\n",
      "91\n",
      "92\n",
      "Fizz\n",
      "94\n",
      "Buzz\n",
      "Fizz\n",
      "97\n",
      "98\n",
      "Fizz\n",
      "Buzz\n"
     ]
    }
   ],
   "source": [
    "# print fizz if the number is divisble by 3\n",
    "# print buzz if the number is divisible by 5\n",
    "# print fizzbuzz if the number is divisble by both 3 and 5\n",
    "# else print number itself\n",
    "\n",
    "# i = 1\n",
    "# while i <= 100:\n",
    "#     if i % 5 == 0 and i % 3 == 0:\n",
    "#         print(\"FizzBuzz\")\n",
    "#     elif i % 5 == 0:\n",
    "#         print(\"Buzz\")\n",
    "#     elif i % 3 == 0:\n",
    "#         print(\"Fizz\")\n",
    "#     else:\n",
    "#         print(i)\n",
    "#     i+=1\n",
    "\n",
    "# for n in range(1,101):\n",
    "#     if n % 5 == 0 and n % 3 == 0:\n",
    "#         print(\"FizzBuzz\")\n",
    "#     elif n % 5 == 0:\n",
    "#         print(\"Buzz\")\n",
    "#     elif n % 3 == 0:\n",
    "#         print(\"Fizz\")\n",
    "#     else:\n",
    "#         print(n)\n",
    "# # \n"
   ]
  },
  {
   "cell_type": "code",
   "execution_count": 24,
   "id": "e2f3aacc-98be-452f-925c-3b2c25e4badd",
   "metadata": {},
   "outputs": [],
   "source": [
    "# 1\n",
    "# 2\n",
    "# fizz\n",
    "# 4\n",
    "# buzz \n",
    "# fizz \n",
    "# 7\n",
    "# 8\n",
    "# fizz \n",
    "# buzz\n",
    "# 11\n",
    "# fizz \n",
    "# 13\n",
    "# 14\n",
    "# fizzbuzz"
   ]
  },
  {
   "cell_type": "code",
   "execution_count": null,
   "id": "925fc231-a0f8-49e8-90ec-7a69edaa8da1",
   "metadata": {},
   "outputs": [],
   "source": []
  },
  {
   "cell_type": "code",
   "execution_count": 31,
   "id": "4e7fe347-29da-4d75-87e3-c7ddafc99b20",
   "metadata": {},
   "outputs": [],
   "source": [
    "# for n in range(1,100):\n",
    "#     print(n)\n",
    "#     if n == 10:\n",
    "#         break"
   ]
  },
  {
   "cell_type": "code",
   "execution_count": 33,
   "id": "3c22641f-c26b-4539-87b3-b61de078d4b2",
   "metadata": {},
   "outputs": [
    {
     "name": "stdout",
     "output_type": "stream",
     "text": [
      "1\n"
     ]
    }
   ],
   "source": [
    "# for n in range(1,100):\n",
    "#     print(n)\n",
    "#     break"
   ]
  },
  {
   "cell_type": "code",
   "execution_count": 37,
   "id": "ed4c469a-366c-4d8f-9df4-97a1e4c19c67",
   "metadata": {},
   "outputs": [
    {
     "name": "stdout",
     "output_type": "stream",
     "text": [
      "1\n",
      "2\n",
      "3\n",
      "4\n",
      "6\n",
      "7\n",
      "8\n",
      "9\n"
     ]
    }
   ],
   "source": [
    "\n",
    "for n in range(1,10):\n",
    "    if n == 5:\n",
    "        continue\n",
    "    print(n)"
   ]
  },
  {
   "cell_type": "code",
   "execution_count": null,
   "id": "5d07a04c-b1ed-4494-aad0-b80111ae41d9",
   "metadata": {},
   "outputs": [],
   "source": []
  },
  {
   "cell_type": "code",
   "execution_count": 42,
   "id": "339b483d-a3aa-4592-9468-4c2c9c2ab989",
   "metadata": {},
   "outputs": [],
   "source": [
    "# Task 1: Skip Even Numbers\n",
    "# Write a program that prints numbers from 1 to 10, but skips even numbers using the continue statement.\n",
    "\n",
    "# Task 2: Stop at a Specific Number\n",
    "# Write a program that prints numbers from 1 to 20, but stops when it reaches 7 using the break statement.\n",
    "\n",
    "# Task 3: Password Attempt Limit\n",
    "# Create a program that asks the user for a password (e.g., \"secret\"). The user has 3 attempts to enter the correct password. Use break to stop the loop if the correct password is entered.\n",
    "\n",
    "# Task 4: Skip Vowels in a String\n",
    "# Write a program that takes a string input and prints each character, but skips vowels (a, e, i, o, u) using continue.\n",
    "\n",
    "# Task 5: Find First Multiple\n",
    "# Write a program that finds the first number between 1 and 50 that is divisible by both 3 and 5, then stops the search using break."
   ]
  },
  {
   "cell_type": "code",
   "execution_count": 56,
   "id": "694bc512-4927-4109-a10d-99c32e209d87",
   "metadata": {},
   "outputs": [],
   "source": [
    "# Task 1: Skip Even Numbers\n",
    "# Write a program that prints numbers from 1 to 10, but skips even numbers using the continue statement.\n",
    "\n",
    "# i = 1\n",
    "# while i <= 10:\n",
    "#     if i % 2 == 0:\n",
    "#         i+=1\n",
    "#         continue\n",
    "#     print(i)\n",
    "#     i+=1\n",
    "\n",
    "\n",
    "# for n in range(1,11):\n",
    "#     if n % 2==0:\n",
    "#         continue\n",
    "#     print(n)"
   ]
  },
  {
   "cell_type": "code",
   "execution_count": 58,
   "id": "73156b68-216c-4249-8a97-725e31a89044",
   "metadata": {},
   "outputs": [],
   "source": [
    "\n",
    "# Task 2: Stop at a Specific Number\n",
    "# Write a program that prints numbers from 1 to 20, but stops when it reaches 7 using the break statement.\n"
   ]
  },
  {
   "cell_type": "code",
   "execution_count": 60,
   "id": "d85fd33a-05ee-43bd-94c2-f7d696c0a9c0",
   "metadata": {},
   "outputs": [
    {
     "name": "stdout",
     "output_type": "stream",
     "text": [
      "1\n",
      "2\n",
      "3\n",
      "4\n",
      "5\n",
      "6\n"
     ]
    }
   ],
   "source": [
    "i = 1\n",
    "while i <= 20:\n",
    "    if i == 7:\n",
    "        break\n",
    "    print(i)\n",
    "    i+=1"
   ]
  },
  {
   "cell_type": "code",
   "execution_count": 62,
   "id": "746910c8-21e7-4f5e-bf8a-d77f0ea6931d",
   "metadata": {},
   "outputs": [
    {
     "name": "stdout",
     "output_type": "stream",
     "text": [
      "1\n",
      "2\n",
      "3\n",
      "4\n",
      "5\n",
      "6\n"
     ]
    }
   ],
   "source": [
    "for n in range(1,21):\n",
    "    if n == 7:\n",
    "        break\n",
    "    print(n)"
   ]
  },
  {
   "cell_type": "code",
   "execution_count": 88,
   "id": "75e4124e-09a4-4661-b2ab-e717a628bdf6",
   "metadata": {},
   "outputs": [],
   "source": [
    "# secret = \"secret\"\n",
    "# guess = input(\"enter your guess : \")\n",
    "# attempts = 2\n",
    "# while attempts>0:\n",
    "#     attempts-=1\n",
    "#     if guess == secret :\n",
    "#         print(\"Correct password\")\n",
    "#         break\n",
    "#     guess = input(\"enter your guess : \")\n",
    "# if attempts == 0 and guess != secret:\n",
    "#     print(\"failed to guess\")"
   ]
  },
  {
   "cell_type": "code",
   "execution_count": 90,
   "id": "2ed14c60-f626-4067-a5a4-02c6b42da338",
   "metadata": {},
   "outputs": [],
   "source": [
    "# while True:\n",
    "#     n = int(input(\"Enter a number : \"))\n",
    "#     if n % 7 == 0:\n",
    "#         break"
   ]
  },
  {
   "cell_type": "code",
   "execution_count": null,
   "id": "5a10d9fe-75a0-4365-beb6-b57fd140b1d7",
   "metadata": {},
   "outputs": [],
   "source": []
  },
  {
   "cell_type": "code",
   "execution_count": null,
   "id": "d209b856-8bc4-4df8-a414-4b845c77dd17",
   "metadata": {},
   "outputs": [],
   "source": []
  },
  {
   "cell_type": "code",
   "execution_count": 116,
   "id": "93b6698f-a9b7-49b4-bc40-a9414050e970",
   "metadata": {},
   "outputs": [
    {
     "name": "stdin",
     "output_type": "stream",
     "text": [
      "Enter your guess :  34\n"
     ]
    },
    {
     "name": "stdout",
     "output_type": "stream",
     "text": [
      "Too Low! Try High!\n"
     ]
    },
    {
     "name": "stdin",
     "output_type": "stream",
     "text": [
      "Enter your guess :  45\n"
     ]
    },
    {
     "name": "stdout",
     "output_type": "stream",
     "text": [
      "Too Low! Try High!\n"
     ]
    },
    {
     "name": "stdin",
     "output_type": "stream",
     "text": [
      "Enter your guess :  89\n"
     ]
    },
    {
     "name": "stdout",
     "output_type": "stream",
     "text": [
      "Too High! Try Low!\n"
     ]
    },
    {
     "name": "stdin",
     "output_type": "stream",
     "text": [
      "Enter your guess :  6\n"
     ]
    },
    {
     "name": "stdout",
     "output_type": "stream",
     "text": [
      "Too Low! Try High!\n"
     ]
    },
    {
     "name": "stdin",
     "output_type": "stream",
     "text": [
      "Enter your guess :  67\n"
     ]
    },
    {
     "name": "stdout",
     "output_type": "stream",
     "text": [
      "Too Low! Try High!\n"
     ]
    },
    {
     "name": "stdin",
     "output_type": "stream",
     "text": [
      "Enter your guess :  70\n"
     ]
    },
    {
     "name": "stdout",
     "output_type": "stream",
     "text": [
      "Too Low! Try High!\n"
     ]
    },
    {
     "name": "stdin",
     "output_type": "stream",
     "text": [
      "Enter your guess :  75\n"
     ]
    },
    {
     "name": "stdout",
     "output_type": "stream",
     "text": [
      "Too Low! Try High!\n"
     ]
    },
    {
     "name": "stdin",
     "output_type": "stream",
     "text": [
      "Enter your guess :  79\n"
     ]
    },
    {
     "name": "stdout",
     "output_type": "stream",
     "text": [
      "Too Low! Try High!\n"
     ]
    },
    {
     "name": "stdin",
     "output_type": "stream",
     "text": [
      "Enter your guess :  80\n"
     ]
    },
    {
     "name": "stdout",
     "output_type": "stream",
     "text": [
      "Too Low! Try High!\n"
     ]
    },
    {
     "name": "stdin",
     "output_type": "stream",
     "text": [
      "Enter your guess :  85\n"
     ]
    },
    {
     "name": "stdout",
     "output_type": "stream",
     "text": [
      "Too Low! Try High!\n"
     ]
    },
    {
     "name": "stdin",
     "output_type": "stream",
     "text": [
      "Enter your guess :  88\n"
     ]
    },
    {
     "name": "stdout",
     "output_type": "stream",
     "text": [
      "Too High! Try Low!\n"
     ]
    },
    {
     "name": "stdin",
     "output_type": "stream",
     "text": [
      "Enter your guess :  87\n"
     ]
    },
    {
     "name": "stdout",
     "output_type": "stream",
     "text": [
      "Too High! Try Low!\n"
     ]
    },
    {
     "name": "stdin",
     "output_type": "stream",
     "text": [
      "Enter your guess :  86\n"
     ]
    },
    {
     "name": "stdout",
     "output_type": "stream",
     "text": [
      "Congratulations! You've guess the correct number 86\n"
     ]
    }
   ],
   "source": [
    "import random\n",
    "secret  = random.randint(1,101)\n",
    "\n",
    "while True:\n",
    "    guess = int(input(\"Enter your guess : \"))\n",
    "    if guess > secret:\n",
    "        print(\"Too High! Try Low!\")\n",
    "    elif guess < secret:\n",
    "        print(\"Too Low! Try High!\")\n",
    "    else:\n",
    "        print(f\"Congratulations! You've guess the correct number {secret}\")\n",
    "        break"
   ]
  },
  {
   "cell_type": "code",
   "execution_count": 118,
   "id": "0060ab45-9871-4b82-b8d7-3d4aae7dd604",
   "metadata": {},
   "outputs": [
    {
     "name": "stdin",
     "output_type": "stream",
     "text": [
      "Enter your guess :  45\n"
     ]
    },
    {
     "name": "stdout",
     "output_type": "stream",
     "text": [
      "Too High! Try Low!\n"
     ]
    },
    {
     "name": "stdin",
     "output_type": "stream",
     "text": [
      "Enter your guess :  10\n"
     ]
    },
    {
     "name": "stdout",
     "output_type": "stream",
     "text": [
      "Too High! Try Low!\n"
     ]
    },
    {
     "name": "stdin",
     "output_type": "stream",
     "text": [
      "Enter your guess :  5\n"
     ]
    },
    {
     "name": "stdout",
     "output_type": "stream",
     "text": [
      "Too High! Try Low!\n"
     ]
    },
    {
     "name": "stdin",
     "output_type": "stream",
     "text": [
      "Enter your guess :  3\n"
     ]
    },
    {
     "name": "stdout",
     "output_type": "stream",
     "text": [
      "Too High! Try Low!\n"
     ]
    },
    {
     "name": "stdin",
     "output_type": "stream",
     "text": [
      "Enter your guess :  2\n"
     ]
    },
    {
     "name": "stdout",
     "output_type": "stream",
     "text": [
      "Congratulations! You've guess the correct number 2 in 5 attempts\n"
     ]
    }
   ],
   "source": [
    "import random\n",
    "secret  = random.randint(1,101)\n",
    "attempts = 0\n",
    "\n",
    "while True:\n",
    "    attempts+=1\n",
    "    guess = int(input(\"Enter your guess : \"))\n",
    "    if guess > secret:\n",
    "        print(\"Too High! Try Low!\")\n",
    "    elif guess < secret:\n",
    "        print(\"Too Low! Try High!\")\n",
    "    else:\n",
    "        print(f\"Congratulations! You've guess the correct number {secret} in {attempts} attempts\")\n",
    "        break"
   ]
  },
  {
   "cell_type": "code",
   "execution_count": null,
   "id": "97db0d98-d537-47a4-83fe-cb98564e66a3",
   "metadata": {},
   "outputs": [],
   "source": []
  },
  {
   "cell_type": "code",
   "execution_count": null,
   "id": "883e131f-1849-47e1-b3e0-1a91d9ac49aa",
   "metadata": {},
   "outputs": [],
   "source": []
  },
  {
   "cell_type": "code",
   "execution_count": null,
   "id": "04d64241-2b8d-4078-a864-42daa30fea6e",
   "metadata": {},
   "outputs": [],
   "source": []
  },
  {
   "cell_type": "code",
   "execution_count": 75,
   "id": "c7c8bc6d-b0d2-44f4-b206-42cef7d151fa",
   "metadata": {},
   "outputs": [
    {
     "name": "stdout",
     "output_type": "stream",
     "text": [
      "120\n"
     ]
    }
   ],
   "source": [
    "# Task 11: Use a for loop to count the number of vowels in a string\n",
    "# Example: text = \"Hello World\" -> Vowel count = 3 (e, o, o)\n",
    "\n",
    "# text = \"hello world\".lower()\n",
    "# vowels = 0\n",
    "# for char in text:\n",
    "#     if char in \"aeiou\":\n",
    "#         vowels += 1\n",
    "\n",
    "# print(vowels)\n",
    "\n",
    "\n",
    "# Task 12: Use a while loop to reverse a list by popping elements and storing in a new list\n",
    "# Example: numbers = [1, 2, 3, 4] -> Reversed = [4, 3, 2, 1]\n",
    "# nums = [1, 2, 3, 4]\n",
    "\n",
    "# rev = []\n",
    "# length = len(nums)\n",
    "# i = 0\n",
    "# while i < length:\n",
    "#     removed_item = nums.pop()\n",
    "#     rev.append(removed_item) \n",
    "#     # print(rev , nums , i)\n",
    "#     i+=1\n",
    "# print(rev)\n",
    "\n",
    "\n",
    "# Task 13: Use a for loop to filter a set and create a new set with elements less than 10\n",
    "# Example: my_set = {5, 12, 8, 15, 3, 9} -> new_set = {5, 8, 3, 9}\n",
    "\n",
    "# Task 14: Use a while loop to find the length of a string until a specific character is encountered\n",
    "# Example: text = \"Python;Code\" -> Stop at ';' -> Length = 6\n",
    "\n",
    "text = \"Python;Code\" \n",
    "# i = 0\n",
    "# lenCount = 0\n",
    "# while i < len(text):\n",
    "    \n",
    "#     if text[i] == \";\":\n",
    "#         break\n",
    "#     else:\n",
    "#         lenCount+=1\n",
    "        \n",
    "#     i+=1\n",
    "\n",
    "# print(lenCount)\n",
    "\n",
    "# Task 15: Use a for loop to calculate the product of all non-zero numbers in a list\n",
    "\n",
    "# Example: numbers = [2, 0, 3, 4, 0, 5] -> Product = 120\n",
    "\n",
    "\n",
    "# product = 1\n",
    "# numbers = [2, 0, 3, 4, 0, 5]\n",
    "# for n in numbers:\n",
    "#     if n != 0:\n",
    "#         product *= n\n",
    "# print(product)"
   ]
  },
  {
   "cell_type": "code",
   "execution_count": 56,
   "id": "14d02b10-e4b2-4e2e-baf7-947c0b643f0c",
   "metadata": {},
   "outputs": [
    {
     "name": "stdout",
     "output_type": "stream",
     "text": [
      "[4, 3, 2, 1]\n"
     ]
    }
   ],
   "source": [
    "\n"
   ]
  },
  {
   "cell_type": "code",
   "execution_count": 97,
   "id": "01e2ec81-d5dc-4135-ae97-f50f835a7c32",
   "metadata": {},
   "outputs": [
    {
     "name": "stdin",
     "output_type": "stream",
     "text": [
      "Enter number -1\n",
      "Enter number -1\n",
      "Enter number -1\n",
      "Enter number -1\n",
      "Enter number -1\n",
      "Enter number -1\n",
      "Enter number 78\n"
     ]
    },
    {
     "name": "stdout",
     "output_type": "stream",
     "text": [
      "78\n"
     ]
    },
    {
     "name": "stdin",
     "output_type": "stream",
     "text": [
      "Enter number 90\n"
     ]
    },
    {
     "name": "stdout",
     "output_type": "stream",
     "text": [
      "90\n"
     ]
    },
    {
     "name": "stdin",
     "output_type": "stream",
     "text": [
      "Enter number 23\n"
     ]
    },
    {
     "name": "stdout",
     "output_type": "stream",
     "text": [
      "23\n"
     ]
    }
   ],
   "source": [
    "# Task 11: Skip Numbers Divisible by 3\n",
    "# Write a program that prints numbers from 1 to 15, but skips numbers divisible by 3 using continue.\n",
    "\n",
    "# for n in range(1,16):\n",
    "#     if n %3 == 0:\n",
    "#         continue\n",
    "#     print(n)\n",
    "\n",
    "\n",
    "# Task 12: Stop at 10\n",
    "# Write a program that prints numbers from 1 to 20, but stops when it reaches 10 using break.\n",
    "\n",
    "# for n in range(1,21):\n",
    "#     if n == 11:\n",
    "#         break\n",
    "#     print(n)\n",
    "\n",
    "\n",
    "# Task 13: Skip Spaces in a String\n",
    "# Write a program that takes a string input and prints each character, but skips spaces using continue.\n",
    "\n",
    "# text = input(\"enter a string : \")\n",
    "# for c in text:\n",
    "#     if c == \" \":\n",
    "#         continue\n",
    "#     print(c)\n",
    "\n",
    "\n",
    "# Task 14: Find First Even Number\n",
    "# Write a program that checks numbers from 1 to 10 and prints the first even number found, then stops using break.\n",
    "\n",
    "# for n in range(1,11):\n",
    "#     if n % 2 == 0:\n",
    "#         print(n)\n",
    "#         break\n",
    "\n",
    "\n",
    "# Task 15: Count Up to Three Inputs\n",
    "# Write a program that asks the user to input a number three times and prints each number.\n",
    "# Stop early if the user enters 0, using break, and skip negative numbers using continue.\n",
    "\n",
    "\n",
    "i = 1\n",
    "while i <= 3:\n",
    "    n = int(input(\"Enter number\"))\n",
    "    if n == 0:\n",
    "        break\n",
    "    elif n < 0:\n",
    "        continue\n",
    "    else:\n",
    "        print(n)\n",
    "    i+=1"
   ]
  },
  {
   "cell_type": "code",
   "execution_count": null,
   "id": "4adbf33d-cf68-42cf-b7ae-c3430813c3a0",
   "metadata": {},
   "outputs": [],
   "source": []
  }
 ],
 "metadata": {
  "kernelspec": {
   "display_name": "Python (myenv)",
   "language": "python",
   "name": "myenv"
  },
  "language_info": {
   "codemirror_mode": {
    "name": "ipython",
    "version": 3
   },
   "file_extension": ".py",
   "mimetype": "text/x-python",
   "name": "python",
   "nbconvert_exporter": "python",
   "pygments_lexer": "ipython3",
   "version": "3.11.7"
  }
 },
 "nbformat": 4,
 "nbformat_minor": 5
}
