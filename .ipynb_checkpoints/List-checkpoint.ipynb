{
 "cells": [
  {
   "cell_type": "markdown",
   "id": "ee8a5dce-a2ba-4955-b63e-7ec24a3d081c",
   "metadata": {},
   "source": [
    "# Collection\n",
    "are used to store multiple values of different or similar data types\n",
    "\n",
    "<ul>\n",
    "    <li>List : <i>Ordered,  indexed, changable, allows duplicates</i></li>\n",
    "    <li>Set : <i>Unordered,  Unindexed, Unchangable, Does not allows duplicates</i></li>\n",
    "    <li>Tuple : <i>Ordered,  Indexed, Unchangable, allows duplicates</i></li>\n",
    "    <li>Dictionary : <i>Ordered,  Unindexed, Changable, Does not allows duplicates</i> </li>\n",
    "</ul>"
   ]
  },
  {
   "cell_type": "code",
   "execution_count": null,
   "id": "bc6f22c0-077a-4c37-b08d-03acfb37d54e",
   "metadata": {},
   "outputs": [],
   "source": []
  },
  {
   "cell_type": "markdown",
   "id": "28882ed3-a467-479a-8675-a4c4a8e5f284",
   "metadata": {},
   "source": [
    "# List : \n",
    "#### Ordered, indexed, changable, allows duplicates\n",
    "## How to create a list ?\n",
    "[item1, item2, item3, item4] are used to create a list"
   ]
  },
  {
   "cell_type": "code",
   "execution_count": 116,
   "id": "05169a58-a934-4459-9007-63ecd8c53581",
   "metadata": {},
   "outputs": [],
   "source": [
    "fruits = [\"Apple\",\"Banana\",\"Cherry\",\"Kiwi\" , \"Grapes\",\"PineApple\", \"Dragonfruit\",\"Apple\"]"
   ]
  },
  {
   "cell_type": "code",
   "execution_count": 118,
   "id": "239bf39c-ed00-4ad8-aea7-a12f01df13e5",
   "metadata": {},
   "outputs": [
    {
     "name": "stdout",
     "output_type": "stream",
     "text": [
      "<class 'list'>\n"
     ]
    }
   ],
   "source": [
    "print(type(fruits)) # check Data type of a list"
   ]
  },
  {
   "cell_type": "code",
   "execution_count": 120,
   "id": "61880835-7632-42aa-ab7d-d63c322f5f15",
   "metadata": {},
   "outputs": [
    {
     "name": "stdout",
     "output_type": "stream",
     "text": [
      "8\n"
     ]
    }
   ],
   "source": [
    "print(len(fruits)) # check number of items in a list"
   ]
  },
  {
   "cell_type": "code",
   "execution_count": 122,
   "id": "01162ffc-2cc5-4dba-8f79-36f046dd0180",
   "metadata": {},
   "outputs": [
    {
     "name": "stdout",
     "output_type": "stream",
     "text": [
      "['Apple', 'Banana', 'Cherry', 'Kiwi', 'Grapes', 'PineApple', 'Dragonfruit', 'Apple']\n"
     ]
    }
   ],
   "source": [
    "print(fruits) # ordered and allows duplicates"
   ]
  },
  {
   "cell_type": "code",
   "execution_count": 124,
   "id": "ef5213c5-b0da-404e-a5cf-0ac6ee942ab6",
   "metadata": {},
   "outputs": [
    {
     "name": "stdout",
     "output_type": "stream",
     "text": [
      "Apple\n",
      "Apple\n"
     ]
    }
   ],
   "source": [
    "#indexed\n",
    "\n",
    "print(fruits[0])\n",
    "print(fruits[ len(fruits) - 1])"
   ]
  },
  {
   "cell_type": "code",
   "execution_count": 126,
   "id": "5d681ade-e9db-4484-be83-84ec17eab775",
   "metadata": {},
   "outputs": [
    {
     "name": "stdout",
     "output_type": "stream",
     "text": [
      "['Apple', 'Banana', 'Cherry', 'Kiwi', 'Orange', 'PineApple', 'Dragonfruit', 'Apple']\n"
     ]
    }
   ],
   "source": [
    "# changable  |  mutable\n",
    "fruits[4] = \"Orange\"\n",
    "print(fruits)"
   ]
  },
  {
   "cell_type": "code",
   "execution_count": null,
   "id": "642d5502-87b9-4949-9e03-acbe1ed8b0bf",
   "metadata": {},
   "outputs": [],
   "source": []
  },
  {
   "cell_type": "code",
   "execution_count": null,
   "id": "898f7396-9a57-483c-be5f-53d667502278",
   "metadata": {},
   "outputs": [],
   "source": []
  },
  {
   "cell_type": "code",
   "execution_count": 130,
   "id": "4abf1495-eb53-439b-982b-975a03e919c8",
   "metadata": {},
   "outputs": [],
   "source": [
    "marks = [23,23,34,2,3,34,3,43,5,34]"
   ]
  },
  {
   "cell_type": "code",
   "execution_count": 132,
   "id": "96125b24-1c67-4db7-be42-ee5940984efb",
   "metadata": {},
   "outputs": [],
   "source": [
    "yogesh = [\"Yogesh\" , \"Male\" , True ,1.80, 25 , None , [\"HTML\",\"CSS\"]]"
   ]
  },
  {
   "cell_type": "code",
   "execution_count": 134,
   "id": "a04cbc3b-7689-4177-ab64-441a55f61c52",
   "metadata": {},
   "outputs": [
    {
     "name": "stdout",
     "output_type": "stream",
     "text": [
      "[23, 23, 34, 2, 3, 34, 3, 43, 5, 34, 10000]\n"
     ]
    }
   ],
   "source": [
    "marks.append(10000) # add a new item at the end of the list\n",
    "print(marks)"
   ]
  },
  {
   "cell_type": "code",
   "execution_count": 136,
   "id": "7d83da23-91c1-4bc8-92a0-82d9ab40bbb2",
   "metadata": {},
   "outputs": [
    {
     "name": "stdout",
     "output_type": "stream",
     "text": [
      "['Yogesh', 'Male', True, 1.8, 25, None, ['HTML', 'CSS'], 'isIndian']\n"
     ]
    }
   ],
   "source": [
    "yogesh.append(\"isIndian\")\n",
    "print(yogesh)"
   ]
  },
  {
   "cell_type": "code",
   "execution_count": 138,
   "id": "db76685d-6485-444a-a1a5-855008961ba0",
   "metadata": {},
   "outputs": [
    {
     "name": "stdout",
     "output_type": "stream",
     "text": [
      "['Yogesh', 'Male', 'Haryana', True, 1.8, 25, None, ['HTML', 'CSS'], 'isIndian']\n"
     ]
    }
   ],
   "source": [
    "# add a new item at the specified index in the list\n",
    "yogesh.insert(2 , \"Haryana\") # index ,  item\n",
    "print(yogesh)"
   ]
  },
  {
   "cell_type": "code",
   "execution_count": null,
   "id": "ccc303e8-5442-4ef9-ad29-bed3af2baf80",
   "metadata": {},
   "outputs": [],
   "source": []
  },
  {
   "cell_type": "code",
   "execution_count": 150,
   "id": "2af9c109-be7f-4710-a670-a3a19912eadd",
   "metadata": {},
   "outputs": [],
   "source": [
    "# extend , takes another list as a parameter and insert its items at the end of the list\n",
    "yogesh.extend([23,345,45])"
   ]
  },
  {
   "cell_type": "code",
   "execution_count": 152,
   "id": "25e02147-d836-4177-85d2-5fe854709461",
   "metadata": {},
   "outputs": [
    {
     "name": "stdout",
     "output_type": "stream",
     "text": [
      "['Yogesh', 'Male', 'Haryana', True, 1.8, 25, None, ['HTML', 'CSS'], 'isIndian', 23, 345, 45]\n"
     ]
    }
   ],
   "source": [
    "print(yogesh)\n"
   ]
  },
  {
   "cell_type": "code",
   "execution_count": 154,
   "id": "7e6abc4d-9bab-4c82-8033-73244bcf3559",
   "metadata": {},
   "outputs": [
    {
     "name": "stdout",
     "output_type": "stream",
     "text": [
      "['Yogesh', 'Haryana', True, 1.8, 25, None, ['HTML', 'CSS'], 'isIndian', 23, 345]\n"
     ]
    }
   ],
   "source": [
    "# remove item from the list (by default item on -1)\n",
    "yogesh.pop() # removes lastitem if index is not provided\n",
    "yogesh.pop(1)\n",
    "print(yogesh)"
   ]
  },
  {
   "cell_type": "code",
   "execution_count": 156,
   "id": "40db3e04-8918-45fb-92eb-01701a1985fa",
   "metadata": {},
   "outputs": [],
   "source": [
    "yogesh.remove(None) # takes item name, and removes"
   ]
  },
  {
   "cell_type": "code",
   "execution_count": 158,
   "id": "b769213b-2f05-4eb7-905b-20616fa09159",
   "metadata": {},
   "outputs": [
    {
     "name": "stdout",
     "output_type": "stream",
     "text": [
      "['Yogesh', 'Haryana', True, 1.8, 25, ['HTML', 'CSS'], 'isIndian', 23, 345]\n"
     ]
    }
   ],
   "source": [
    "print(yogesh)"
   ]
  },
  {
   "cell_type": "code",
   "execution_count": 160,
   "id": "edcd9d13-79d2-4955-89ca-9d94434cc5d9",
   "metadata": {},
   "outputs": [
    {
     "ename": "ValueError",
     "evalue": "list.remove(x): x not in list",
     "output_type": "error",
     "traceback": [
      "\u001b[0;31m---------------------------------------------------------------------------\u001b[0m",
      "\u001b[0;31mValueError\u001b[0m                                Traceback (most recent call last)",
      "Cell \u001b[0;32mIn[160], line 1\u001b[0m\n\u001b[0;32m----> 1\u001b[0m yogesh\u001b[38;5;241m.\u001b[39mremove(\u001b[38;5;124m\"\u001b[39m\u001b[38;5;124mModi ji\u001b[39m\u001b[38;5;124m\"\u001b[39m)\n\u001b[1;32m      2\u001b[0m \u001b[38;5;28mprint\u001b[39m(yogesh)\n",
      "\u001b[0;31mValueError\u001b[0m: list.remove(x): x not in list"
     ]
    }
   ],
   "source": [
    "yogesh.remove(\"Modi ji\")\n",
    "print(yogesh)"
   ]
  },
  {
   "cell_type": "code",
   "execution_count": 164,
   "id": "bf7bfaa0-9c46-4b67-b827-ab88e38e9cb5",
   "metadata": {},
   "outputs": [
    {
     "name": "stdout",
     "output_type": "stream",
     "text": [
      "2\n"
     ]
    }
   ],
   "source": [
    "print(fruits.count(\"Apple\")) # return the number of occurances"
   ]
  },
  {
   "cell_type": "code",
   "execution_count": 166,
   "id": "ab94aa49-1700-450d-985c-097bcb2f9755",
   "metadata": {},
   "outputs": [
    {
     "name": "stdout",
     "output_type": "stream",
     "text": [
      "0\n"
     ]
    }
   ],
   "source": [
    "print(fruits.index(\"Apple\")) # return index of the first occurance "
   ]
  },
  {
   "cell_type": "code",
   "execution_count": 180,
   "id": "2dd929db-8066-4003-9ed7-f349be19c37b",
   "metadata": {},
   "outputs": [
    {
     "name": "stdout",
     "output_type": "stream",
     "text": [
      "7\n",
      "7\n"
     ]
    }
   ],
   "source": [
    "print(fruits.index(\"Apple\" , 2 )) # item , start position \n",
    "print(fruits.index(\"Apple\" , 2 , 9)) # item , start position , end position (exlusive)"
   ]
  },
  {
   "cell_type": "code",
   "execution_count": 182,
   "id": "c218757b-d4a9-4a5d-a810-0a68a23da296",
   "metadata": {},
   "outputs": [],
   "source": [
    "fruits.reverse() # modify the list and reverses it"
   ]
  },
  {
   "cell_type": "code",
   "execution_count": 184,
   "id": "800252cb-3fba-4de3-97a0-a266aa2e5a98",
   "metadata": {},
   "outputs": [
    {
     "name": "stdout",
     "output_type": "stream",
     "text": [
      "['Apple', 'Dragonfruit', 'PineApple', 'Orange', 'Kiwi', 'Cherry', 'Banana', 'Apple']\n"
     ]
    }
   ],
   "source": [
    "print(fruits)"
   ]
  },
  {
   "cell_type": "code",
   "execution_count": 190,
   "id": "75503e4f-8da2-4b2c-a411-521384f72162",
   "metadata": {},
   "outputs": [
    {
     "name": "stdout",
     "output_type": "stream",
     "text": [
      "['Apple', 'Apple', 'Banana', 'Cherry', 'Dragonfruit', 'Kiwi', 'Orange', 'PineApple']\n"
     ]
    }
   ],
   "source": [
    "fruits.sort() # sorts item. in ascending order\n",
    "print(fruits)"
   ]
  },
  {
   "cell_type": "code",
   "execution_count": 192,
   "id": "80264a21-20d9-4e7f-a67b-bf9dd3252441",
   "metadata": {},
   "outputs": [
    {
     "name": "stdout",
     "output_type": "stream",
     "text": [
      "['PineApple', 'Orange', 'Kiwi', 'Dragonfruit', 'Cherry', 'Banana', 'Apple', 'Apple']\n"
     ]
    }
   ],
   "source": [
    "fruits.sort(reverse=True) # sorts item. in descending order\n",
    "print(fruits)"
   ]
  },
  {
   "cell_type": "code",
   "execution_count": 194,
   "id": "b8645021-1fad-4c52-9dbc-c0cdb220b2e5",
   "metadata": {},
   "outputs": [
    {
     "name": "stdout",
     "output_type": "stream",
     "text": [
      "['PineApple', 'Orange', 'Kiwi', 'Dragonfruit', 'Cherry', 'Banana', 'Apple', 'Apple']\n"
     ]
    }
   ],
   "source": [
    "x = fruits.copy() # return a copy of a list\n",
    "print(x)"
   ]
  },
  {
   "cell_type": "code",
   "execution_count": 196,
   "id": "0bdcfeca-ce7d-47c0-9fb6-2105c50fbb29",
   "metadata": {},
   "outputs": [],
   "source": [
    "x.clear() # empties a list"
   ]
  },
  {
   "cell_type": "code",
   "execution_count": 198,
   "id": "2efa5e54-7886-48af-9ba7-a9755aa464cd",
   "metadata": {},
   "outputs": [
    {
     "data": {
      "text/plain": [
       "[]"
      ]
     },
     "execution_count": 198,
     "metadata": {},
     "output_type": "execute_result"
    }
   ],
   "source": [
    "x"
   ]
  },
  {
   "cell_type": "code",
   "execution_count": 200,
   "id": "ada9df3b-6acb-4270-8465-c0df27e105ce",
   "metadata": {},
   "outputs": [],
   "source": [
    "del x"
   ]
  },
  {
   "cell_type": "code",
   "execution_count": 202,
   "id": "1ce6bd2d-d08e-4375-be7f-b3e77736b144",
   "metadata": {},
   "outputs": [
    {
     "ename": "NameError",
     "evalue": "name 'x' is not defined",
     "output_type": "error",
     "traceback": [
      "\u001b[0;31m---------------------------------------------------------------------------\u001b[0m",
      "\u001b[0;31mNameError\u001b[0m                                 Traceback (most recent call last)",
      "Cell \u001b[0;32mIn[202], line 1\u001b[0m\n\u001b[0;32m----> 1\u001b[0m \u001b[38;5;28mprint\u001b[39m(x)\n",
      "\u001b[0;31mNameError\u001b[0m: name 'x' is not defined"
     ]
    }
   ],
   "source": [
    "print(x)"
   ]
  },
  {
   "cell_type": "code",
   "execution_count": null,
   "id": "b5517522-c46e-4c29-80c1-0215c54a28a0",
   "metadata": {},
   "outputs": [],
   "source": []
  }
 ],
 "metadata": {
  "kernelspec": {
   "display_name": "Python (myenv)",
   "language": "python",
   "name": "myenv"
  },
  "language_info": {
   "codemirror_mode": {
    "name": "ipython",
    "version": 3
   },
   "file_extension": ".py",
   "mimetype": "text/x-python",
   "name": "python",
   "nbconvert_exporter": "python",
   "pygments_lexer": "ipython3",
   "version": "3.11.7"
  }
 },
 "nbformat": 4,
 "nbformat_minor": 5
}
