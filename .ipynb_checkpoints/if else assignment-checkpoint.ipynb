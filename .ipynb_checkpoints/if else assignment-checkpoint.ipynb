{
 "cells": [
  {
   "cell_type": "code",
   "execution_count": 9,
   "id": "7a430cca-5bd1-4ae2-af3a-0af0a39bcbba",
   "metadata": {},
   "outputs": [
    {
     "name": "stdin",
     "output_type": "stream",
     "text": [
      "Do You Have Degree :  yes\n",
      "Your Years Of Experience :  10\n",
      "Any Certification :  no\n"
     ]
    },
    {
     "name": "stdout",
     "output_type": "stream",
     "text": [
      "ELigible as you have degree + experience but no certification\n"
     ]
    }
   ],
   "source": [
    "# Prompt the user to input whether they have a degree and convert the input to lowercase for consistent comparison\n",
    "hasDegree = input(\"Do You Have Degree : \").lower()\n",
    "\n",
    "# Prompt the user to input their years of experience (stored as a string, not yet converted to a number)\n",
    "years_experience = int(input(\"Your Years Of Experience : \"))\n",
    "\n",
    "# Prompt the user to input whether they have a certification and convert the input to lowercase\n",
    "has_certification = input(\"Any Certification : \").lower()\n",
    "\n",
    "# Check if the user has a degree by comparing the lowercase input to \"yes\"\n",
    "if hasDegree == \"yes\":\n",
    "    # If the user has a degree, check if their years of experience (converted to an integer) is greater than 5\n",
    "    if years_experience > 5:\n",
    "        # If the user has more than 5 years of experience, check if they have a certification\n",
    "        if has_certification == \"yes\":\n",
    "            # If they have a degree, >5 years of experience, and a certification, print that they are eligible\n",
    "            print(\"ELigible as you have degree + experience + certification\")\n",
    "        else:\n",
    "            # If they have a degree and >5 years of experience but no certification, print they are eligible\n",
    "            print(\"ELigible as you have degree + experience but no certification\")\n",
    "    else:\n",
    "        # If the user has a degree but <=5 years of experience, check if they have a certification\n",
    "        if has_certification == \"yes\":\n",
    "            # If they have a degree and a certification but <=5 years of experience, print they are eligible\n",
    "            print(\"ELigible as you have degree + certification but no experience\")\n",
    "        else:\n",
    "            # If they have a degree but neither >5 years of experience nor a certification, print they are not eligible\n",
    "            print(\"Not ELigible as you have degree but no experience and certification\")\n",
    "else:\n",
    "    # If the user does not have a degree, print that they are not eligible (no further checks are made)\n",
    "    print(\"Not Eligible\")"
   ]
  },
  {
   "cell_type": "code",
   "execution_count": 13,
   "id": "a157b776-ab9a-4064-acc1-100c6e415a1c",
   "metadata": {},
   "outputs": [],
   "source": [
    "users = {\n",
    "    \"yogesh@123\" : \"maitochalasone\",\n",
    "    \"tushar@321\" : \"mamamarega\",\n",
    "    \"rohan@134\" : \"sirdardi\"\n",
    "}"
   ]
  },
  {
   "cell_type": "code",
   "execution_count": 19,
   "id": "53a5dbc4-97b2-40e9-9f05-53ff445d6f5a",
   "metadata": {},
   "outputs": [
    {
     "name": "stdin",
     "output_type": "stream",
     "text": [
      "Enter username :  tushar@321\n",
      "Enter Password :  mamamarega\n"
     ]
    },
    {
     "name": "stdout",
     "output_type": "stream",
     "text": [
      "access_granted\n"
     ]
    }
   ],
   "source": [
    "userName = input(\"Enter username : \")\n",
    "password = input(\"Enter Password : \")\n",
    "if userName in users:\n",
    "    if password == users[userName]:\n",
    "        print(\"access_granted\")\n",
    "    else:\n",
    "        print(\"Incorrect Password\")\n",
    "else:\n",
    "    print(\"User doesn't exist\")"
   ]
  },
  {
   "cell_type": "code",
   "execution_count": null,
   "id": "a73d7a44-cc17-4ccd-ad10-9d799299dfff",
   "metadata": {},
   "outputs": [],
   "source": [
    "destination = input(\"Enter Destination : \")\n",
    "weight= float(input(\"Enter Weight : \"))\n",
    "\n",
    "if weight > 0:\n",
    "    if destination == \"domestic\":\n",
    "        if weight > 10:\n",
    "            print(\"cost : 15\")\n",
    "        elif weigth >= 5 and weight <= 10:\n",
    "            print(\"cost : 10\")\n",
    "        else:\n",
    "            print(\"cost : 5\")\n",
    "    else:\n",
    "        if weight > 10:\n",
    "            print(\"cost : 25\")\n",
    "        elif weigth >= 5 and weight <= 10:\n",
    "            print(\"cost : 20\")\n",
    "        else:\n",
    "            print(\"cost : 10\")\n",
    "        \n",
    "else:\n",
    "    print(\"Invalid Weight , weight must be positive\")"
   ]
  },
  {
   "cell_type": "code",
   "execution_count": null,
   "id": "9a9c3fad-e8fc-40b6-8681-65e608dfa0a3",
   "metadata": {},
   "outputs": [],
   "source": [
    "time = int(input(\"Enter Time :\"))\n",
    "preferences = input(\"Enter Preferences :\")\n",
    "if preferences == \"veg\":\n",
    "    if time >= 5 and time <= 9:\n",
    "        print(\"roti and sabji\")\n",
    "    elif time > 9 and time <= 14:\n",
    "        print(\"rice and curry\")\n",
    "    else:\n",
    "        print(\"curry and roti\")\n",
    "elif preferences == \"non veg\":\n",
    "    if time >= 5 and time <= 9:\n",
    "        print(\"omellete\")\n",
    "    elif time > 9 and time <= 14:\n",
    "        print(\"chicken breast\")\n",
    "    else:\n",
    "        print(\"mutton\")\n",
    "\n",
    "else:\n",
    "    print(\"Invalid preference\")\n",
    "        "
   ]
  }
 ],
 "metadata": {
  "kernelspec": {
   "display_name": "Python (myenv)",
   "language": "python",
   "name": "myenv"
  },
  "language_info": {
   "codemirror_mode": {
    "name": "ipython",
    "version": 3
   },
   "file_extension": ".py",
   "mimetype": "text/x-python",
   "name": "python",
   "nbconvert_exporter": "python",
   "pygments_lexer": "ipython3",
   "version": "3.11.7"
  }
 },
 "nbformat": 4,
 "nbformat_minor": 5
}
