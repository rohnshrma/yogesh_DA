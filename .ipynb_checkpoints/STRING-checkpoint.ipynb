{
 "cells": [
  {
   "cell_type": "markdown",
   "id": "2353bb95-d116-4c4a-ae03-78824a1882df",
   "metadata": {},
   "source": [
    "\n",
    "# Strings\n",
    "a sequence of characters(Alphabets, Numbers, Special Symbols and whitespace) , enclosed in single(' ') or double quotes(\" \")"
   ]
  },
  {
   "cell_type": "markdown",
   "id": "04bfca3f-04dc-4f8d-a528-7d92f25e3e86",
   "metadata": {},
   "source": [
    "## How to check Data type of any value / variable\n",
    "<b>type(variable/value)</b> function returns the data type of the specified value variable"
   ]
  },
  {
   "cell_type": "code",
   "execution_count": 3,
   "id": "b4df6624-4ab4-41fd-9ac1-c2b06a0a6ce8",
   "metadata": {},
   "outputs": [],
   "source": [
    "name = \"John\""
   ]
  },
  {
   "cell_type": "code",
   "execution_count": 4,
   "id": "3ce4c7ff-de76-4138-8f79-df263de2291d",
   "metadata": {},
   "outputs": [
    {
     "name": "stdout",
     "output_type": "stream",
     "text": [
      "<class 'str'>\n"
     ]
    }
   ],
   "source": [
    "print(type(name))"
   ]
  },
  {
   "cell_type": "code",
   "execution_count": 5,
   "id": "4ee9f88d-d793-4aa7-ae9d-4703574fbbad",
   "metadata": {},
   "outputs": [
    {
     "name": "stdout",
     "output_type": "stream",
     "text": [
      "<class 'str'>\n"
     ]
    }
   ],
   "source": [
    "print(type(\"Yogesh\"))"
   ]
  },
  {
   "cell_type": "code",
   "execution_count": 9,
   "id": "496769ff-29ec-48c8-94cb-d8dc3b59072f",
   "metadata": {},
   "outputs": [
    {
     "name": "stdout",
     "output_type": "stream",
     "text": [
      "<class 'int'>\n"
     ]
    }
   ],
   "source": [
    "print(type(123))"
   ]
  },
  {
   "cell_type": "code",
   "execution_count": 11,
   "id": "0f6678ba-2e0e-4534-b667-3101562a8fe1",
   "metadata": {},
   "outputs": [
    {
     "name": "stdin",
     "output_type": "stream",
     "text": [
      "Enter your name :  helloworld\n"
     ]
    }
   ],
   "source": [
    "yourname = input(\"Enter your name : \")"
   ]
  },
  {
   "cell_type": "code",
   "execution_count": 13,
   "id": "b439c6d8-c38a-4f68-9a9f-c67366d0bf7d",
   "metadata": {},
   "outputs": [
    {
     "name": "stdout",
     "output_type": "stream",
     "text": [
      "helloworld\n"
     ]
    }
   ],
   "source": [
    "print(yourname)"
   ]
  },
  {
   "cell_type": "markdown",
   "id": "00c631fd-5d30-49e6-af0b-59767d77783d",
   "metadata": {},
   "source": [
    "### Note : Value taken as input using the input function is always of type 'Str' (by default), but can be converted into supported data type"
   ]
  },
  {
   "cell_type": "code",
   "execution_count": 15,
   "id": "b80a91f8-4fad-495a-a52a-c34f29c15204",
   "metadata": {},
   "outputs": [
    {
     "name": "stdout",
     "output_type": "stream",
     "text": [
      "<class 'str'>\n"
     ]
    }
   ],
   "source": [
    "print(type(yourname))"
   ]
  },
  {
   "cell_type": "code",
   "execution_count": 21,
   "id": "a6f9c1a3-f2a8-4f15-baea-ea66ab6c772f",
   "metadata": {},
   "outputs": [
    {
     "name": "stdin",
     "output_type": "stream",
     "text": [
      "Enter your age :  234\n"
     ]
    },
    {
     "name": "stdout",
     "output_type": "stream",
     "text": [
      "<class 'float'> 234.0\n"
     ]
    }
   ],
   "source": [
    "age = float(input(\"Enter your age : \"))\n",
    "print(type(age) , age)"
   ]
  },
  {
   "cell_type": "code",
   "execution_count": 43,
   "id": "6f4f16a1-7822-4189-86f7-f8ae9878ac87",
   "metadata": {},
   "outputs": [],
   "source": [
    "txt = \"hello world my name is john doe and i am alien\""
   ]
  },
  {
   "cell_type": "code",
   "execution_count": 49,
   "id": "85388883-bf53-41aa-830f-68e2b18b951c",
   "metadata": {},
   "outputs": [],
   "source": [
    "# len(variable / value) function return the number of characters in a string  "
   ]
  },
  {
   "cell_type": "code",
   "execution_count": 53,
   "id": "9d80a4eb-d016-4f0d-92e6-1b3b94b9746f",
   "metadata": {},
   "outputs": [
    {
     "name": "stdout",
     "output_type": "stream",
     "text": [
      "46\n",
      "46\n"
     ]
    }
   ],
   "source": [
    "print(len(txt))\n",
    "print(len(\"hello world my name is john doe and i am alien\"))"
   ]
  },
  {
   "cell_type": "markdown",
   "id": "93594ec0-655d-4cbd-9669-706c9a2b232f",
   "metadata": {},
   "source": [
    "### Concatenation:\n",
    "adding two or more string together"
   ]
  },
  {
   "cell_type": "code",
   "execution_count": 25,
   "id": "d6666fe3-e10b-4e14-85f4-1b4362c5d28a",
   "metadata": {},
   "outputs": [
    {
     "name": "stdout",
     "output_type": "stream",
     "text": [
      "Hello world my name is helloworld\n"
     ]
    },
    {
     "ename": "TypeError",
     "evalue": "can only concatenate str (not \"float\") to str",
     "output_type": "error",
     "traceback": [
      "\u001b[0;31m---------------------------------------------------------------------------\u001b[0m",
      "\u001b[0;31mTypeError\u001b[0m                                 Traceback (most recent call last)",
      "Cell \u001b[0;32mIn[25], line 2\u001b[0m\n\u001b[1;32m      1\u001b[0m \u001b[38;5;28mprint\u001b[39m(\u001b[38;5;124m\"\u001b[39m\u001b[38;5;124mHello world my name is \u001b[39m\u001b[38;5;124m\"\u001b[39m \u001b[38;5;241m+\u001b[39m yourname) \n\u001b[0;32m----> 2\u001b[0m \u001b[38;5;28mprint\u001b[39m(\u001b[38;5;124m\"\u001b[39m\u001b[38;5;124mhello world my name is \u001b[39m\u001b[38;5;124m\"\u001b[39m \u001b[38;5;241m+\u001b[39m yourname \u001b[38;5;241m+\u001b[39m \u001b[38;5;124m\"\u001b[39m\u001b[38;5;124m and i am \u001b[39m\u001b[38;5;124m\"\u001b[39m \u001b[38;5;241m+\u001b[39m age \u001b[38;5;241m+\u001b[39m \u001b[38;5;124m\"\u001b[39m\u001b[38;5;124m years old.\u001b[39m\u001b[38;5;124m\"\u001b[39m)\n",
      "\u001b[0;31mTypeError\u001b[0m: can only concatenate str (not \"float\") to str"
     ]
    }
   ],
   "source": [
    "print(\"Hello world my name is \" + yourname) \n",
    "print(\"hello world my name is \" + yourname + \" and i am \" + age + \" years old.\")"
   ]
  },
  {
   "cell_type": "markdown",
   "id": "8e36bad5-4692-4436-89c3-6b15f7fd5cdb",
   "metadata": {},
   "source": [
    "# Formatted  String  : instead of adding things, we insert here\n",
    "f\" \" | f' '\n",
    "\n",
    "#### { } are used inside of f\" \" | f' ' to insert variables | expressions "
   ]
  },
  {
   "cell_type": "code",
   "execution_count": 30,
   "id": "17e9a605-8fd9-4f6a-bb9f-3bcb82686cc4",
   "metadata": {},
   "outputs": [
    {
     "name": "stdout",
     "output_type": "stream",
     "text": [
      "hello world my name is helloworld and i am 234.0 years old.\n",
      "hello world my name is helloworld and i am 234.0 years old.\n"
     ]
    }
   ],
   "source": [
    "print(f\"hello world my name is {yourname} and i am {age} years old.\")\n",
    "print(f'hello world my name is {yourname} and i am {age} years old.')"
   ]
  },
  {
   "cell_type": "code",
   "execution_count": null,
   "id": "fe577f72-6946-42b8-9f10-3436662543ab",
   "metadata": {},
   "outputs": [],
   "source": []
  },
  {
   "cell_type": "code",
   "execution_count": null,
   "id": "e8dcd490-7438-4be7-aec3-6d38972190c5",
   "metadata": {},
   "outputs": [],
   "source": []
  },
  {
   "cell_type": "code",
   "execution_count": null,
   "id": "338e5789-02e4-4fbb-b607-b1f23a7a0de2",
   "metadata": {},
   "outputs": [],
   "source": []
  },
  {
   "cell_type": "code",
   "execution_count": 34,
   "id": "979b851c-14a7-424b-bab8-3b9367bcf657",
   "metadata": {},
   "outputs": [
    {
     "name": "stdout",
     "output_type": "stream",
     "text": [
      "Hello world my name is Alisson Smith and i am 23 years old\n"
     ]
    }
   ],
   "source": [
    "first_name = \"Alisson\"\n",
    "last_name = \"Smith\"\n",
    "age = 23\n",
    "# mess= \"Hello world my name is \" + first_name + \" \" + last_name + \" and i am \" + age + \" years old\"\n",
    "mess= f\"Hello world my name is {first_name} {last_name} and i am {age} years old\"\n",
    "print(mess)"
   ]
  },
  {
   "cell_type": "code",
   "execution_count": null,
   "id": "073419b1-3362-4124-b816-72f947beb654",
   "metadata": {},
   "outputs": [],
   "source": []
  },
  {
   "cell_type": "code",
   "execution_count": 55,
   "id": "0f37014c-4fa0-4d1e-b706-847f8f0d60e4",
   "metadata": {},
   "outputs": [],
   "source": [
    "# formatted string\n",
    "# f\" \" | f' ' \n",
    "# {} are used within formatted string to insert values | expressions"
   ]
  },
  {
   "cell_type": "code",
   "execution_count": 57,
   "id": "5346aa4a-c812-43c2-9d98-bcabaddf28c3",
   "metadata": {},
   "outputs": [],
   "source": [
    "txt = f\"hello world my name is {first_name} {last_name} and i am {age} years old.\""
   ]
  },
  {
   "cell_type": "code",
   "execution_count": 59,
   "id": "a9106e26-9fef-47cf-8558-7f6e7acb070d",
   "metadata": {},
   "outputs": [
    {
     "name": "stdout",
     "output_type": "stream",
     "text": [
      "hello world my name is Alisson Smith and i am 23 years old.\n"
     ]
    }
   ],
   "source": [
    "print(txt)"
   ]
  },
  {
   "cell_type": "code",
   "execution_count": null,
   "id": "7af19fd0-dafc-4b79-b8b3-30a5779b4163",
   "metadata": {},
   "outputs": [],
   "source": []
  },
  {
   "cell_type": "code",
   "execution_count": 38,
   "id": "08fbb425-253b-4ddf-ae26-0a80c2705c28",
   "metadata": {},
   "outputs": [
    {
     "name": "stdout",
     "output_type": "stream",
     "text": [
      "A\n",
      "n\n",
      "n\n",
      "Ali\n"
     ]
    }
   ],
   "source": [
    "# indexing\n",
    "\n",
    "# [start : stop : step]\n",
    "\n",
    "# counting starting from 0 , used to to access charcters of a string \n",
    "# [] are used to use indexing\n",
    "\n",
    "#-5-4-3-2-1 -> negative indexing r-l\n",
    "# 0 1 2 3 4 -> positive indexing l-r\n",
    "# A l i c e\n",
    "# 1 2 3 4 5  \n",
    "\n",
    "\n",
    "\n",
    "\n",
    "# first character is on the 0th position (positive)\n",
    "# last character is on the len(str) - 1 th position (positive)\n",
    "\n",
    "\n",
    "\n",
    "print(first_name[0])\n",
    "print(first_name[ len(first_name) - 1 ])\n",
    "\n",
    "\n",
    "\n",
    "# the first character is always on the -1 position (negative)\n",
    "print(first_name[-1])\n",
    "\n",
    "\n",
    "# slicing [start(inclusive) : stop(exlusive) ]\n",
    "print(first_name[0 : 3]) # [0:2]\n"
   ]
  },
  {
   "cell_type": "code",
   "execution_count": 64,
   "id": "49304bee-f803-4471-b6fa-3039ef869da5",
   "metadata": {},
   "outputs": [
    {
     "name": "stdout",
     "output_type": "stream",
     "text": [
      "A\n",
      "n\n"
     ]
    }
   ],
   "source": []
  },
  {
   "cell_type": "code",
   "execution_count": null,
   "id": "fe8a2beb-b5c0-4cfa-aa28-bffa211fc7b3",
   "metadata": {},
   "outputs": [],
   "source": []
  },
  {
   "cell_type": "code",
   "execution_count": 42,
   "id": "4be4809a-9cf1-442c-b9e4-dbe9245c5eae",
   "metadata": {},
   "outputs": [
    {
     "name": "stdout",
     "output_type": "stream",
     "text": [
      "John\n",
      "Doe\n",
      "Doe\n",
      "John\n",
      "Do\n",
      "Doe\n"
     ]
    }
   ],
   "source": [
    "#-8-7-6-5-4-3-2-1\n",
    "# 0 1 2 3 4 5 6 7\n",
    "# j o h n   d o e\n",
    "\n",
    "\n",
    "full_name = \"John Doe\"\n",
    "print(full_name[0:4]) # [0:3]\n",
    "print(full_name[5:8]) # [5-7}\n",
    "print(full_name[5 : ]) # [5 : end]\n",
    "print(full_name[ : 4 ]) # [start : 3]\n",
    "\n",
    "print(full_name[-3 : -1]) # [-3 : -2]\n",
    "print(full_name[-3 : ]) # [-3 : end]"
   ]
  },
  {
   "cell_type": "code",
   "execution_count": 83,
   "id": "02184044-f7b4-49cc-a980-fc54f2374547",
   "metadata": {},
   "outputs": [
    {
     "name": "stdout",
     "output_type": "stream",
     "text": [
      "John\n"
     ]
    }
   ],
   "source": []
  },
  {
   "cell_type": "code",
   "execution_count": 46,
   "id": "b6c2b1ca-92a9-4999-9d2d-957a845ac87b",
   "metadata": {},
   "outputs": [
    {
     "name": "stdout",
     "output_type": "stream",
     "text": [
      "John Doe\n",
      "Jh o\n",
      "Jno\n",
      "eoD nhoJ\n"
     ]
    }
   ],
   "source": [
    "# [start : stop : step(default 1)]\n",
    "\n",
    "print(full_name[::1]) #[start : stop : 1]\n",
    "print(full_name[::2]) #[start : stop : 1]\n",
    "print(full_name[::3]) #[start : stop : 1]\n",
    "\n",
    "print(full_name[::-1]) "
   ]
  }
 ],
 "metadata": {
  "kernelspec": {
   "display_name": "Python 3 (ipykernel)",
   "language": "python",
   "name": "python3"
  },
  "language_info": {
   "codemirror_mode": {
    "name": "ipython",
    "version": 3
   },
   "file_extension": ".py",
   "mimetype": "text/x-python",
   "name": "python",
   "nbconvert_exporter": "python",
   "pygments_lexer": "ipython3",
   "version": "3.11.7"
  }
 },
 "nbformat": 4,
 "nbformat_minor": 5
}
