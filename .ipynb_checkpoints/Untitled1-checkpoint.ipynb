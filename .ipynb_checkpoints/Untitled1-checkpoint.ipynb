{
 "cells": [
  {
   "cell_type": "markdown",
   "id": "4251f451-5372-4fb0-8a2d-5f088bef5050",
   "metadata": {},
   "source": [
    "# Task 1: Create a BankAccount class\n",
    "# Description: Define a class to manage a bank account with attributes for account holder's name, balance, IFSC code, account number, and interest rate.\n",
    "\n",
    "# Task 2: Implement __init__ method\n",
    "# Description: Initialize the account with the holder's name, set initial balance to zero, generate random IFSC code and account number, and set a default interest rate.\n",
    "\n",
    "# Task 3: Create method to generate random IFSC code\n",
    "# Description: Generate a random IFSC code in the format of 4 uppercase letters followed by 7 digits (e.g., ABCD0123456).\n",
    "\n",
    "# Task 4: Create method to generate random account number\n",
    "# Description: Generate a random 12-digit account number.\n",
    "\n",
    "# Task 5: Implement deposit method\n",
    "# Description: Allow depositing a positive amount to the account, updating the balance, with validation to ensure the amount is positive.\n",
    "\n",
    "# Task 6: Implement withdraw method\n",
    "# Description: Allow withdrawing an amount from the account if sufficient balance exists, updating the balance, with validation for sufficient funds and positive amount.\n",
    "\n",
    "# Task 7: Implement interest calculation method\n",
    "# Description: Calculate and add simple interest to the balance based on the interest rate and a specified time period (in years).\n",
    "\n",
    "# Task 8: Implement __str__ method\n",
    "# Description: Return a string representation of the account, including the holder's name, account number, IFSC code, and current balance."
   ]
  },
  {
   "cell_type": "code",
   "execution_count": 65,
   "id": "1679e028-a59f-458b-bc8f-1dde23cd77aa",
   "metadata": {},
   "outputs": [],
   "source": [
    "import random\n",
    "class BankAccount:\n",
    "    def __init__(self , name ):\n",
    "        self.bank_name = \"SBIN\"\n",
    "        self.holder_name = name\n",
    "        self.balance = 0\n",
    "        self.account_number = self.generate_account_number()\n",
    "        self.ifsc_code = self.generate_IFSC_code()\n",
    "        self.interest_rate = 3\n",
    "\n",
    "    def __str__(self):\n",
    "        return f\"Holder Name : {self.holder_name}\\nBalance : {self.balance}\\nAccount Number : {self.account_number}\\nIFSC : {self.ifsc_code}\"\n",
    "\n",
    "    def generate_account_number(self):\n",
    "        return random.randint(100000000000 , 999999999999)\n",
    "\n",
    "    def generate_IFSC_code(self):\n",
    "        return f\"{self.bank_name}{random.randint(1000 , 9999)}\"\n",
    "\n",
    "\n",
    "    def deposit(self,amount):\n",
    "        if amount <= 0:\n",
    "            print(f\"Amount must be more than Zero\")\n",
    "        else :\n",
    "            self.balance += amount\n",
    "            print(f\"Your account has been credited with {amount}\\nUpdated Bank Balance : {self.balance}\")\n",
    "\n",
    "    \n",
    "    def withdrawl(self,amount):\n",
    "        if amount > self.balance:\n",
    "            print(f\"Insuffecient Funds!\\nCurrent Balance : {self.balance}\")\n",
    "        else :\n",
    "            self.balance -= amount\n",
    "            print(f\"Your account has been debited with {amount}\\nUpdated Bank Balance : {self.balance}\")\n",
    "            \n",
    "    def calculate_interest(self):\n",
    "        interest = self.balance * self.interest_rate / 100\n",
    "        self.balance += interest\n",
    "        print(f\"Interest Added : {interest}\\nUpdated Balance : {self.balance}\")"
   ]
  },
  {
   "cell_type": "code",
   "execution_count": null,
   "id": "fa5942f7-237d-482c-aa88-cebd18ee8f4f",
   "metadata": {},
   "outputs": [],
   "source": []
  },
  {
   "cell_type": "code",
   "execution_count": 68,
   "id": "84e67c01-b203-4b6a-a341-477bf158d7b9",
   "metadata": {},
   "outputs": [],
   "source": [
    "tushar = BankAccount(\"Tushar\")"
   ]
  },
  {
   "cell_type": "code",
   "execution_count": 70,
   "id": "cfddac86-b727-4851-8554-cd0b5c24e632",
   "metadata": {},
   "outputs": [
    {
     "name": "stdout",
     "output_type": "stream",
     "text": [
      "Holder Name : Tushar\n",
      "Balance : 0\n",
      "Account Number : 327780867330\n",
      "IFSC : SBIN1018\n"
     ]
    }
   ],
   "source": [
    "print(tushar)"
   ]
  },
  {
   "cell_type": "code",
   "execution_count": 72,
   "id": "c0cb04b6-1ab3-4fd9-ac01-35ef4a4001ff",
   "metadata": {},
   "outputs": [
    {
     "name": "stdout",
     "output_type": "stream",
     "text": [
      "Your account has been credited with 10000\n",
      "Updated Bank Balance : 10000\n"
     ]
    }
   ],
   "source": [
    "tushar.deposit(10000)"
   ]
  },
  {
   "cell_type": "code",
   "execution_count": 74,
   "id": "6a87471f-e90c-4ccb-9573-69179a82a78a",
   "metadata": {},
   "outputs": [
    {
     "name": "stdout",
     "output_type": "stream",
     "text": [
      "Your account has been debited with 100\n",
      "Updated Bank Balance : 9900\n"
     ]
    }
   ],
   "source": [
    "tushar.withdrawl(100)"
   ]
  },
  {
   "cell_type": "code",
   "execution_count": 76,
   "id": "94d68dca-8b3e-48d5-b054-5d947b27fd88",
   "metadata": {},
   "outputs": [
    {
     "name": "stdout",
     "output_type": "stream",
     "text": [
      "Interest Added : 297.0\n",
      "Updated Balance : 10197.0\n"
     ]
    }
   ],
   "source": [
    "tushar.calculate_interest()"
   ]
  },
  {
   "cell_type": "code",
   "execution_count": null,
   "id": "b5b1924a-523e-4741-afaf-ba8f9ce9df40",
   "metadata": {},
   "outputs": [],
   "source": []
  },
  {
   "cell_type": "code",
   "execution_count": null,
   "id": "3eadf398-fbf9-42d1-85bf-a20fc84b59be",
   "metadata": {},
   "outputs": [],
   "source": []
  }
 ],
 "metadata": {
  "kernelspec": {
   "display_name": "Python (myenv)",
   "language": "python",
   "name": "myenv"
  },
  "language_info": {
   "codemirror_mode": {
    "name": "ipython",
    "version": 3
   },
   "file_extension": ".py",
   "mimetype": "text/x-python",
   "name": "python",
   "nbconvert_exporter": "python",
   "pygments_lexer": "ipython3",
   "version": "3.11.7"
  }
 },
 "nbformat": 4,
 "nbformat_minor": 5
}
