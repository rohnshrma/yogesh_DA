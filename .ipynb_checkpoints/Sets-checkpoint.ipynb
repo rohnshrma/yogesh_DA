{
 "cells": [
  {
   "cell_type": "markdown",
   "id": "f58e9d77-2462-4568-930a-73b4cbb853df",
   "metadata": {},
   "source": [
    "# Set\n",
    "\n",
    "<ul>\n",
    "    <li>Unordered</li>\n",
    "    <li>UnChangable</li>\n",
    "    <li>Unindexed</li>\n",
    "    <li>Do Not Allows Duplicates</li>\n",
    "</ul>\n",
    "\n",
    "{item1, item2, item3} are used to create a set\n"
   ]
  },
  {
   "cell_type": "code",
   "execution_count": 53,
   "id": "62704a42-2d24-421b-aced-8ff7e6cda959",
   "metadata": {},
   "outputs": [],
   "source": [
    "fruits = {\"Apple\",\"Banana\",\"Cherry\",\"Kiwi\" , \"Grapes\",\"PineApple\", \"Dragonfruit\",\"Apple\"}"
   ]
  },
  {
   "cell_type": "code",
   "execution_count": 55,
   "id": "e7b1f2bc-30ad-46eb-8eb6-267c4358f872",
   "metadata": {},
   "outputs": [
    {
     "name": "stdout",
     "output_type": "stream",
     "text": [
      "{'PineApple', 'Kiwi', 'Cherry', 'Dragonfruit', 'Apple', 'Banana', 'Grapes'}\n"
     ]
    }
   ],
   "source": [
    "print(fruits) # unordered and doesn't allows duplicates"
   ]
  },
  {
   "cell_type": "code",
   "execution_count": 57,
   "id": "294a48ed-2d72-4375-b834-1bf808f7f046",
   "metadata": {},
   "outputs": [
    {
     "ename": "TypeError",
     "evalue": "'set' object is not subscriptable",
     "output_type": "error",
     "traceback": [
      "\u001b[0;31m---------------------------------------------------------------------------\u001b[0m",
      "\u001b[0;31mTypeError\u001b[0m                                 Traceback (most recent call last)",
      "Cell \u001b[0;32mIn[57], line 1\u001b[0m\n\u001b[0;32m----> 1\u001b[0m \u001b[38;5;28mprint\u001b[39m(fruits[\u001b[38;5;241m0\u001b[39m])\n",
      "\u001b[0;31mTypeError\u001b[0m: 'set' object is not subscriptable"
     ]
    }
   ],
   "source": [
    "print(fruits[0]) # unindexed"
   ]
  },
  {
   "cell_type": "code",
   "execution_count": 59,
   "id": "16c08bd4-3276-457a-9c7f-bbb6d1d08dbf",
   "metadata": {},
   "outputs": [
    {
     "ename": "TypeError",
     "evalue": "'set' object does not support item assignment",
     "output_type": "error",
     "traceback": [
      "\u001b[0;31m---------------------------------------------------------------------------\u001b[0m",
      "\u001b[0;31mTypeError\u001b[0m                                 Traceback (most recent call last)",
      "Cell \u001b[0;32mIn[59], line 1\u001b[0m\n\u001b[0;32m----> 1\u001b[0m fruits[\u001b[38;5;241m0\u001b[39m] \u001b[38;5;241m=\u001b[39m \u001b[38;5;124m\"\u001b[39m\u001b[38;5;124mGuava\u001b[39m\u001b[38;5;124m\"\u001b[39m\n",
      "\u001b[0;31mTypeError\u001b[0m: 'set' object does not support item assignment"
     ]
    }
   ],
   "source": [
    "fruits[0] = \"Guava\" # unchangable | immutable"
   ]
  },
  {
   "cell_type": "code",
   "execution_count": null,
   "id": "3d5bb053-1cd5-4414-98cc-839d45c045ea",
   "metadata": {},
   "outputs": [],
   "source": []
  },
  {
   "cell_type": "code",
   "execution_count": 62,
   "id": "b9d47e99-125f-456c-bb6a-bb640d74190c",
   "metadata": {},
   "outputs": [
    {
     "name": "stdout",
     "output_type": "stream",
     "text": [
      "{'PineApple', 'Kiwi', 'Cherry', 'Dragonfruit', 'Guava', 'Apple', 'Banana', 'Grapes'}\n"
     ]
    }
   ],
   "source": [
    "fruits.add(\"Guava\") # add a new item at a random place\n",
    "print(fruits)"
   ]
  },
  {
   "cell_type": "code",
   "execution_count": 64,
   "id": "e408abd1-bc64-4aa3-a7df-9e7701e7d395",
   "metadata": {},
   "outputs": [
    {
     "name": "stdout",
     "output_type": "stream",
     "text": [
      "{'PineApple', 'Kiwi', 'Cherry', 'Dragonfruit', 'Guava', 'Apple', 'Banana', 'Grapes'}\n"
     ]
    }
   ],
   "source": [
    "fruits.add(\"Guava\") # add a new item at a random place\n",
    "print(fruits)"
   ]
  },
  {
   "cell_type": "code",
   "execution_count": 66,
   "id": "da3ae29d-6aa7-4870-860f-cb3455a23a51",
   "metadata": {},
   "outputs": [],
   "source": [
    "fruits.update({\"john\",\"Doe\"}) # takes another set as a value and add it to the set\n"
   ]
  },
  {
   "cell_type": "code",
   "execution_count": 68,
   "id": "4bb12c48-065e-4cbe-9fe8-9f99131a65bf",
   "metadata": {},
   "outputs": [
    {
     "name": "stdout",
     "output_type": "stream",
     "text": [
      "{'PineApple', 'Dragonfruit', 'Apple', 'Banana', 'john', 'Grapes', 'Kiwi', 'Cherry', 'Guava', 'Doe'}\n"
     ]
    }
   ],
   "source": [
    "print(fruits)"
   ]
  },
  {
   "cell_type": "code",
   "execution_count": 70,
   "id": "da2dca2f-ab48-4289-8445-218e08c73162",
   "metadata": {},
   "outputs": [
    {
     "data": {
      "text/plain": [
       "'PineApple'"
      ]
     },
     "execution_count": 70,
     "metadata": {},
     "output_type": "execute_result"
    }
   ],
   "source": [
    "fruits.pop() # removes a random item from a list"
   ]
  },
  {
   "cell_type": "code",
   "execution_count": null,
   "id": "736df256-49de-4554-b366-cc51838ff90d",
   "metadata": {},
   "outputs": [],
   "source": []
  },
  {
   "cell_type": "code",
   "execution_count": null,
   "id": "74b8703f-d5e3-44a9-875e-4e490c917208",
   "metadata": {},
   "outputs": [],
   "source": []
  },
  {
   "cell_type": "code",
   "execution_count": 76,
   "id": "7989dc97-0ed1-4c22-b8e2-05b5c91d225f",
   "metadata": {},
   "outputs": [],
   "source": [
    "fruits.remove(\"john\") # takes item name , and removes it"
   ]
  },
  {
   "cell_type": "code",
   "execution_count": 80,
   "id": "65ae2481-2b7d-4a56-ab67-288241886d8b",
   "metadata": {},
   "outputs": [
    {
     "ename": "KeyError",
     "evalue": "'john'",
     "output_type": "error",
     "traceback": [
      "\u001b[0;31m---------------------------------------------------------------------------\u001b[0m",
      "\u001b[0;31mKeyError\u001b[0m                                  Traceback (most recent call last)",
      "Cell \u001b[0;32mIn[80], line 1\u001b[0m\n\u001b[0;32m----> 1\u001b[0m fruits\u001b[38;5;241m.\u001b[39mremove(\u001b[38;5;124m\"\u001b[39m\u001b[38;5;124mjohn\u001b[39m\u001b[38;5;124m\"\u001b[39m)\n",
      "\u001b[0;31mKeyError\u001b[0m: 'john'"
     ]
    }
   ],
   "source": [
    "fruits.remove(\"john\") #if not found , raises an error"
   ]
  },
  {
   "cell_type": "code",
   "execution_count": 78,
   "id": "7dd73557-6221-48d5-b15f-ea2ed747357d",
   "metadata": {},
   "outputs": [
    {
     "name": "stdout",
     "output_type": "stream",
     "text": [
      "{'Dragonfruit', 'Apple', 'Banana', 'Grapes', 'Kiwi', 'Cherry', 'Guava', 'Doe'}\n"
     ]
    }
   ],
   "source": [
    "print(fruits)"
   ]
  },
  {
   "cell_type": "code",
   "execution_count": null,
   "id": "945b9f06-2294-4d44-8f1b-e39fe20e7093",
   "metadata": {},
   "outputs": [],
   "source": []
  },
  {
   "cell_type": "code",
   "execution_count": 86,
   "id": "937ceb45-f7cb-4fd1-92f3-e46115ec9221",
   "metadata": {},
   "outputs": [],
   "source": [
    "fruits.discard(\"Doe\") # takes item name , and removes it"
   ]
  },
  {
   "cell_type": "code",
   "execution_count": 106,
   "id": "e07c7419-8da7-41ec-86af-f715ab7e0e02",
   "metadata": {},
   "outputs": [],
   "source": [
    "fruits.discard(\"Doe\") # does nothing if item not found"
   ]
  },
  {
   "cell_type": "code",
   "execution_count": 108,
   "id": "2333e6ae-df88-47c0-8dd1-947140fbfd09",
   "metadata": {},
   "outputs": [
    {
     "name": "stdout",
     "output_type": "stream",
     "text": [
      "{'Dragonfruit', 'Apple', 'Banana', 'Grapes', 'Kiwi', 'Cherry', 'Guava'}\n"
     ]
    }
   ],
   "source": [
    "print(fruits)"
   ]
  },
  {
   "cell_type": "code",
   "execution_count": null,
   "id": "d3b0bfbc-e5b3-4870-85a5-fe6a4776608d",
   "metadata": {},
   "outputs": [],
   "source": []
  },
  {
   "cell_type": "code",
   "execution_count": 111,
   "id": "03554000-a2e6-4d44-b1b4-c913c4eabfe9",
   "metadata": {},
   "outputs": [],
   "source": [
    "vegitables = {\"Ladyfinger\" , \"bottle guard\" , \"water chestnut\" , \"potato\", \"onion\"}"
   ]
  },
  {
   "cell_type": "code",
   "execution_count": 113,
   "id": "8a48c028-1082-4011-b545-93d515be0ee9",
   "metadata": {},
   "outputs": [
    {
     "name": "stdout",
     "output_type": "stream",
     "text": [
      "{'Dragonfruit', 'bottle guard', 'Apple', 'onion', 'Banana', 'Grapes', 'water chestnut', 'Kiwi', 'Ladyfinger', 'Cherry', 'potato', 'Guava'}\n"
     ]
    }
   ],
   "source": [
    "edibles = vegitables.union(fruits)\n",
    "print(edibles)"
   ]
  },
  {
   "cell_type": "code",
   "execution_count": null,
   "id": "bdbdf9b4-0e6a-47fd-baac-a37a78ecfddc",
   "metadata": {},
   "outputs": [],
   "source": []
  },
  {
   "cell_type": "code",
   "execution_count": 140,
   "id": "473a4623-d72b-4d45-a867-0c1bc705bbea",
   "metadata": {},
   "outputs": [],
   "source": [
    "brands = {\"ikea\", \"microsoft\", \"apple\", \"banana\"}\n",
    "fruits = {\"apple\",\"banana\",\"cherry\",\"dragonfruit\"}\n"
   ]
  },
  {
   "cell_type": "code",
   "execution_count": 120,
   "id": "aab04271-e103-4c55-9dfb-f3174a383965",
   "metadata": {},
   "outputs": [
    {
     "data": {
      "text/plain": [
       "{'ikea', 'microsoft'}"
      ]
     },
     "execution_count": 120,
     "metadata": {},
     "output_type": "execute_result"
    }
   ],
   "source": [
    "brands.difference(fruits) # return a new set containing items different when compared with fruits"
   ]
  },
  {
   "cell_type": "code",
   "execution_count": 122,
   "id": "e1a74a94-9d0e-4002-b46d-05bc0ac61a04",
   "metadata": {},
   "outputs": [
    {
     "data": {
      "text/plain": [
       "{'apple', 'banana'}"
      ]
     },
     "execution_count": 122,
     "metadata": {},
     "output_type": "execute_result"
    }
   ],
   "source": [
    "brands.intersection(fruits) # return a new set containing items common in both sets"
   ]
  },
  {
   "cell_type": "code",
   "execution_count": 124,
   "id": "50174623-5031-4765-8747-91353ce628a2",
   "metadata": {},
   "outputs": [
    {
     "data": {
      "text/plain": [
       "{'cherry', 'dragonfruit', 'ikea', 'microsoft'}"
      ]
     },
     "execution_count": 124,
     "metadata": {},
     "output_type": "execute_result"
    }
   ],
   "source": [
    "brands.symmetric_difference(fruits) # return a new set containing items different in both sets"
   ]
  },
  {
   "cell_type": "code",
   "execution_count": 126,
   "id": "00557eb0-0390-42c5-b5b1-3ef8022571c7",
   "metadata": {},
   "outputs": [
    {
     "name": "stdout",
     "output_type": "stream",
     "text": [
      "{'ikea', 'dragonfruit', 'cherry', 'microsoft'}\n"
     ]
    }
   ],
   "source": [
    "brands.symmetric_difference_update(fruits) # update brands with a new set containing items different in both sets\n",
    "print(brands)"
   ]
  },
  {
   "cell_type": "code",
   "execution_count": 134,
   "id": "e390d445-1445-4502-a326-76faf01a815a",
   "metadata": {},
   "outputs": [
    {
     "name": "stdout",
     "output_type": "stream",
     "text": [
      "{'apple', 'banana'}\n"
     ]
    }
   ],
   "source": [
    "brands.intersection_update(fruits) # update brands with a new set containing items different in both sets\n",
    "print(brands)"
   ]
  },
  {
   "cell_type": "code",
   "execution_count": 142,
   "id": "bf391474-6a79-4044-a530-5ce3f7ed37b8",
   "metadata": {},
   "outputs": [
    {
     "name": "stdout",
     "output_type": "stream",
     "text": [
      "{'ikea', 'microsoft'}\n"
     ]
    }
   ],
   "source": [
    "brands.difference_update(fruits) # update brands with a new set containing items different in both sets\n",
    "print(brands)"
   ]
  },
  {
   "cell_type": "code",
   "execution_count": null,
   "id": "9192423a-9a0c-4381-8a1c-86fd052bdc9b",
   "metadata": {},
   "outputs": [],
   "source": []
  },
  {
   "cell_type": "code",
   "execution_count": 145,
   "id": "eb64cdca-7390-410c-8c52-8608c338a4d5",
   "metadata": {},
   "outputs": [],
   "source": [
    "b = brands.copy()"
   ]
  },
  {
   "cell_type": "code",
   "execution_count": 147,
   "id": "61d6725b-5831-4d39-b71b-52c6e396b053",
   "metadata": {},
   "outputs": [
    {
     "data": {
      "text/plain": [
       "{'ikea', 'microsoft'}"
      ]
     },
     "execution_count": 147,
     "metadata": {},
     "output_type": "execute_result"
    }
   ],
   "source": [
    "b"
   ]
  },
  {
   "cell_type": "code",
   "execution_count": 149,
   "id": "2a30020f-e22d-4118-bb93-88e811ab2858",
   "metadata": {},
   "outputs": [],
   "source": [
    "b.clear()"
   ]
  },
  {
   "cell_type": "code",
   "execution_count": 151,
   "id": "53fea6e4-7e38-4661-a886-216f4f9e4f1f",
   "metadata": {},
   "outputs": [
    {
     "data": {
      "text/plain": [
       "set()"
      ]
     },
     "execution_count": 151,
     "metadata": {},
     "output_type": "execute_result"
    }
   ],
   "source": [
    "b"
   ]
  },
  {
   "cell_type": "code",
   "execution_count": 153,
   "id": "304f4e8b-658f-4ea7-b4e5-d4a731620ab4",
   "metadata": {},
   "outputs": [],
   "source": [
    "del b"
   ]
  },
  {
   "cell_type": "code",
   "execution_count": null,
   "id": "fd478ce6-6e77-429b-826a-7a35b5777556",
   "metadata": {},
   "outputs": [],
   "source": []
  },
  {
   "cell_type": "code",
   "execution_count": 156,
   "id": "8e2ee464-7e42-41db-9c9f-7068d50d6e1e",
   "metadata": {},
   "outputs": [],
   "source": [
    "x = {1,2,3,4,5,6}\n",
    "y = {1,2,3,4,5,6,7,8,9,10}"
   ]
  },
  {
   "cell_type": "code",
   "execution_count": 158,
   "id": "b77b8262-afa6-478d-a34f-8988244ccc18",
   "metadata": {},
   "outputs": [
    {
     "data": {
      "text/plain": [
       "True"
      ]
     },
     "execution_count": 158,
     "metadata": {},
     "output_type": "execute_result"
    }
   ],
   "source": [
    "x.issubset(y)"
   ]
  },
  {
   "cell_type": "code",
   "execution_count": 160,
   "id": "88070e92-8be8-4876-a5b3-5dd8ae70a181",
   "metadata": {},
   "outputs": [
    {
     "data": {
      "text/plain": [
       "True"
      ]
     },
     "execution_count": 160,
     "metadata": {},
     "output_type": "execute_result"
    }
   ],
   "source": [
    "y.issuperset(x)"
   ]
  },
  {
   "cell_type": "code",
   "execution_count": 162,
   "id": "a9758998-ee8b-40fe-8770-447c626de2b2",
   "metadata": {},
   "outputs": [
    {
     "data": {
      "text/plain": [
       "True"
      ]
     },
     "execution_count": 162,
     "metadata": {},
     "output_type": "execute_result"
    }
   ],
   "source": [
    "y.isdisjoint(fruits)"
   ]
  },
  {
   "cell_type": "code",
   "execution_count": null,
   "id": "5ed247fc-3193-45f0-961e-b4ee491cd60d",
   "metadata": {},
   "outputs": [],
   "source": []
  }
 ],
 "metadata": {
  "kernelspec": {
   "display_name": "Python (myenv)",
   "language": "python",
   "name": "myenv"
  },
  "language_info": {
   "codemirror_mode": {
    "name": "ipython",
    "version": 3
   },
   "file_extension": ".py",
   "mimetype": "text/x-python",
   "name": "python",
   "nbconvert_exporter": "python",
   "pygments_lexer": "ipython3",
   "version": "3.11.7"
  }
 },
 "nbformat": 4,
 "nbformat_minor": 5
}
