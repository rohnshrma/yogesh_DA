{
 "cells": [
  {
   "cell_type": "markdown",
   "metadata": {},
   "source": [
    "# Milestone Project 1: Walkthrough Steps Workbook\n",
    "\n",
    "Below is a set of steps for you to follow to try to create the Tic Tac Toe Milestone Project game!"
   ]
  },
  {
   "cell_type": "markdown",
   "metadata": {},
   "source": [
    "#### Some suggested tools before you get started:\n",
    "To take input from a user:\n",
    "\n",
    "    player1 = input(\"Please pick a marker 'X' or 'O'\")\n",
    "    \n",
    "Note that input() takes in a string. If you need an integer value, use\n",
    "\n",
    "    position = int(input('Please enter a number'))\n",
    "    \n",
    "<br>To clear the screen between moves:\n",
    "\n",
    "    from IPython.display import clear_output\n",
    "    clear_output()\n",
    "    \n",
    "Note that clear_output() will only work in jupyter. To clear the screen in other IDEs, consider:\n",
    "\n",
    "    print('\\n'*100)\n",
    "    \n",
    "This scrolls the previous board up out of view. Now on to the program!"
   ]
  },
  {
   "cell_type": "markdown",
   "metadata": {},
   "source": [
    "**Step 1: Write a function that can print out a board. Set up your board as a list, where each index 1-9 corresponds with a number on a number pad, so you get a 3 by 3 board representation.**"
   ]
  },
  {
   "cell_type": "code",
   "execution_count": 1,
   "metadata": {},
   "outputs": [],
   "source": [
    "from IPython.display import clear_output\n",
    "\n",
    "def display_board(board):\n",
    "    print(f\"{board[7]} | {board[8]} | {board[9]}\")\n",
    "    print(\"---------\")\n",
    "    print(f\"{board[4]} | {board[5]} | {board[6]}\")\n",
    "    print(\"---------\")\n",
    "    print(f\"{board[1]} | {board[2]} | {board[3]}\")"
   ]
  },
  {
   "cell_type": "markdown",
   "metadata": {},
   "source": [
    "**TEST Step 1:** run your function on a test version of the board list, and make adjustments as necessary"
   ]
  },
  {
   "cell_type": "code",
   "execution_count": 4,
   "metadata": {},
   "outputs": [
    {
     "name": "stdout",
     "output_type": "stream",
     "text": [
      "X | O | X\n",
      "---------\n",
      "O | X | O\n",
      "---------\n",
      "X | O | X\n"
     ]
    }
   ],
   "source": [
    "test_board = ['#','X','O','X','O','X','O','X','O','X']\n",
    "display_board(test_board)"
   ]
  },
  {
   "cell_type": "markdown",
   "metadata": {},
   "source": [
    "**Step 2: Write a function that can take in a player input and assign their marker as 'X' or 'O'. Think about using *while* loops to continually ask until you get a correct answer.**"
   ]
  },
  {
   "cell_type": "code",
   "execution_count": 7,
   "metadata": {},
   "outputs": [],
   "source": [
    "def player_input():\n",
    "    marker = input(\"Choose your marker 'X' | 'O' : \").lower()\n",
    "    while not marker in [\"x\", \"o\"]:\n",
    "        marker = input(\"Choose your marker 'X' | 'O' : \")\n",
    "    if marker == \"x\":\n",
    "        return (\"X\" , \"O\")\n",
    "    else:\n",
    "        return (\"O\",\"X\")"
   ]
  },
  {
   "cell_type": "markdown",
   "metadata": {},
   "source": [
    "**TEST Step 2:** run the function to make sure it returns the desired output"
   ]
  },
  {
   "cell_type": "code",
   "execution_count": 13,
   "metadata": {},
   "outputs": [
    {
     "name": "stdin",
     "output_type": "stream",
     "text": [
      "Choose your marker 'X' | 'O' :  o\n"
     ]
    },
    {
     "name": "stdout",
     "output_type": "stream",
     "text": [
      "Player 1 =>  O\n",
      "Player 2 =>  X\n"
     ]
    }
   ],
   "source": [
    "player_1 , player_2 = player_input()\n",
    "print(\"Player 1 => \", player_1)\n",
    "print(\"Player 2 => \", player_2)"
   ]
  },
  {
   "cell_type": "markdown",
   "metadata": {},
   "source": [
    "**Step 3: Write a function that takes in the board list object, a marker ('X' or 'O'), and a desired position (number 1-9) and assigns it to the board.**"
   ]
  },
  {
   "cell_type": "code",
   "execution_count": 9,
   "metadata": {},
   "outputs": [],
   "source": [
    "def place_marker(board, marker, position):\n",
    "    board[position] = marker"
   ]
  },
  {
   "cell_type": "markdown",
   "metadata": {},
   "source": [
    "**TEST Step 3:** run the place marker function using test parameters and display the modified board"
   ]
  },
  {
   "cell_type": "code",
   "execution_count": 14,
   "metadata": {},
   "outputs": [
    {
     "name": "stdout",
     "output_type": "stream",
     "text": [
      "X | $ | X\n",
      "---------\n",
      "O | X | O\n",
      "---------\n",
      "X | O | X\n"
     ]
    }
   ],
   "source": [
    "place_marker(test_board,'$',8)\n",
    "display_board(test_board)"
   ]
  },
  {
   "cell_type": "markdown",
   "metadata": {},
   "source": [
    "**Step 4: Write a function that takes in a board and a mark (X or O) and then checks to see if that mark has won. **"
   ]
  },
  {
   "cell_type": "code",
   "execution_count": 17,
   "metadata": {},
   "outputs": [],
   "source": [
    "def win_check(board, mark):\n",
    "    return ((board[1] == mark and board[2] == mark and board[3] == mark) or\n",
    "           (board[4] == mark and board[5] == mark and board[6] == mark) or\n",
    "           (board[7] == mark and board[8] == mark and board[9] == mark) or\n",
    "           (board[1] == mark and board[4] == mark and board[7] == mark) or\n",
    "           (board[2] == mark and board[5] == mark and board[8] == mark) or\n",
    "           (board[3] == mark and board[6] == mark and board[9] == mark) or\n",
    "           (board[1] == mark and board[5] == mark and board[9] == mark) or\n",
    "           (board[3] == mark and board[5] == mark and board[7] == mark))"
   ]
  },
  {
   "cell_type": "markdown",
   "metadata": {},
   "source": [
    "**TEST Step 4:** run the win_check function against our test_board - it should return True"
   ]
  },
  {
   "cell_type": "code",
   "execution_count": 20,
   "metadata": {},
   "outputs": [
    {
     "name": "stdout",
     "output_type": "stream",
     "text": [
      "X | $ | X\n",
      "---------\n",
      "O | X | O\n",
      "---------\n",
      "X | O | X\n"
     ]
    },
    {
     "data": {
      "text/plain": [
       "False"
      ]
     },
     "execution_count": 20,
     "metadata": {},
     "output_type": "execute_result"
    }
   ],
   "source": [
    "display_board(test_board)\n",
    "win_check(test_board,'O')"
   ]
  },
  {
   "cell_type": "markdown",
   "metadata": {},
   "source": [
    "**Step 5: Write a function that uses the random module to randomly decide which player goes first. You may want to lookup random.randint() Return a string of which player went first.**"
   ]
  },
  {
   "cell_type": "code",
   "execution_count": 23,
   "metadata": {},
   "outputs": [],
   "source": [
    "import random\n",
    "\n",
    "def choose_first():\n",
    "    n = random.randint(0,1)\n",
    "    if n == 0:\n",
    "        return \"Player 1\"\n",
    "    else:\n",
    "        return \"Player 2\""
   ]
  },
  {
   "cell_type": "code",
   "execution_count": 25,
   "metadata": {},
   "outputs": [
    {
     "data": {
      "text/plain": [
       "'Player 2'"
      ]
     },
     "execution_count": 25,
     "metadata": {},
     "output_type": "execute_result"
    }
   ],
   "source": [
    "choose_first()"
   ]
  },
  {
   "cell_type": "markdown",
   "metadata": {},
   "source": [
    "**Step 6: Write a function that returns a boolean indicating whether a space on the board is freely available.**"
   ]
  },
  {
   "cell_type": "code",
   "execution_count": 28,
   "metadata": {},
   "outputs": [],
   "source": [
    "def space_check(board, position):\n",
    "    return board[position] == \" \""
   ]
  },
  {
   "cell_type": "code",
   "execution_count": 30,
   "metadata": {},
   "outputs": [
    {
     "data": {
      "text/plain": [
       "False"
      ]
     },
     "execution_count": 30,
     "metadata": {},
     "output_type": "execute_result"
    }
   ],
   "source": [
    "# display_board(test_board)\n",
    "# place_marker(test_board , \" \", 5)\n",
    "# display_board(test_board)\n",
    "space_check(test_board , 5)"
   ]
  },
  {
   "cell_type": "markdown",
   "metadata": {},
   "source": [
    "**Step 7: Write a function that checks if the board is full and returns a boolean value. True if full, False otherwise.**"
   ]
  },
  {
   "cell_type": "code",
   "execution_count": 95,
   "metadata": {},
   "outputs": [],
   "source": [
    "def full_board_check(board):\n",
    "    for position in board:\n",
    "        if position == \" \":\n",
    "            return False\n",
    "    return True"
   ]
  },
  {
   "cell_type": "code",
   "execution_count": 99,
   "metadata": {},
   "outputs": [
    {
     "name": "stdout",
     "output_type": "stream",
     "text": [
      "X | $ | X\n",
      "---------\n",
      "O | O | O\n",
      "---------\n",
      "X | O | X\n"
     ]
    },
    {
     "data": {
      "text/plain": [
       "True"
      ]
     },
     "execution_count": 99,
     "metadata": {},
     "output_type": "execute_result"
    }
   ],
   "source": [
    "place_marker(test_board , \"O\" , 4)\n",
    "display_board(test_board)\n",
    "full_board_check(test_board)"
   ]
  },
  {
   "cell_type": "markdown",
   "metadata": {},
   "source": [
    "**Step 8: Write a function that asks for a player's next position (as a number 1-9) and then uses the function from step 6 to check if it's a free position. If it is, then return the position for later use.**"
   ]
  },
  {
   "cell_type": "code",
   "execution_count": 60,
   "metadata": {},
   "outputs": [],
   "source": [
    "def player_choice(board):\n",
    "    position = int(input(\"\\nEnter next position (as a number 1-9) \"))\n",
    "    while position not in [1,2,3,4,5,6,7,8,9] or not space_check(board, position):\n",
    "        position = int(input(\"Enter next position should be in between (1-9) and available : \"))\n",
    "\n",
    "    return position"
   ]
  },
  {
   "cell_type": "code",
   "execution_count": 81,
   "metadata": {},
   "outputs": [
    {
     "data": {
      "text/plain": [
       "()"
      ]
     },
     "execution_count": 81,
     "metadata": {},
     "output_type": "execute_result"
    }
   ],
   "source": [
    "place_marker(test_board,\" \" , 4)\n",
    "player_choice(test_board)"
   ]
  },
  {
   "cell_type": "markdown",
   "metadata": {},
   "source": [
    "**Step 9: Write a function that asks the player if they want to play again and returns a boolean True if they do want to play again.**"
   ]
  },
  {
   "cell_type": "code",
   "execution_count": 78,
   "metadata": {},
   "outputs": [],
   "source": [
    "def replay():\n",
    "    return  input(\"Do You want to Play Again 'Yes' or 'No' : \").lower() == \"yes\""
   ]
  },
  {
   "cell_type": "code",
   "execution_count": null,
   "metadata": {},
   "outputs": [],
   "source": []
  },
  {
   "cell_type": "markdown",
   "metadata": {
    "collapsed": true,
    "jupyter": {
     "outputs_hidden": true
    }
   },
   "source": [
    "**Step 10: Here comes the hard part! Use while loops and the functions you've made to run the game!**"
   ]
  },
  {
   "cell_type": "code",
   "execution_count": 105,
   "metadata": {},
   "outputs": [
    {
     "name": "stdout",
     "output_type": "stream",
     "text": [
      "Welcome to Tic Tac Toe!\n"
     ]
    },
    {
     "name": "stdin",
     "output_type": "stream",
     "text": [
      "Choose your marker 'X' | 'O' :  X\n"
     ]
    },
    {
     "name": "stdout",
     "output_type": "stream",
     "text": [
      "\n",
      "Player 2 will go first\n"
     ]
    },
    {
     "name": "stdin",
     "output_type": "stream",
     "text": [
      "Ready to Play Game (Yes or No) :  YES\n"
     ]
    },
    {
     "name": "stdout",
     "output_type": "stream",
     "text": [
      "\n",
      "******* Player 2's Turn *******\n",
      "\n",
      "  |   |  \n",
      "---------\n",
      "  |   |  \n",
      "---------\n",
      "  |   |  \n"
     ]
    },
    {
     "name": "stdin",
     "output_type": "stream",
     "text": [
      "Enter next position (as a number 1-9)  1\n"
     ]
    },
    {
     "name": "stdout",
     "output_type": "stream",
     "text": [
      "\n",
      "******* Player 1's Turn *******\n",
      "\n",
      "  |   |  \n",
      "---------\n",
      "  |   |  \n",
      "---------\n",
      "O |   |  \n"
     ]
    },
    {
     "name": "stdin",
     "output_type": "stream",
     "text": [
      "Enter next position (as a number 1-9)  2\n"
     ]
    },
    {
     "name": "stdout",
     "output_type": "stream",
     "text": [
      "\n",
      "******* Player 2's Turn *******\n",
      "\n",
      "  |   |  \n",
      "---------\n",
      "  |   |  \n",
      "---------\n",
      "O | X |  \n"
     ]
    },
    {
     "name": "stdin",
     "output_type": "stream",
     "text": [
      "Enter next position (as a number 1-9)  3\n"
     ]
    },
    {
     "name": "stdout",
     "output_type": "stream",
     "text": [
      "\n",
      "******* Player 1's Turn *******\n",
      "\n",
      "  |   |  \n",
      "---------\n",
      "  |   |  \n",
      "---------\n",
      "O | X | O\n"
     ]
    },
    {
     "name": "stdin",
     "output_type": "stream",
     "text": [
      "Enter next position (as a number 1-9)  9\n"
     ]
    },
    {
     "name": "stdout",
     "output_type": "stream",
     "text": [
      "\n",
      "******* Player 2's Turn *******\n",
      "\n",
      "  |   | X\n",
      "---------\n",
      "  |   |  \n",
      "---------\n",
      "O | X | O\n"
     ]
    },
    {
     "name": "stdin",
     "output_type": "stream",
     "text": [
      "Enter next position (as a number 1-9)  8\n"
     ]
    },
    {
     "name": "stdout",
     "output_type": "stream",
     "text": [
      "\n",
      "******* Player 1's Turn *******\n",
      "\n",
      "  | O | X\n",
      "---------\n",
      "  |   |  \n",
      "---------\n",
      "O | X | O\n"
     ]
    },
    {
     "name": "stdin",
     "output_type": "stream",
     "text": [
      "Enter next position (as a number 1-9)  5\n"
     ]
    },
    {
     "name": "stdout",
     "output_type": "stream",
     "text": [
      "\n",
      "******* Player 2's Turn *******\n",
      "\n",
      "  | O | X\n",
      "---------\n",
      "  | X |  \n",
      "---------\n",
      "O | X | O\n"
     ]
    },
    {
     "name": "stdin",
     "output_type": "stream",
     "text": [
      "Enter next position (as a number 1-9)  6\n"
     ]
    },
    {
     "name": "stdout",
     "output_type": "stream",
     "text": [
      "\n",
      "******* Player 1's Turn *******\n",
      "\n",
      "  | O | X\n",
      "---------\n",
      "  | X | O\n",
      "---------\n",
      "O | X | O\n"
     ]
    },
    {
     "name": "stdin",
     "output_type": "stream",
     "text": [
      "Enter next position (as a number 1-9)  4\n"
     ]
    },
    {
     "name": "stdout",
     "output_type": "stream",
     "text": [
      "\n",
      "******* Player 2's Turn *******\n",
      "\n",
      "  | O | X\n",
      "---------\n",
      "X | X | O\n",
      "---------\n",
      "O | X | O\n"
     ]
    },
    {
     "name": "stdin",
     "output_type": "stream",
     "text": [
      "Enter next position (as a number 1-9)  7\n"
     ]
    },
    {
     "name": "stdout",
     "output_type": "stream",
     "text": [
      "O | O | X\n",
      "---------\n",
      "X | X | O\n",
      "---------\n",
      "O | X | O\n",
      "\n",
      "Game Is a Draw\n"
     ]
    },
    {
     "name": "stdin",
     "output_type": "stream",
     "text": [
      "Do You want to Play Again 'Yes' or 'No' :  NO\n"
     ]
    }
   ],
   "source": [
    "print('Welcome to Tic Tac Toe!')\n",
    "\n",
    "while True:\n",
    "    # Set the game up here\n",
    "    the_board = [\"#\" , \" \", \" \", \" \", \" \" , \" \", \" \" , \" \" ,\" \", \" \"]\n",
    "    player_1 , player_2 = player_input()\n",
    "    turn = choose_first()\n",
    "    print(f\"\\n{turn} will go first\")\n",
    "\n",
    "\n",
    "    play_game = input(\"Ready to Play Game (Yes or No) : \").lower()\n",
    "    if play_game == \"yes\":\n",
    "        game_on = True\n",
    "    else:\n",
    "        game_on = False\n",
    "\n",
    "\n",
    "    while game_on == True:\n",
    "        #Player 1 Turn\n",
    "        if turn == \"Player 1\":\n",
    "            print(f\"\\n******* {turn}'s Turn *******\\n\")\n",
    "            display_board(the_board)\n",
    "            position = player_choice(the_board)\n",
    "            place_marker(the_board, player_1 , position)\n",
    "\n",
    "            if win_check(the_board , player_1):\n",
    "                display_board(the_board)\n",
    "                print(f\"\\nCongratulations {turn} ! You've Won the Game\")\n",
    "                game_on = False\n",
    "            else:\n",
    "                if full_board_check(the_board):\n",
    "                    display_board(the_board)\n",
    "                    print(\"\\nGame Is a Draw\")\n",
    "                    break\n",
    "                else:\n",
    "                    turn = \"Player 2\"\n",
    "                    \n",
    "        # Player2's turn.\n",
    "        else :\n",
    "            print(f\"\\n******* {turn}'s Turn *******\\n\")\n",
    "            display_board(the_board)\n",
    "            position = player_choice(the_board)\n",
    "            place_marker(the_board, player_2 , position)\n",
    "\n",
    "            if win_check(the_board , player_2):\n",
    "                display_board(the_board)\n",
    "                print(f\"\\nCongratulations {turn} ! You've Won the Game\")\n",
    "                game_on = False\n",
    "            else:\n",
    "                if full_board_check(the_board):\n",
    "                    display_board(the_board)\n",
    "                    print(\"\\nGame Is a Draw\")\n",
    "                    break\n",
    "                else:\n",
    "                    turn = \"Player 1\"\n",
    "            \n",
    "\n",
    "    if not replay():\n",
    "        break"
   ]
  },
  {
   "cell_type": "markdown",
   "metadata": {
    "collapsed": true,
    "jupyter": {
     "outputs_hidden": true
    }
   },
   "source": [
    "## Good Job!"
   ]
  },
  {
   "cell_type": "code",
   "execution_count": null,
   "metadata": {},
   "outputs": [],
   "source": [
    "# Print a welcome message to the console to indicate the start of the Tic Tac Toe game\n",
    "print('Welcome to Tic Tac Toe!')\n",
    "\n",
    "# Start an infinite loop to allow multiple games (replay option)\n",
    "while True:\n",
    "    # Initialize the game board as a list of 10 elements; index 0 is set to \"#\" (unused), and indices 1-9 represent the 3x3 grid with empty spaces (\" \")\n",
    "    the_board = [\"#\", \" \", \" \", \" \", \" \", \" \", \" \", \" \", \" \", \" \"]\n",
    "    \n",
    "    # Call player_input() to get the markers (e.g., 'X' or 'O') for Player 1 and Player 2; returns a tuple of markers\n",
    "    player_1, player_2 = player_input()\n",
    "    \n",
    "    # Call choose_first() to randomly determine which player goes first; returns \"Player 1\" or \"Player 2\"\n",
    "    turn = choose_first()\n",
    "    \n",
    "    # Print which player will go first, using the turn variable\n",
    "    print(f\"\\n{turn} will go first\")\n",
    "\n",
    "    # Prompt the user to start the game by entering \"yes\" or \"no\"; convert input to lowercase for case-insensitive comparison\n",
    "    play_game = input(\"Ready to Play Game (Yes or No) : \").lower()\n",
    "    \n",
    "    # If the user enters \"yes\", set game_on to True to start the game loop\n",
    "    if play_game == \"yes\":\n",
    "        game_on = True\n",
    "    # If the user enters anything other than \"yes\", set game_on to False to skip the game\n",
    "    else:\n",
    "        game_on = False\n",
    "\n",
    "    # Inner loop to handle the game while game_on is True (i.e., the game is active)\n",
    "    while game_on == True:\n",
    "        # Check if it's Player 1's turn\n",
    "        if turn == \"Player 1\":\n",
    "            # Print a message indicating it's Player 1's turn, with decorative asterisks\n",
    "            print(f\"\\n******* {turn}'s Turn *******\\n\")\n",
    "            \n",
    "            # Call display_board() to show the current state of the game board\n",
    "            display_board(the_board)\n",
    "            \n",
    "            # Call player_choice() to get a valid position (1-9) from Player 1; returns the chosen position\n",
    "            position = player_choice(the_board)\n",
    "            \n",
    "            # Call place_marker() to place Player 1's marker (e.g., 'X' or 'O') at the chosen position on the board\n",
    "            place_marker(the_board, player_1, position)\n",
    "\n",
    "            # Check if Player 1 has won by calling win_check() with the board and Player 1's marker\n",
    "            if win_check(the_board, player_1):\n",
    "                # If Player 1 won, display the final board\n",
    "                display_board(the_board)\n",
    "                # Print a congratulatory message for Player 1\n",
    "                print(f\"\\nCongratulations {turn} ! You've Won the Game\")\n",
    "                # Set game_on to False to end the game loop\n",
    "                game_on = False\n",
    "            # If Player 1 didn't win, check for a draw\n",
    "            else:\n",
    "                # Call full_board_check() to see if the board is full (i.e., no empty spaces)\n",
    "                if full_board_check(the_board):\n",
    "                    # If the board is full, display the final board\n",
    "                    display_board(the_board)\n",
    "                    # Print a message indicating the game is a draw\n",
    "                    print(\"\\nGame Is a Draw\")\n",
    "                    # Break out of the inner game loop to end the game\n",
    "                    break\n",
    "                # If the board isn't full and no win, switch to Player 2's turn\n",
    "                else:\n",
    "                    turn = \"Player 2\"\n",
    "                    \n",
    "        # If it's not Player 1's turn, it must be Player 2's turn\n",
    "        else:\n",
    "            # Print a message indicating it's Player 2's turn, with decorative asterisks\n",
    "            print(f\"\\n******* {turn}'s Turn *******\\n\")\n",
    "            \n",
    "            # Call display_board() to show the current state of the game board\n",
    "            display_board(the_board)\n",
    "            \n",
    "            # Call player_choice() to get a valid position (1-9) from Player 2; returns the chosen position\n",
    "            position = player_choice(the_board)\n",
    "            \n",
    "            # Call place_marker() to place Player 2's marker (e.g., 'X' or 'O') at the chosen position on the board\n",
    "            place_marker(the_board, player_2, position)\n",
    "\n",
    "            # Check if Player 2 has won by calling win_check() with the board and Player 2's marker\n",
    "            if win_check(the_board, player_2):\n",
    "                # If Player 2 won, display the final board\n",
    "                display_board(the_board)\n",
    "                # Print a congratulatory message for Player 2\n",
    "                print(f\"\\nCongratulations {turn} ! You've Won the Game\")\n",
    "                # Set game_on to False to end the game loop\n",
    "                game_on = False\n",
    "            # If Player 2 didn't win, check for a draw\n",
    "            else:\n",
    "                # Call full_board_check() to see if the board is full (i.e., no empty spaces)\n",
    "                if full_board_check(the_board):\n",
    "                    # If the board is full, display the final board\n",
    "                    display_board(the_board)\n",
    "                    # Print a message indicating the game is a draw\n",
    "                    print(\"\\nGame Is a Draw\")\n",
    "                    # Break out of the inner game loop to end the game\n",
    "                    break\n",
    "                # If the board isn't full and no win, switch to Player 1's turn\n",
    "                else:\n",
    "                    turn = \"Player 1\"\n",
    "\n",
    "    # After the game ends (win or draw), call replay() to ask if the players want to play again\n",
    "    # replay() returns True if the user wants to play again, False otherwise\n",
    "    # If replay() returns False, break out of the outer loop to end the program\n",
    "    if not replay():\n",
    "        break"
   ]
  }
 ],
 "metadata": {
  "kernelspec": {
   "display_name": "Python 3 (ipykernel)",
   "language": "python",
   "name": "python3"
  },
  "language_info": {
   "codemirror_mode": {
    "name": "ipython",
    "version": 3
   },
   "file_extension": ".py",
   "mimetype": "text/x-python",
   "name": "python",
   "nbconvert_exporter": "python",
   "pygments_lexer": "ipython3",
   "version": "3.11.7"
  }
 },
 "nbformat": 4,
 "nbformat_minor": 4
}
