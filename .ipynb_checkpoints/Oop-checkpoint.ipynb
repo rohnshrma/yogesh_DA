{
 "cells": [
  {
   "cell_type": "code",
   "execution_count": 1,
   "id": "820bc482-1fa4-4b56-9aff-fc0348c99839",
   "metadata": {},
   "outputs": [
    {
     "name": "stdout",
     "output_type": "stream",
     "text": [
      "<__main__.Person object at 0x106419ad0>\n",
      "<class '__main__.Person'>\n",
      "Chota mama\n",
      "Chota mama\n"
     ]
    }
   ],
   "source": [
    "# Define a class named 'Person'\n",
    "class Person:\n",
    "    # {}\n",
    "    # Class attribute 'name', a string with default value \"Chota mama\"\n",
    "    name = \"Chota mama\"  # property\n",
    "    # Class attribute 'age', an integer with default value 17\n",
    "    age = 17\n",
    "    # Class attribute 'gender', a string with default value \"Male\"\n",
    "    gender = \"Male\"\n",
    "\n",
    "    # Define a method 'greeting' that belongs to the Person class\n",
    "    # 'self' is a parameter referring to the instance calling the method\n",
    "    def greeting(self):  # method\n",
    "        # Returns the string \"hello pkmkb\"\n",
    "        return \"hello pkmkb\"\n",
    "\n",
    "# Create an instance of the Person class and assign it to variable 'user1'\n",
    "user1 = Person()  # creating an instance of a class\n",
    "# Print the user1 object, which shows its memory address and class type\n",
    "print(user1)\n",
    "# Print the type of user1, which outputs <class '__main__.Person'>\n",
    "print(type(user1))\n",
    "# Call the greeting method on user1, which returns \"hello pkmkb\"\n",
    "user1.greeting()\n",
    "# Access and print the 'name' attribute of user1, outputs \"Chota mama\"\n",
    "print(user1.name)\n",
    "# Create another instance of the Person class and assign it to 'user2'\n",
    "user2 = Person()\n",
    "# Access and print the 'name' attribute of user2, outputs \"Chota mama\"\n",
    "print(user2.name)"
   ]
  },
  {
   "cell_type": "code",
   "execution_count": 3,
   "id": "070cbc1b-2274-4dc8-8b3c-b809bf1a0bd2",
   "metadata": {},
   "outputs": [
    {
     "name": "stdout",
     "output_type": "stream",
     "text": [
      "<__main__.Person object at 0x106419ad0>\n",
      "<__main__.Person object at 0x10669db50>\n"
     ]
    }
   ],
   "source": [
    "print(user1)\n",
    "print(user2)"
   ]
  },
  {
   "cell_type": "markdown",
   "id": "4602efc3-2082-4062-a91f-39201c421c70",
   "metadata": {},
   "source": [
    "#### The Person class defines a blueprint with attributes (name, age, gender) and a method (greeting).\n",
    "#### Class attributes are shared by all instances of the class unless overridden.\n",
    "#### user1 and user2 are instances of the Person class, each having access to the class's attributes and methods.\n",
    "#### print(user1) shows the object's representation (class and memory address).\n",
    "#### print(type(user1)) confirms the object's class type.\n",
    "#### user1.greeting() calls the method, returning the string \"hello pkmkb\".\n",
    "#### user1.name and user2.name access the name attribute, which is \"Chota mama\" for both instances since it's a class attribut"
   ]
  },
  {
   "cell_type": "code",
   "execution_count": null,
   "id": "cbd13a91-8d91-473a-b3f0-dc6c6bc1cd7c",
   "metadata": {},
   "outputs": [],
   "source": []
  },
  {
   "cell_type": "markdown",
   "id": "a7fa5637-8f51-4052-b6be-b04449affe26",
   "metadata": {},
   "source": [
    "### Explanation of the Diagram\n",
    "\n",
    "The diagram illustrates the core concepts of **Object-Oriented Programming (OOP)** and the relationship between classes and objects:\n",
    "\n",
    "- **OOP (Object-Oriented Programming)**: The central concept, represented at the top, is a programming paradigm that uses objects and classes.\n",
    "- **Properties (Variables)**: These are attributes or data members (e.g., name, age, gender) that define the characteristics of an object.\n",
    "- **Methods (Functions)**: These are behaviors or actions (e.g., greeting) that an object can perform.\n",
    "- **Content**: Refers to the combination of properties and methods that make up the structure of a class.\n",
    "- **Class (Machinery to produce dictionaries/objects)**: A blueprint or template for creating objects. It defines the properties and methods that objects will have. The class acts as the \"machinery\" to generate objects.\n",
    "- **Type**: Indicates the category or kind of class, which can be:\n",
    "  - **Static Class (Homogeneous/similar)**: A class where all instances share the same structure and behavior.\n",
    "  - **Dynamic Class (Unique product)**: A class where instances can have unique attributes or behaviors.\n",
    "- **Object (dictionary)**: An instance of a class, represented as a dictionary (key-value pairs) containing the properties and methods. It is the output or result of instantiating a class.\n",
    "- **Object (dictionary) Output of a class [instance of a class]**: Shows a specific example of an object with attributes like `name: \"Akash\"`, `age: 23`, and `gender: \"Male\"`, created from a class.\n",
    "\n",
    "### Explanation of Class Objects\n",
    "\n",
    "A **class** in OOP is a user-defined data type that acts as a blueprint for creating objects. It encapsulates data (properties) and functions (methods) that operate on the data. An **object** is an instance of a class, created using the class blueprint.\n",
    "\n",
    "- **Class**: Think of it as a mold or recipe. For example, a `Person` class might define that every person has a `name`, `age`, and a `greeting` method. The class itself doesn’t hold specific data until an object is created.\n",
    "- **Object**: When you create an object (e.g., `user1 = Person()`), it becomes a concrete entity based on the class. Each object can have its own unique data (e.g., `user1.name = \"Chota mama\"` or `user2.name = \"Akash\"`), but it inherits the structure and methods defined in the class.\n",
    "- **Relationship**: The class is the general template, while objects are specific instances. Multiple objects can be created from the same class, each with potentially different property values but the same methods.\n",
    "- **Dictionary Representation**: In the diagram, an object is likened to a dictionary because it stores key-value pairs (e.g., `name: \"Akash\"`, `age: 23`), which is a common way to represent object attributes in some programming contexts.\n",
    "\n",
    "In summary, a class defines the \"what\" (structure and behavior), and an object is the \"who\" (a specific realization of that definition). This relationship allows for code reusability and organization in OOP."
   ]
  },
  {
   "cell_type": "code",
   "execution_count": null,
   "id": "67c8b881-4362-4469-a83b-c72ae44b59f3",
   "metadata": {},
   "outputs": [],
   "source": []
  },
  {
   "cell_type": "code",
   "execution_count": null,
   "id": "f66165d1-de27-4604-af89-da8f61f9e220",
   "metadata": {},
   "outputs": [],
   "source": []
  },
  {
   "cell_type": "code",
   "execution_count": null,
   "id": "d3a6c7bb-0e75-41f6-9e60-28ce6ff9034c",
   "metadata": {},
   "outputs": [],
   "source": []
  },
  {
   "cell_type": "code",
   "execution_count": 31,
   "id": "6097fb05-dad8-478d-9063-ad6e8d038be1",
   "metadata": {},
   "outputs": [
    {
     "name": "stdout",
     "output_type": "stream",
     "text": [
      "<__main__.Book object at 0x11fde8b50>\n",
      "Yogesh\n",
      "Mathematics\n",
      "Title : Mathematics\n",
      "Author : Yogesh\n",
      "Year : 1999\n",
      "Pages : 1000\n",
      "Genre : education\n",
      "Title : Mathematics\n",
      "Author : Yogesh\n",
      "Year : 1999\n",
      "Pages : 1000\n",
      "Genre : education\n"
     ]
    }
   ],
   "source": [
    "# Semi Dynamic\n",
    "class Book:\n",
    "    # {}\n",
    "    def takeValues(self , title, author , year , pages, genre ):\n",
    "        self.book_title = title\n",
    "        self.book_author = author\n",
    "        self.release_year = year\n",
    "        self.pages = pages\n",
    "        self.genre = genre\n",
    "    \n",
    "    def print_info(self):\n",
    "        print(f\"Title : {self.book_title}\\nAuthor : {self.book_author}\\nYear : {self.release_year}\\nPages : {self.pages}\\nGenre : {self.genre}\")\n",
    "\n",
    "    def getNumberOfPages(self):\n",
    "        return self.pages\n",
    "\n",
    "    def printShortInfo(self):\n",
    "        print(f\"{self.book_title} by { self.book_author}\")\n",
    "maths = Book()\n",
    "print(maths)\n",
    "maths.takeValues(\"Mathematics\",\"Yogesh\",1999,1000,\"education\")\n",
    "print(maths.book_author)\n",
    "print(maths.book_title)\n",
    "\n",
    "maths.print_info()\n",
    "maths.print_info()"
   ]
  },
  {
   "cell_type": "code",
   "execution_count": null,
   "id": "cbf5e779-0119-41aa-8bbf-a73eb6d56e37",
   "metadata": {},
   "outputs": [],
   "source": []
  },
  {
   "cell_type": "code",
   "execution_count": null,
   "id": "8428c0e8-2816-42ad-a5f8-9c78dc0d7e89",
   "metadata": {},
   "outputs": [],
   "source": []
  },
  {
   "cell_type": "code",
   "execution_count": 61,
   "id": "1def021c-5f13-4c5f-9367-f0d308a7a901",
   "metadata": {},
   "outputs": [
    {
     "name": "stdout",
     "output_type": "stream",
     "text": [
      "Hooka opened\n",
      "dal makhni\n",
      "chaap\n",
      "chole bhature\n",
      "Hooka has 20 tables\n"
     ]
    }
   ],
   "source": [
    "# Define a class called 'Restraunt'. A class is a blueprint for creating restaurant objects.\n",
    "class Restraunt:\n",
    "    # The comment '# {}' is a placeholder and does nothing in the code.\n",
    "    # It might be for documentation or future code but has no functional impact.\n",
    "\n",
    "    # Define the '__init__' method, a special method called a constructor.\n",
    "    # It runs automatically when a new object is created from the class.\n",
    "    # 'self' refers to the object being created.\n",
    "    # 'name', 'tables', and 'menu' are parameters passed when creating the object.\n",
    "    def __init__(self, name, tables, menu):\n",
    "        # Assign the 'name' parameter to the object's 'restraunt_name' attribute.\n",
    "        self.restraunt_name = name\n",
    "        # Assign the 'tables' parameter to the object's 'no_of_tables' attribute.\n",
    "        self.no_of_tables = tables\n",
    "        # Assign the 'menu' parameter (a list) to the object's 'menu_items' attribute.\n",
    "        self.menu_items = menu\n",
    "        # Print a message confirming the restaurant is opened, using its name.\n",
    "        print(f\"{self.restraunt_name} opened\")\n",
    "\n",
    "    # Define a method called 'showMenu' to display the restaurant's menu items.\n",
    "    # 'self' refers to the object calling this method.\n",
    "    def showMenu(self):\n",
    "        # Loop through each item in the 'menu_items' list and print it.\n",
    "        for item in self.menu_items:\n",
    "            print(item)\n",
    "\n",
    "    # Define a method called 'printInfo' to display restaurant details.\n",
    "    # 'self' refers to the object calling this method.\n",
    "    def printInfo(self):\n",
    "        # Print the restaurant's name and number of tables.\n",
    "        print(f\"{self.restraunt_name} has {self.no_of_tables} tables\")\n",
    "\n",
    "# Create a new 'Restraunt' object called 'r1'.\n",
    "# Pass \"Hooka\" (name), 20 (tables), and a list of menu items to the __init__ method.\n",
    "# The __init__ method runs automatically, setting attributes and printing \"Hooka opened\".\n",
    "r1 = Restraunt(\"Hooka\", 20, [\"dal makhni\", \"chaap\", \"chole bhature\"])\n",
    "\n",
    "# Call the 'showMenu' method on the 'r1' object to print each menu item.\n",
    "r1.showMenu()\n",
    "\n",
    "# Call the 'printInfo' method on the 'r1' object to print the restaurant's details.\n",
    "r1.printInfo()"
   ]
  },
  {
   "cell_type": "code",
   "execution_count": 59,
   "id": "a7f0d364-47ef-4a7b-a493-fdc88f1bc523",
   "metadata": {},
   "outputs": [
    {
     "name": "stdout",
     "output_type": "stream",
     "text": [
      "Hooka opened\n"
     ]
    }
   ],
   "source": []
  },
  {
   "cell_type": "code",
   "execution_count": 53,
   "id": "fb8cf2fd-a50f-4242-a6b3-33cb3a1af579",
   "metadata": {},
   "outputs": [
    {
     "name": "stdout",
     "output_type": "stream",
     "text": [
      "dal makhni\n",
      "chaap\n",
      "chole bhature\n"
     ]
    }
   ],
   "source": []
  },
  {
   "cell_type": "code",
   "execution_count": 55,
   "id": "2a900505-8b7e-4955-b519-fa15837b6002",
   "metadata": {},
   "outputs": [
    {
     "name": "stdout",
     "output_type": "stream",
     "text": [
      "Hooka has 20 tables\n"
     ]
    }
   ],
   "source": []
  },
  {
   "cell_type": "code",
   "execution_count": 27,
   "id": "f471d647-6ca7-4b28-bfdc-019d4dc74041",
   "metadata": {},
   "outputs": [],
   "source": [
    "# Below are three additional tasks similar in complexity to the provided Book and Restraunt class examples. Each task describes a Python class to be implemented, focusing on Object-Oriented Programming (OOP) concepts like classes, objects, __init__, methods, and self. These tasks are designed for beginners to practice, and no solutions are provided as requested. Each task includes a clear description of the class, its attributes, methods, and what the code should do.\n",
    "\n",
    "# Task 1: Car Class\n",
    "# Create a class to represent a car with attributes for the car's brand, model, year, and color. Include methods to display the car’s details and simulate starting the car.\n",
    "\n",
    "# Class Name: Car\n",
    "\n",
    "# Attributes:\n",
    "# brand (string): The brand of the car (e.g., \"Toyota\").\n",
    "# model (string): The model of the car (e.g., \"Camry\").\n",
    "# year (integer): The manufacturing year (e.g., 2020).\n",
    "# color (string): The color of the car (e.g., \"Blue\").\n",
    "\n",
    "\n",
    "# Methods:\n",
    "# __init__(self, brand, model, year, color): Initialize the car’s attributes and print a message like \"<brand> <model> created\".</model></brand>\n",
    "# displayDetails(self): Print all the car’s attributes in a formatted string, e.g., \"Car: Toyota Camry, Year: 2020, Color: Blue\".\n",
    "# startCar(self): Print a message simulating the car starting, e.g., \"<brand> <model> is starting... Vroom!\".</model></brand>\n",
    "\n",
    "\n",
    "# Instructions:\n",
    "# Create a Car object with sample values (e.g., brand=\"Honda\", model=\"Civic\", year=2019, color=\"Red\").\n",
    "# Call the displayDetails and startCar methods to test the object.\n",
    "# Use comments to explain each line of code for clarity.\n",
    "\n",
    "class Car:\n",
    "    def __init__(self,brand,model,color,year):\n",
    "        self.brand = brand\n",
    "        self.model = model\n",
    "        self.color = color\n",
    "        self.year = year\n",
    "        print(f\"{self.brand} {self.model} created\")\n",
    "    def displayDetails(self):\n",
    "        print(f\"Brand : {self.brand}\\nModel : {self.model}\\nYear : {self.year}\\nColor : {self.color}\")\n",
    "\n",
    "    def startCar(self):\n",
    "        print(f\"{self.brand} {self.model} is starting... Vroom!\")\n",
    "# Task 2: Library Class\n",
    "# Create a class to represent a library with attributes for the library’s name, total books, and a \n",
    "# list of book genres. Include methods to show the genres and print library information.\n",
    "\n",
    "# Class Name: Library\n",
    "# Attributes:\n",
    "# library_name (string): The name of the library (e.g., \"City Library\").\n",
    "# total_books (integer): The total number of books in the library (e.g., 5000).\n",
    "# genres (list): A list of book genres available (e.g., [\"Fiction\", \"Non-Fiction\", \"Science\"]).\n",
    "\n",
    "\n",
    "# Methods:\n",
    "# __init__(self, name, books, genres): Initialize the library’s attributes and print a message like \"<library_name> is now open\".\n",
    "# showGenres(self): Print each genre in the genres list on a new line.\n",
    "# libraryInfo(self): Print a summary, e.g., \"<library_name> has <total_books> books\".\n",
    "\n",
    "\n",
    "# Instructions:\n",
    "# Create a Library object with sample values (e.g., name=\"Town Library\", books=3000, genres=[\"Mystery\", \"History\", \"Fantasy\"]).\n",
    "# Call the showGenres and libraryInfo methods to test the object.\n",
    "# Use comments to explain each line of code for clarity.\n",
    "\n",
    "class Library:\n",
    "    def __init__(self,library_name ,total_books , genre_list):\n",
    "        self.name = library_name\n",
    "        self.total_books = total_books\n",
    "        self.genres = genre_list\n",
    "        print(f\"{self.name} is now open.\")\n",
    "\n",
    "    def showGenres(self):\n",
    "        for genre in self.genres:\n",
    "            print(genre)\n",
    "\n",
    "    def libraryInfo(self):\n",
    "        print(f\"{self.name} has {self.total_books} books\")\n",
    "\n",
    "# Task 3: Pet Class\n",
    "# Create a class to represent a pet with attributes for the pet’s name, type, and age. Include methods to display the pet’s information and simulate a pet action.\n",
    "\n",
    "# Class Name: Pet\n",
    "\n",
    "# Attributes:\n",
    "# pet_name (string): The name of the pet (e.g., \"Buddy\").\n",
    "# pet_type (string): The type of pet (e.g., \"Dog\").\n",
    "# age (integer): The age of the pet in years (e.g., 3).\n",
    "\n",
    "# Methods:\n",
    "# __init__(self, name, pet_type, age): Initialize the pet’s attributes and print a message like \"<pet_name> the <pet_type> is ready to play\".\n",
    "# showInfo(self): Print the pet’s details, e.g., \"Pet Name: Buddy, Type: Dog, Age: 3 years\".\n",
    "# makeSound(self): Print a message simulating the pet’s sound, e.g., \"<pet_name> says Woof!\" (use a generic sound like \"Meow!\" for cats or \"Bark!\" for dogs, or customize based on pet_type).\n",
    "\n",
    "# Instructions:\n",
    "# Create a Pet object with sample values (e.g., name=\"Luna\", pet_type=\"Cat\", age=2).\n",
    "# Call the showInfo and makeSound methods to test the object.\n",
    "# Use comments to explain each line of code for clarity.\n",
    "\n",
    "class Pet:\n",
    "    def __init__(self,name, pet_type, age):\n",
    "        self.name = name\n",
    "        self.pet_type = pet_type\n",
    "        self.age = age\n",
    "        print(f\"{self.name} the {self.pet_type} is ready to play\")    \n",
    "\n",
    "    def showInfo(self):\n",
    "        print(f\"Pet Name : {self.name}\\nType : {self.pet_type}\\nAge : {self.age}\")\n",
    "\n",
    "    def makeSound(self):\n",
    "        print(f\"{self.name} says Woof!\")"
   ]
  },
  {
   "cell_type": "code",
   "execution_count": 15,
   "id": "0f70278c-74ce-49cf-bfaa-50bf9fd8194b",
   "metadata": {},
   "outputs": [
    {
     "name": "stdout",
     "output_type": "stream",
     "text": [
      "Ford Figo created\n"
     ]
    }
   ],
   "source": [
    "figo = Car(\"Ford\",\"Figo\" , \"red\",2013)"
   ]
  },
  {
   "cell_type": "code",
   "execution_count": 9,
   "id": "1a0e4fc1-e4b4-4080-ac74-644bbd53f62b",
   "metadata": {},
   "outputs": [
    {
     "name": "stdout",
     "output_type": "stream",
     "text": [
      "Brand : Ford\n",
      "Model : Figo\n",
      "Year : 2013\n",
      "Color : red\n"
     ]
    }
   ],
   "source": [
    "figo.displayDetails()"
   ]
  },
  {
   "cell_type": "code",
   "execution_count": 11,
   "id": "9bd4395c-4901-4b04-b8b2-a94972645038",
   "metadata": {},
   "outputs": [
    {
     "name": "stdout",
     "output_type": "stream",
     "text": [
      "Ford Figo is starting... Vroom!\n"
     ]
    }
   ],
   "source": [
    "figo.startCar()"
   ]
  },
  {
   "cell_type": "code",
   "execution_count": null,
   "id": "1a0565fa-45b0-4bad-b67c-31a439d2fc9d",
   "metadata": {},
   "outputs": [],
   "source": []
  },
  {
   "cell_type": "code",
   "execution_count": null,
   "id": "bad634d4-33e3-4525-a71d-e8955ca4a484",
   "metadata": {},
   "outputs": [],
   "source": []
  },
  {
   "cell_type": "code",
   "execution_count": 19,
   "id": "86084509-e977-4f1e-95a0-e666e9146f61",
   "metadata": {},
   "outputs": [
    {
     "name": "stdout",
     "output_type": "stream",
     "text": [
      "Yogesh_library is now open.\n"
     ]
    }
   ],
   "source": [
    "yogesh_library = Library(\"Yogesh_library\" , 1234 , [\"Science\",\"Education\",\"Fiction\",\"Sci-Fi\", \"Horror\",\"Comedy\" ])"
   ]
  },
  {
   "cell_type": "code",
   "execution_count": 21,
   "id": "295c928b-ec6d-4174-a60c-8a2eacf668f7",
   "metadata": {},
   "outputs": [
    {
     "name": "stdout",
     "output_type": "stream",
     "text": [
      "Yogesh_library has 1234 books\n"
     ]
    }
   ],
   "source": [
    "yogesh_library.libraryInfo()"
   ]
  },
  {
   "cell_type": "code",
   "execution_count": 23,
   "id": "e48ee4d0-b91f-416b-a362-a3f50e620401",
   "metadata": {},
   "outputs": [
    {
     "name": "stdout",
     "output_type": "stream",
     "text": [
      "Science\n",
      "Education\n",
      "Fiction\n",
      "Sci-Fi\n",
      "Horror\n",
      "Comedy\n"
     ]
    }
   ],
   "source": [
    "yogesh_library.showGenres()"
   ]
  },
  {
   "cell_type": "code",
   "execution_count": null,
   "id": "3d78bafc-800b-4fad-81c2-de599106d7de",
   "metadata": {},
   "outputs": [],
   "source": []
  },
  {
   "cell_type": "code",
   "execution_count": 30,
   "id": "2951fa34-8ed7-492c-b242-720b2362f363",
   "metadata": {},
   "outputs": [
    {
     "name": "stdout",
     "output_type": "stream",
     "text": [
      "Duckkie the Dog is ready to play\n"
     ]
    }
   ],
   "source": [
    "duckkie = Pet(\"Duckkie\" , \"Dog\" , 12)"
   ]
  },
  {
   "cell_type": "code",
   "execution_count": 32,
   "id": "785de955-8a72-4afc-a50b-02f4fa8e82ae",
   "metadata": {},
   "outputs": [
    {
     "name": "stdout",
     "output_type": "stream",
     "text": [
      "Duckkie says Woof!\n"
     ]
    }
   ],
   "source": [
    "duckkie.makeSound()"
   ]
  },
  {
   "cell_type": "code",
   "execution_count": 34,
   "id": "a5ad929a-45de-47f1-b971-551aabe0b1ed",
   "metadata": {},
   "outputs": [
    {
     "name": "stdout",
     "output_type": "stream",
     "text": [
      "Pet Name : Duckkie\n",
      "Type : Dog\n",
      "Age : 12\n"
     ]
    }
   ],
   "source": [
    "duckkie.showInfo()"
   ]
  },
  {
   "cell_type": "code",
   "execution_count": null,
   "id": "53cc1e5d-3fd1-4bd1-aab8-51e93c7a1b1d",
   "metadata": {},
   "outputs": [],
   "source": []
  },
  {
   "cell_type": "code",
   "execution_count": null,
   "id": "6a6181da-81fa-48da-a99e-c93880a94f89",
   "metadata": {},
   "outputs": [],
   "source": []
  },
  {
   "cell_type": "code",
   "execution_count": null,
   "id": "d35e660b-f3a9-4dd7-a23a-f4eef891d7a7",
   "metadata": {},
   "outputs": [],
   "source": []
  },
  {
   "cell_type": "code",
   "execution_count": 47,
   "id": "3f5048a8-74c2-4ad8-8d4f-36a6ae3ad15f",
   "metadata": {},
   "outputs": [
    {
     "name": "stdout",
     "output_type": "stream",
     "text": [
      "Hooka opened\n",
      "dal makhni\n",
      "chaap\n",
      "chole bhature\n"
     ]
    }
   ],
   "source": [
    "\n",
    "class Restraunt:\n",
    "    def __init__(self, name, tables, menu):\n",
    "        self.restraunt_name = name\n",
    "        self.no_of_tables = tables\n",
    "        self.menu_items = menu\n",
    "        print(f\"{self.restraunt_name} opened\")\n",
    "\n",
    "    def showMenu(self):\n",
    "        for item in self.menu_items:\n",
    "            print(item)\n",
    "\n",
    "    def __str__(self):\n",
    "        return f\"{self.restraunt_name} has {self.no_of_tables} tables\"\n",
    "\n",
    "r1 = Restraunt(\"Hooka\", 20, [\"dal makhni\", \"chaap\", \"chole bhature\"])\n",
    "\n",
    "r1.showMenu()\n",
    "\n"
   ]
  },
  {
   "cell_type": "code",
   "execution_count": 49,
   "id": "db3a29cc-0caf-42c8-9351-424b79814bc9",
   "metadata": {},
   "outputs": [
    {
     "name": "stdout",
     "output_type": "stream",
     "text": [
      "Hooka has 20 tables\n"
     ]
    }
   ],
   "source": [
    "print(r1)"
   ]
  },
  {
   "cell_type": "code",
   "execution_count": 74,
   "id": "1a8f312d-25a0-401b-aac1-34babef251f9",
   "metadata": {},
   "outputs": [],
   "source": [
    "class Library:\n",
    "    def __init__(self,library_name ,total_books , genre_list):\n",
    "        self.name = library_name\n",
    "        self.total_books = total_books\n",
    "        self.genres = genre_list\n",
    "        print(f\"{self.name} is now open.\")\n",
    "\n",
    "    def showGenres(self):\n",
    "        for genre in self.genres:\n",
    "            print(genre)\n",
    "\n",
    "    def __str__(self):\n",
    "        return f\"{self.name} has {self.total_books} books\"\n"
   ]
  },
  {
   "cell_type": "code",
   "execution_count": 76,
   "id": "f0443dea-c0bf-4ebf-847e-0fae9d34a0ae",
   "metadata": {},
   "outputs": [
    {
     "name": "stdout",
     "output_type": "stream",
     "text": [
      "Lib is now open.\n"
     ]
    }
   ],
   "source": [
    "l1 = Library(\"Lib\",1234 , [\"Science\",\"Education\",\"Fiction\",\"Sci-Fi\", \"Horror\",\"Comedy\" ])"
   ]
  },
  {
   "cell_type": "code",
   "execution_count": 79,
   "id": "bc701248-c98c-4f26-9443-ee7b557555d5",
   "metadata": {},
   "outputs": [
    {
     "name": "stdout",
     "output_type": "stream",
     "text": [
      "Lib has 1234 books\n"
     ]
    }
   ],
   "source": [
    "print(l1)"
   ]
  },
  {
   "cell_type": "code",
   "execution_count": null,
   "id": "ffbd4d1e-0ac8-4eb7-9da7-22ed3b375905",
   "metadata": {},
   "outputs": [],
   "source": []
  },
  {
   "cell_type": "code",
   "execution_count": null,
   "id": "f86b6515-c3fd-49b8-85c7-becff60d2c5a",
   "metadata": {},
   "outputs": [],
   "source": []
  },
  {
   "cell_type": "markdown",
   "id": "96b489a2-19eb-48da-b067-326a9879995c",
   "metadata": {},
   "source": []
  },
  {
   "cell_type": "code",
   "execution_count": 109,
   "id": "69326aee-568c-459c-857c-9e2d428cbaf4",
   "metadata": {},
   "outputs": [],
   "source": [
    "## inheritance\n",
    "# inherting peoperties and methods by childrens from parents\n",
    "\n",
    "class Vehicle:\n",
    "    def __init__(self,color, wheels, engine):\n",
    "        self.engine = engine\n",
    "        self.color = color\n",
    "        self.wheels = wheels \n",
    "        print(\"Vehicle generated\")\n",
    "\n",
    "    def start(self):\n",
    "        print(\"Engine Started\")\n",
    "\n",
    "    def stop(self):\n",
    "        print(\"Engine Stopped\")\n",
    "\n",
    "\n",
    "\n",
    "class Bike(Vehicle):\n",
    "    def __init__(self,model,brand,color,wheels,engine):\n",
    "        super().__init__(color,wheels,engine)\n",
    "        self.model = model\n",
    "        self.brand = brand\n",
    "\n",
    "\n",
    "h2r = Bike(\"H2R\", \"Kawasaki\",\"black\",2, \"1200cc\")    \n",
    "h2r.start()\n",
    "h2r.stop()"
   ]
  },
  {
   "cell_type": "code",
   "execution_count": 42,
   "id": "bdcf65d9-b9d1-40b2-9c57-0a661cd6925f",
   "metadata": {},
   "outputs": [],
   "source": []
  },
  {
   "cell_type": "code",
   "execution_count": null,
   "id": "a2919d0d-bc5e-46be-92e8-413f1221f1c0",
   "metadata": {},
   "outputs": [],
   "source": []
  },
  {
   "cell_type": "code",
   "execution_count": null,
   "id": "d6e5d04e-27fe-4ae3-a014-078cf9da38bd",
   "metadata": {},
   "outputs": [],
   "source": []
  },
  {
   "cell_type": "code",
   "execution_count": null,
   "id": "41b25fce-735b-4f76-9188-f53c4593f53a",
   "metadata": {},
   "outputs": [],
   "source": []
  },
  {
   "cell_type": "code",
   "execution_count": null,
   "id": "218de247-7ff2-48e0-90d9-0fa3e8ada159",
   "metadata": {},
   "outputs": [],
   "source": []
  },
  {
   "cell_type": "code",
   "execution_count": null,
   "id": "ec4a9cdc-4527-4c0d-98a3-6fb6d9bf9153",
   "metadata": {},
   "outputs": [],
   "source": []
  },
  {
   "cell_type": "code",
   "execution_count": 52,
   "id": "a1f75be8-7fa2-4b51-9ea1-4061a725c89a",
   "metadata": {},
   "outputs": [],
   "source": []
  },
  {
   "cell_type": "code",
   "execution_count": 54,
   "id": "a1211c83-1f50-4df9-adc0-d37e17ec885e",
   "metadata": {},
   "outputs": [],
   "source": [
    "# Polymorphism\n",
    "\n",
    "\n",
    "\n",
    "class Dog:\n",
    "    def __init__(self,name,breed,color):\n",
    "        self.name = name\n",
    "        self.breed = breed\n",
    "        self.color = color\n",
    "\n",
    "    def speak(self):\n",
    "        print(f\"{self.name} says Woof!\")\n",
    "\n",
    "\n",
    "\n",
    "class Cat:\n",
    "    def __init__(self,name,breed,color):\n",
    "        self.name = name\n",
    "        self.breed = breed\n",
    "        self.color = color\n",
    "\n",
    "    def speak(self):\n",
    "        print(f\"{self.name} says Meow!\")\n",
    "\n",
    "\n",
    "\n",
    "        \n",
    "johnny = Dog(\"Johnny\" , \"Labrador\" , \"golden\")\n",
    "cherry = Cat(\"cherry\" , \"Persian\" , \"white\")\n",
    "johnny.speak()\n",
    "cherry.speak()\n",
    "johnny.name = \"tushar\"\n",
    "print(johnny.name)"
   ]
  },
  {
   "cell_type": "code",
   "execution_count": 56,
   "id": "f59d8af6-db61-46ed-9470-4d350b09aade",
   "metadata": {},
   "outputs": [],
   "source": []
  },
  {
   "cell_type": "code",
   "execution_count": 62,
   "id": "27d1d963-b9c9-4f0b-b625-ff38968eadca",
   "metadata": {},
   "outputs": [],
   "source": []
  },
  {
   "cell_type": "code",
   "execution_count": null,
   "id": "871f1c9a-84d9-48bd-945c-e8078364e83f",
   "metadata": {},
   "outputs": [],
   "source": []
  },
  {
   "cell_type": "code",
   "execution_count": null,
   "id": "797708c9-b0d9-49f7-ad6c-ce3ec54cfbe4",
   "metadata": {},
   "outputs": [],
   "source": []
  },
  {
   "cell_type": "code",
   "execution_count": null,
   "id": "144b9eaf-c6be-4edd-b070-013db89db503",
   "metadata": {},
   "outputs": [],
   "source": []
  },
  {
   "cell_type": "code",
   "execution_count": null,
   "id": "61bcc1a4-9b5b-4e45-abdb-e91b049ca82b",
   "metadata": {},
   "outputs": [],
   "source": []
  },
  {
   "cell_type": "code",
   "execution_count": 73,
   "id": "6b6f99e9-5960-4ff4-8adf-cce9265cf0d2",
   "metadata": {},
   "outputs": [],
   "source": []
  },
  {
   "cell_type": "code",
   "execution_count": 96,
   "id": "066991ff-0950-452b-b41f-900d6fb69d4f",
   "metadata": {},
   "outputs": [],
   "source": [
    "# Encapsulation\n",
    "\n",
    "\n",
    "class Dog:\n",
    "    def __init__(self,name,breed,color):\n",
    "        self.name = name\n",
    "        self.__breed = breed\n",
    "        self.__color = color\n",
    "\n",
    "\n",
    "    def getBreed(self):\n",
    "        return self.__breed\n",
    "        \n",
    "    def setBreed(self , newBreed):\n",
    "        self.__breed = newBreed\n",
    "    \n",
    "    def getColor(self):\n",
    "        return self.__color\n",
    "        \n",
    "    def setColor(self , newColor):\n",
    "        self.__breed = newColor\n",
    "\n",
    "    def speak(self):\n",
    "        print(f\"{self.name} says Woof!\")\n",
    "\n",
    "\n",
    "\n",
    "tommy = Dog(\"Tommy\",\"Mastiff\", \"brown\")\n",
    "tommy.getBreed()\n",
    "tommy.setBreed(\"labrador\")\n",
    "tommy.getBreed()"
   ]
  },
  {
   "cell_type": "code",
   "execution_count": null,
   "id": "20228e74-f649-4e02-abd3-11117bac9ffc",
   "metadata": {},
   "outputs": [],
   "source": []
  },
  {
   "cell_type": "code",
   "execution_count": 99,
   "id": "8f91a7c6-4ba7-4aea-8389-00a673ea8d17",
   "metadata": {},
   "outputs": [],
   "source": []
  },
  {
   "cell_type": "code",
   "execution_count": 103,
   "id": "e02d0274-379e-438c-a8a2-bb8a071c70fe",
   "metadata": {},
   "outputs": [],
   "source": []
  },
  {
   "cell_type": "code",
   "execution_count": null,
   "id": "551b6a44-c447-42c0-85a0-fd8a2671ae0d",
   "metadata": {},
   "outputs": [],
   "source": []
  },
  {
   "cell_type": "markdown",
   "id": "0851be98-305b-49af-91e8-0b863cfedc1d",
   "metadata": {},
   "source": [
    "```python\n",
    "# --- Inheritance ---\n",
    "# Inheritance allows a child class to inherit attributes and methods from a parent class for code reuse\n",
    "\n",
    "# Define the parent class named Vehicle\n",
    "class Vehicle:\n",
    "    # Constructor method to initialize Vehicle objects with attributes\n",
    "    # Parameters: color (string), wheels (integer), engine (string)\n",
    "    def __init__(self, color, wheels, engine):\n",
    "        # Assign the color parameter to the instance variable self.color\n",
    "        self.color = color\n",
    "        # Assign the wheels parameter to the instance variable self.wheels\n",
    "        self.wheels = wheels\n",
    "        # Assign the engine parameter to the instance variable self.engine\n",
    "        self.engine = engine\n",
    "        # Print a message to confirm a Vehicle object is created\n",
    "        print(\"Vehicle generated\")\n",
    "\n",
    "    # Method to simulate starting the vehicle's engine\n",
    "    def start(self):\n",
    "        # Print a message indicating the engine has started\n",
    "        print(\"Engine Started\")\n",
    "\n",
    "    # Method to simulate stopping the vehicle's engine\n",
    "    def stop(self):\n",
    "        # Print a message indicating the engine has stopped\n",
    "        print(\"Engine Stopped\")\n",
    "\n",
    "# Define the child class Bike that inherits from Vehicle\n",
    "class Bike(Vehicle):\n",
    "    # Constructor method for Bike, extending the parent’s attributes\n",
    "    # Parameters: model (string), brand (string), color (string), wheels (integer), engine (string)\n",
    "    def __init__(self, model, brand, color, wheels, engine):\n",
    "        # Call the parent class (Vehicle) constructor using super() to initialize inherited attributes\n",
    "        super().__init__(color, wheels, engine)\n",
    "        # Assign the model parameter to the instance variable self.model\n",
    "        self.model = model\n",
    "        # Assign the brand parameter to the instance variable self.brand\n",
    "        self.brand = brand\n",
    "\n",
    "# Create a Bike object with specific attributes\n",
    "# Arguments: model=\"H2R\", brand=\"Kawasaki\", color=\"black\", wheels=2, engine=\"1200cc\"\n",
    "h2r = Bike(\"H2R\", \"Kawasaki\", \"black\", 2, \"1200cc\")\n",
    "# Call the inherited start() method from Vehicle to print \"Engine Started\"\n",
    "h2r.start()\n",
    "# Call the inherited stop() method from Vehicle to print \"Engine Stopped\"\n",
    "h2r.stop()\n",
    "\n",
    "# --- Polymorphism ---\n",
    "# Polymorphism allows different classes to have methods with the same name but different implementations\n",
    "\n",
    "# Define a Dog class\n",
    "class Dog:\n",
    "    # Constructor to initialize Dog objects with attributes\n",
    "    # Parameters: name (string), breed (string), color (string)\n",
    "    def __init__(self, name, breed, color):\n",
    "        # Assign the name parameter to the instance variable self.name\n",
    "        self.name = name\n",
    "        # Assign the breed parameter to the instance variable self.breed\n",
    "        self.breed = breed\n",
    "        # Assign the color parameter to the instance variable self.color\n",
    "        self.color = color\n",
    "\n",
    "    # Method to simulate the dog speaking\n",
    "    def speak(self):\n",
    "        # Print a message with the dog’s name and its sound \"Woof!\"\n",
    "        print(f\"{self.name} says Woof!\")\n",
    "\n",
    "# Define a Cat class\n",
    "class Cat:\n",
    "    # Constructor to initialize Cat objects with attributes\n",
    "    # Parameters: name (string), breed (string), color (string)\n",
    "    def __init__(self, name, breed, color):\n",
    "        # Assign the name parameter to the instance variable self.name\n",
    "        self.name = name\n",
    "        # Assign the breed parameter to the instance variable self.breed\n",
    "        self.breed = breed\n",
    "        # Assign the color parameter to the instance variable self.color\n",
    "        self.color = color\n",
    "\n",
    "    # Method to simulate the cat speaking\n",
    "    def speak(self):\n",
    "        # Print a message with the cat’s name and its sound \"Meow!\"\n",
    "        print(f\"{self.name} says Meow!\")\n",
    "\n",
    "# Create a Dog object with specific attributes\n",
    "# Arguments: name=\"Johnny\", breed=\"Labrador\", color=\"golden\"\n",
    "johnny = Dog(\"Johnny\", \"Labrador\", \"golden\")\n",
    "# Create a Cat object with specific attributes\n",
    "# Arguments: name=\"cherry\", breed=\"Persian\", color=\"white\"\n",
    "cherry = Cat(\"cherry\", \"Persian\", \"white\")\n",
    "# Call the speak() method on the Dog object to print \"Johnny says Woof!\"\n",
    "johnny.speak()\n",
    "# Call the speak() method on the Cat object to print \"cherry says Meow!\"\n",
    "cherry.speak()\n",
    "# Update the name attribute of the Dog object to \"tushar\"\n",
    "johnny.name = \"tushar\"\n",
    "# Print the updated name attribute of the Dog object, outputs \"tushar\"\n",
    "print(johnny.name)\n",
    "\n",
    "# --- Encapsulation ---\n",
    "# Encapsulation restricts direct access to object attributes, using methods to control access\n",
    "\n",
    "# Define a Dog class with encapsulated attributes\n",
    "class Dog:\n",
    "    # Constructor to initialize Dog objects with attributes\n",
    "    # Parameters: name (string), breed (string), color (string)\n",
    "    def __init__(self, name, breed, color):\n",
    "        # Assign the name parameter to the public instance variable self.name\n",
    "        self.name = name\n",
    "        # Assign the breed parameter to the private instance variable self.__breed\n",
    "        self.__breed = breed\n",
    "        # Assign the color parameter to the private instance variable self.__color\n",
    "        self.__color = color\n",
    "\n",
    "    # Getter method to access the private __breed attribute\n",
    "    def getBreed(self):\n",
    "        # Return the value of the private __breed attribute\n",
    "        return self.__breed\n",
    "\n",
    "    # Setter method to modify the private __breed attribute\n",
    "    # Parameter: newBreed (string)\n",
    "    def setBreed(self, newBreed):\n",
    "        # Update the private __breed attribute with the newBreed value\n",
    "        self.__breed = newBreed\n",
    "\n",
    "    # Getter method to access the private __color attribute\n",
    "    def getColor(self):\n",
    "        # Return the value of the private __color attribute\n",
    "        return self.__color\n",
    "\n",
    "    # Setter method to modify the private __color attribute\n",
    "    # Parameter: newColor (string)\n",
    "    def setColor(self, newColor):\n",
    "        # Update the private __color attribute with the newColor value\n",
    "        self.__color = newColor\n",
    "\n",
    "    # Method to simulate the dog speaking\n",
    "    def speak(self):\n",
    "        # Print a message with the dog’s name and its sound \"Woof!\"\n",
    "        print(f\"{self.name} says Woof!\")\n",
    "\n",
    "# Create a Dog object with specific attributes\n",
    "# Arguments: name=\"Tommy\", breed=\"Mastiff\", color=\"brown\"\n",
    "tommy = Dog(\"Tommy\", \"Mastiff\", \"brown\")\n",
    "# Call the getBreed() method to retrieve the private __breed attribute, returns \"Mastiff\"\n",
    "tommy.getBreed()\n",
    "# Call the setBreed() method to update the private __breed attribute to \"labrador\"\n",
    "tommy.setBreed(\"labrador\")\n",
    "# Call the getBreed() method again to retrieve the updated __breed attribute, returns \"labrador\"\n",
    "tommy.getBreed()"
   ]
  },
  {
   "cell_type": "code",
   "execution_count": null,
   "id": "aee03f5e-5b53-4812-b06f-6c90be599b6c",
   "metadata": {},
   "outputs": [],
   "source": []
  }
 ],
 "metadata": {
  "kernelspec": {
   "display_name": "Python (myenv)",
   "language": "python",
   "name": "myenv"
  },
  "language_info": {
   "codemirror_mode": {
    "name": "ipython",
    "version": 3
   },
   "file_extension": ".py",
   "mimetype": "text/x-python",
   "name": "python",
   "nbconvert_exporter": "python",
   "pygments_lexer": "ipython3",
   "version": "3.11.7"
  }
 },
 "nbformat": 4,
 "nbformat_minor": 5
}
