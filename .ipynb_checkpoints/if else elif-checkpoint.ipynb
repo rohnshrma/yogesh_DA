{
 "cells": [
  {
   "cell_type": "code",
   "execution_count": null,
   "id": "80c228ad-fad8-4438-8ba4-1ba1cf7fc58c",
   "metadata": {},
   "outputs": [],
   "source": [
    "# the code inside of the if block runs only if the condition is True\n",
    "\n",
    "#syntax\n",
    "# if condition:\n",
    "#     code to be executed"
   ]
  },
  {
   "cell_type": "code",
   "execution_count": 6,
   "id": "baab54a7-dd7a-4f57-8bd2-b836a05bec58",
   "metadata": {},
   "outputs": [],
   "source": [
    "# age = int(input(\"Enter your age : \"))\n",
    "# if age >= 18:\n",
    "#     print(\"ELigible to drive\")\n",
    "#     print(\"bigger than 18 or equals to 18\")"
   ]
  },
  {
   "cell_type": "code",
   "execution_count": null,
   "id": "12dcb3f1-98d1-4055-a818-59c936403231",
   "metadata": {},
   "outputs": [],
   "source": []
  },
  {
   "cell_type": "code",
   "execution_count": 17,
   "id": "ca45eca9-6ae9-40fa-9862-c0289eb48617",
   "metadata": {},
   "outputs": [],
   "source": [
    "# the code inside of the else block runs only if all the above conditions are false\n",
    "# if condition:\n",
    "    # code to be executed is condition inside of if is True\n",
    "# else:\n",
    "    # code to be executed if all condition above are False"
   ]
  },
  {
   "cell_type": "code",
   "execution_count": 21,
   "id": "f1f773f9-3b69-4d78-b9e7-d8d06e9703eb",
   "metadata": {},
   "outputs": [
    {
     "name": "stdin",
     "output_type": "stream",
     "text": [
      "Enter your age :  1\n"
     ]
    },
    {
     "name": "stdout",
     "output_type": "stream",
     "text": [
      "Not Eligible to drive.\n"
     ]
    }
   ],
   "source": [
    "age = int(input(\"Enter your age : \"))\n",
    "if age >= 18:\n",
    "    print(\"ELigible to drive\")\n",
    "else:\n",
    "    print(\"Not Eligible to drive.\")"
   ]
  },
  {
   "cell_type": "code",
   "execution_count": null,
   "id": "358a723e-f075-4a30-ad2b-ed49d1215242",
   "metadata": {},
   "outputs": [],
   "source": []
  },
  {
   "cell_type": "code",
   "execution_count": 28,
   "id": "28692544-4ac4-4c09-9ce0-51d6a8bf2548",
   "metadata": {},
   "outputs": [
    {
     "name": "stdin",
     "output_type": "stream",
     "text": [
      "Enter the day today (0-6) :  34\n"
     ]
    },
    {
     "name": "stdout",
     "output_type": "stream",
     "text": [
      "Not a valid day\n"
     ]
    }
   ],
   "source": [
    "today = int(input(\"Enter the day today (0-6) : \"))\n",
    "if today == 0:\n",
    "    print(\"Sunday\")\n",
    "elif today == 1:\n",
    "    print(\"Monday\")\n",
    "elif today == 2:\n",
    "    print(\"Tuesday\")\n",
    "elif today == 3:\n",
    "    print(\"Wednesday\")\n",
    "elif today == 4:\n",
    "    print(\"Thursday\")\n",
    "elif today == 5:\n",
    "    print(\"Friday\")\n",
    "elif today == 6:\n",
    "    print(\"Saturday\")\n",
    "else:\n",
    "    print(\"Not a valid day\")"
   ]
  },
  {
   "cell_type": "code",
   "execution_count": null,
   "id": "fb5c8939-b51d-44a3-b286-83bab045ce24",
   "metadata": {},
   "outputs": [],
   "source": []
  },
  {
   "cell_type": "code",
   "execution_count": null,
   "id": "0df5d596-a6ef-415e-ac46-80224c0aaccc",
   "metadata": {},
   "outputs": [],
   "source": []
  },
  {
   "cell_type": "code",
   "execution_count": 48,
   "id": "abb2613a-4db9-4c0e-9266-2038c3e4c8a1",
   "metadata": {},
   "outputs": [
    {
     "name": "stdin",
     "output_type": "stream",
     "text": [
      "Enter your age :  23\n"
     ]
    },
    {
     "name": "stdout",
     "output_type": "stream",
     "text": [
      "Eligible to vote\n"
     ]
    }
   ],
   "source": [
    "age = int(input(\"Enter your age : \"))\n",
    "\n",
    "if age >= 60:\n",
    "    print(\"Not fit to vote\")\n",
    "elif age >= 18:\n",
    "    print(\"Eligible to vote\")\n",
    "else:\n",
    "    print(\"Not Eligible to vote\")"
   ]
  },
  {
   "cell_type": "code",
   "execution_count": 50,
   "id": "7f1dc06f-228e-4d43-885a-db6d154ca1e9",
   "metadata": {},
   "outputs": [
    {
     "name": "stdin",
     "output_type": "stream",
     "text": [
      "Enter number :  0\n"
     ]
    },
    {
     "name": "stdout",
     "output_type": "stream",
     "text": [
      "0 is zero\n"
     ]
    }
   ],
   "source": [
    "n = int(input(\"Enter number : \"))\n",
    "if n > 0:\n",
    "    print(f\"{n} is positive\")\n",
    "elif n < 0:\n",
    "    print(f\"{n} is negative\")\n",
    "else:\n",
    "    print(f\"{n} is zero\")"
   ]
  },
  {
   "cell_type": "code",
   "execution_count": 58,
   "id": "702f4ed5-968a-4ffa-8c7e-54d625c11097",
   "metadata": {},
   "outputs": [
    {
     "name": "stdin",
     "output_type": "stream",
     "text": [
      "Enter Marks :  100\n"
     ]
    },
    {
     "name": "stdout",
     "output_type": "stream",
     "text": [
      "A\n"
     ]
    }
   ],
   "source": [
    "marks = int(input(\"Enter Marks : \"))\n",
    "if marks >= 90 and marks <= 100:\n",
    "    print(\"A\")\n",
    "elif marks >= 80 and marks <= 89:\n",
    "    print(\"B\")\n",
    "elif marks >= 70 and marks <= 79:\n",
    "    print(\"C\")\n",
    "elif marks >= 60 and marks <= 69:\n",
    "    print(\"D\")\n",
    "else:\n",
    "    print(\"Fail\")"
   ]
  },
  {
   "cell_type": "code",
   "execution_count": 6,
   "id": "36cdcc60-b73c-4b6b-a39f-f81647dacfbf",
   "metadata": {},
   "outputs": [
    {
     "name": "stdin",
     "output_type": "stream",
     "text": [
      "Enter year :  2002\n"
     ]
    },
    {
     "name": "stdout",
     "output_type": "stream",
     "text": [
      "2002 is not a Leap Year\n"
     ]
    }
   ],
   "source": [
    "year = int(input(\"Enter year : \"))\n",
    "if (year % 4 == 0 and year % 100 != 0) or (year % 400 == 0):\n",
    "    print(f\"{year} is a Leap Year\")\n",
    "else:\n",
    "    print(f\"{year} is not a Leap Year\")"
   ]
  },
  {
   "cell_type": "code",
   "execution_count": null,
   "id": "d703e8e8-85f0-4f15-ae4a-feb22db8cbb6",
   "metadata": {},
   "outputs": [],
   "source": []
  },
  {
   "cell_type": "code",
   "execution_count": 13,
   "id": "408c38a1-5b04-4358-a06b-012efccad688",
   "metadata": {},
   "outputs": [
    {
     "name": "stdout",
     "output_type": "stream",
     "text": [
      "1023 is greater than 23 121\n"
     ]
    }
   ],
   "source": [
    "a = 121\n",
    "b = 23\n",
    "c = 1023\n",
    "if a > b and a > c:\n",
    "    print(f\"{a} is greater than {b} {c}\")\n",
    "elif b > a and b > c:\n",
    "    print(f\"{b} is greater than {c} {a}\")\n",
    "else:\n",
    "    print(f\"{c} is greater than {b} {a}\")"
   ]
  },
  {
   "cell_type": "code",
   "execution_count": 19,
   "id": "e1d8eed5-4d4c-455f-be3d-472a6459e142",
   "metadata": {},
   "outputs": [
    {
     "name": "stdout",
     "output_type": "stream",
     "text": [
      "scalen\n"
     ]
    }
   ],
   "source": [
    "a = 125\n",
    "b = 1\n",
    "c = 12\n",
    "if a == b == c:\n",
    "    print(\"Equilateral\")\n",
    "elif a == b or b == c or c == a:\n",
    "    print(\"isosceles\")\n",
    "else:\n",
    "    print(\"scalen\")"
   ]
  },
  {
   "cell_type": "code",
   "execution_count": null,
   "id": "d5f11c61-1f93-414e-a84e-ff10f9ee7309",
   "metadata": {},
   "outputs": [],
   "source": []
  }
 ],
 "metadata": {
  "kernelspec": {
   "display_name": "Python (myenv)",
   "language": "python",
   "name": "myenv"
  },
  "language_info": {
   "codemirror_mode": {
    "name": "ipython",
    "version": 3
   },
   "file_extension": ".py",
   "mimetype": "text/x-python",
   "name": "python",
   "nbconvert_exporter": "python",
   "pygments_lexer": "ipython3",
   "version": "3.11.7"
  }
 },
 "nbformat": 4,
 "nbformat_minor": 5
}
