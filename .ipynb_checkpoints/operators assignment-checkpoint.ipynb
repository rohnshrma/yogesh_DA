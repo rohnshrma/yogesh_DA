{
 "cells": [
  {
   "cell_type": "code",
   "execution_count": 2,
   "id": "61139e18-3ff8-4f49-ad9b-921842e36bae",
   "metadata": {},
   "outputs": [],
   "source": [
    "# Additional Practical Assignment: Python Operators\n",
    "# Instructions: Perform the tasks below using arithmetic, assignment, logical, and comparison operators.\n",
    "# Do not use if-else, loops, functions, or comprehensions.\n",
    "# Write the results as comments next to each operation.\n",
    "\n",
    "# 1. Advanced Arithmetic Operators\n",
    "# Create three variables and perform the following operations:\n",
    "# - Add the first two variables and multiply the result by the third\n",
    "# - Divide the first variable by the second and raise the result to the power of the third\n",
    "# - Find the modulus of the first variable divided by the second, then add the third\n",
    "# - Subtract the second variable from the first and perform floor division by the third\n",
    "\n",
    "# 2. Extended Assignment Operators\n",
    "# Initialize one variable and use assignment operators to:\n",
    "# - Add the variable to itself and assign\n",
    "# - Multiply by 5 and subtract 10 in a single chained assignment\n",
    "# - Divide by 2 and then modulus by 3 in a single chained assignment\n",
    "# - Raise to the power of 2 and then add 1\n",
    "# - Reset the variable and perform floor division by 4\n",
    "\n",
    "# 3. Complex Comparison Operators\n",
    "# Create four variables and compare them using:\n",
    "# - Check if the first is equal to the second and the third is not equal to the fourth\n",
    "# - Check if the sum of the first and second is greater than the product of the third and fourth\n",
    "# - Check if the first is less than or equal to the second or third\n",
    "# - Check if the fourth is greater than the first and less than the third\n",
    "\n",
    "# 4. Combined Logical Operations\n",
    "# Create three variables and perform:\n",
    "# - Logical AND to check if the first is greater than the second and the second is less than the third\n",
    "# - Logical OR to check if the first is equal to the third or the second is not equal to the third\n",
    "# - Logical NOT to negate the result of the first variable being greater than or equal to the sum of the second and third\n",
    "# - Combine AND and OR to check if (first is greater than second) AND (second is less than third OR first is equal to third)\n",
    "\n",
    "# 5. Mixed Operator Challenges\n",
    "# Create three variables and write expressions to:\n",
    "# - Multiply the first and second, compare the result with the third, and apply logical NOT\n",
    "# - Add the first and third, divide by the second, and check if the result is greater than or equal to the third\n",
    "# - Find the modulus of the first by the second, raise it to the power of the third, and check if it’s less than the first\n",
    "# - Combine arithmetic and logical operators to check if (first + second) is greater than third AND (second * third) is not equal to first"
   ]
  },
  {
   "cell_type": "code",
   "execution_count": null,
   "id": "75d88d75-a95d-46d5-9807-2e7208ae66af",
   "metadata": {},
   "outputs": [],
   "source": [
    "# 1. Advanced Arithmetic Operators\n",
    "# Create three variables and perform the following operations:\n",
    "# - Add the first two variables and multiply the result by the third\n",
    "# - Divide the first variable by the second and raise the result to the power of the third\n",
    "# - Find the modulus of the first variable divided by the second, then add the third\n",
    "# - Subtract the second variable from the first and perform floor division by the third\n"
   ]
  },
  {
   "cell_type": "code",
   "execution_count": 8,
   "id": "678f99d9-d071-4139-b98b-4a06f5af61ae",
   "metadata": {},
   "outputs": [
    {
     "name": "stdout",
     "output_type": "stream",
     "text": [
      "1512\n",
      "3.478558429505809e+42\n",
      "59\n",
      "0\n"
     ]
    }
   ],
   "source": [
    "x = 23\n",
    "y = 4\n",
    "z = 56\n",
    "print((x+y)*z)\n",
    "print((x / y) ** z)\n",
    "print((x % y) + z)\n",
    "print((x - y) // z)"
   ]
  },
  {
   "cell_type": "code",
   "execution_count": null,
   "id": "9afc6b01-f66d-4393-a2c4-bf8a6b04904c",
   "metadata": {},
   "outputs": [],
   "source": [
    "# 2. Extended Assignment Operators\n",
    "# Initialize one variable and use assignment operators to:\n",
    "# - Add the variable to itself and assign\n",
    "# - Multiply by 5 and subtract 10 in a single chained assignment\n",
    "# - Divide by 2 and then modulus by 3 in a single chained assignment\n",
    "# - Raise to the power of 2 and then add 1\n",
    "# - Reset the variable and perform floor division by 4\n"
   ]
  },
  {
   "cell_type": "code",
   "execution_count": 27,
   "id": "acd19640-473d-4381-a15e-06e38888e074",
   "metadata": {},
   "outputs": [
    {
     "name": "stdout",
     "output_type": "stream",
     "text": [
      "46\n",
      "220\n",
      "2.0\n",
      "5.0\n",
      "5\n"
     ]
    }
   ],
   "source": [
    "a = 23\n",
    "a += a\n",
    "print(a)\n",
    "\n",
    "a *= 5 ; a-=10\n",
    "print(a)\n",
    "\n",
    "a/= 2 ; a %= 3\n",
    "print(a)\n",
    "\n",
    "a**=2 ; a+=1\n",
    "print(a)\n",
    "\n",
    "a = 23\n",
    "a //= 4\n",
    "print(a)"
   ]
  },
  {
   "cell_type": "code",
   "execution_count": null,
   "id": "da921121-d8de-4ec9-9baa-684b66921a87",
   "metadata": {},
   "outputs": [],
   "source": []
  },
  {
   "cell_type": "code",
   "execution_count": 29,
   "id": "ce77ab16-91bf-46bb-8778-ecd49801fd5f",
   "metadata": {},
   "outputs": [],
   "source": [
    "# 3. Complex Comparison Operators\n",
    "# Create four variables and compare them using:\n",
    "# - Check if the first is equal to the second and the third is not equal to the fourth\n",
    "# - Check if the sum of the first and second is greater than the product of the third and fourth\n",
    "# - Check if the first is less than or equal to the second or third\n",
    "# - Check if the fourth is greater than the first and less than the third\n"
   ]
  },
  {
   "cell_type": "code",
   "execution_count": 37,
   "id": "bd2f30b4-b343-497f-9684-cdb8a557ebbc",
   "metadata": {},
   "outputs": [
    {
     "name": "stdout",
     "output_type": "stream",
     "text": [
      "False\n",
      "False\n",
      "True\n",
      "False\n"
     ]
    }
   ],
   "source": [
    "a = 23 \n",
    "b = 45\n",
    "c = 67\n",
    "d = 12\n",
    "\n",
    "print(a == b and c != d)\n",
    "print((a+b) > (c*d))\n",
    "print(a <= b or a <= c)\n",
    "print(d > a and d < c)"
   ]
  },
  {
   "cell_type": "code",
   "execution_count": 39,
   "id": "c7858fc1-c99b-400b-aa59-6c656d4e231c",
   "metadata": {},
   "outputs": [],
   "source": [
    "# 4. Combined Logical Operations\n",
    "# Create three variables and perform:\n",
    "# - Logical AND to check if the first is greater than the second and the second is less than the third\n",
    "# - Logical OR to check if the first is equal to the third or the second is not equal to the third\n",
    "# - Logical NOT to negate the result of the first variable being greater than or equal to the sum of the second and third\n",
    "# - Combine AND and OR to check if (first is greater than second) AND (second is less than third OR first is equal to third)\n"
   ]
  },
  {
   "cell_type": "code",
   "execution_count": 45,
   "id": "bec67687-f0a9-476c-a06e-2c77e756ed79",
   "metadata": {},
   "outputs": [
    {
     "name": "stdout",
     "output_type": "stream",
     "text": [
      "False\n",
      "True\n",
      "True\n"
     ]
    }
   ],
   "source": [
    "c = 34\n",
    "a = 23\n",
    "b = 56\n",
    "print(a>b and b < c)\n",
    "print(a == c or b != c)\n",
    "print (not a > (b+c))"
   ]
  },
  {
   "cell_type": "code",
   "execution_count": 47,
   "id": "edec0679-aa56-4165-a24d-9977044d721e",
   "metadata": {},
   "outputs": [
    {
     "name": "stdout",
     "output_type": "stream",
     "text": [
      "False\n"
     ]
    }
   ],
   "source": [
    "print((a > b) and (b < c or  a== c))"
   ]
  },
  {
   "cell_type": "code",
   "execution_count": null,
   "id": "d7b1c5d5-869a-4a5d-8908-7ad2cf630e4c",
   "metadata": {},
   "outputs": [],
   "source": []
  }
 ],
 "metadata": {
  "kernelspec": {
   "display_name": "Python (myenv)",
   "language": "python",
   "name": "myenv"
  },
  "language_info": {
   "codemirror_mode": {
    "name": "ipython",
    "version": 3
   },
   "file_extension": ".py",
   "mimetype": "text/x-python",
   "name": "python",
   "nbconvert_exporter": "python",
   "pygments_lexer": "ipython3",
   "version": "3.11.7"
  }
 },
 "nbformat": 4,
 "nbformat_minor": 5
}
