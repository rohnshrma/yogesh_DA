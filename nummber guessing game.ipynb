{
 "cells": [
  {
   "cell_type": "code",
   "execution_count": 1,
   "id": "60cf76a2-03fe-42d4-8d1b-d700bf37156e",
   "metadata": {},
   "outputs": [],
   "source": [
    "# import random\n",
    "# secret  = random.randint(1,101)\n",
    "# attempts = 0\n",
    "\n",
    "# while True:\n",
    "#     attempts+=1\n",
    "#     guess = int(input(\"Enter your guess : \"))\n",
    "#     if guess > secret:\n",
    "#         print(\"Too High! Try Low!\")\n",
    "#     elif guess < secret:\n",
    "#         print(\"Too Low! Try High!\")\n",
    "#     else:\n",
    "#         print(f\"Congratulations! You've guess the correct number {secret} in {attempts} attempts\")\n",
    "#         break"
   ]
  },
  {
   "cell_type": "code",
   "execution_count": 28,
   "id": "00f68545-32af-4ed8-a9cb-ccf0ee5e0801",
   "metadata": {},
   "outputs": [
    {
     "name": "stdout",
     "output_type": "stream",
     "text": [
      "Welcome to number guessing game!\n",
      "\n"
     ]
    },
    {
     "name": "stdin",
     "output_type": "stream",
     "text": [
      "Enter your guess :  34\n"
     ]
    },
    {
     "name": "stdout",
     "output_type": "stream",
     "text": [
      "\n",
      "Too Low! Try High!\n",
      "\n",
      "Attempts Left : 9\n"
     ]
    },
    {
     "name": "stdin",
     "output_type": "stream",
     "text": [
      "Enter your guess :  34\n"
     ]
    },
    {
     "name": "stdout",
     "output_type": "stream",
     "text": [
      "\n",
      "Too Low! Try High!\n",
      "\n",
      "Attempts Left : 8\n"
     ]
    },
    {
     "name": "stdin",
     "output_type": "stream",
     "text": [
      "Enter your guess :  34\n"
     ]
    },
    {
     "name": "stdout",
     "output_type": "stream",
     "text": [
      "\n",
      "Too Low! Try High!\n",
      "\n",
      "Attempts Left : 7\n"
     ]
    },
    {
     "name": "stdin",
     "output_type": "stream",
     "text": [
      "Enter your guess :  34\n"
     ]
    },
    {
     "name": "stdout",
     "output_type": "stream",
     "text": [
      "\n",
      "Too Low! Try High!\n",
      "\n",
      "Attempts Left : 6\n"
     ]
    },
    {
     "name": "stdin",
     "output_type": "stream",
     "text": [
      "Enter your guess :  34\n"
     ]
    },
    {
     "name": "stdout",
     "output_type": "stream",
     "text": [
      "\n",
      "Too Low! Try High!\n",
      "\n",
      "Attempts Left : 5\n"
     ]
    },
    {
     "name": "stdin",
     "output_type": "stream",
     "text": [
      "Enter your guess :  34\n"
     ]
    },
    {
     "name": "stdout",
     "output_type": "stream",
     "text": [
      "\n",
      "Too Low! Try High!\n",
      "\n",
      "Attempts Left : 4\n"
     ]
    },
    {
     "name": "stdin",
     "output_type": "stream",
     "text": [
      "Enter your guess :  34\n"
     ]
    },
    {
     "name": "stdout",
     "output_type": "stream",
     "text": [
      "\n",
      "Too Low! Try High!\n",
      "\n",
      "Attempts Left : 3\n"
     ]
    },
    {
     "name": "stdin",
     "output_type": "stream",
     "text": [
      "Enter your guess :  34\n"
     ]
    },
    {
     "name": "stdout",
     "output_type": "stream",
     "text": [
      "\n",
      "Too Low! Try High!\n",
      "\n",
      "Attempts Left : 2\n"
     ]
    },
    {
     "name": "stdin",
     "output_type": "stream",
     "text": [
      "Enter your guess :  34\n"
     ]
    },
    {
     "name": "stdout",
     "output_type": "stream",
     "text": [
      "\n",
      "Too Low! Try High!\n",
      "\n",
      "Attempts Left : 1\n"
     ]
    },
    {
     "name": "stdin",
     "output_type": "stream",
     "text": [
      "Enter your guess :  34\n"
     ]
    },
    {
     "name": "stdout",
     "output_type": "stream",
     "text": [
      "\n",
      "Too Low! Try High!\n",
      "\n",
      "Attempts Left : 0\n",
      "\n",
      "Failed to Guess the correct number : 45\n"
     ]
    }
   ],
   "source": [
    "# import random\n",
    "# secret = random.randint(1,101)\n",
    "# attempts_taken = 0\n",
    "# total_attempts = 10\n",
    "# print(\"Welcome to number guessing game!\\n\")\n",
    "# while attempts_taken < total_attempts:\n",
    "#     attempts_taken +=1\n",
    "#     guess = int(input(\"Enter your guess : \"))\n",
    "#     if guess > secret:\n",
    "#         print(\"\\nToo High! Try Low!\")\n",
    "#     elif guess < secret:\n",
    "#         print(\"\\nToo Low! Try High!\")\n",
    "#     else:\n",
    "#         print(f\"\\nCongratulations! You've guess the correct number {secret} in {attempts_taken} attempts\")\n",
    "#         break\n",
    "\n",
    "    \n",
    "#     print(f\"\\nAttempts Left : {total_attempts - attempts_taken}\")\n",
    "\n",
    "# if attempts_taken == total_attempts:\n",
    "#     print(f\"\\nFailed to Guess the correct number : {secret}\")"
   ]
  },
  {
   "cell_type": "code",
   "execution_count": null,
   "id": "779c26f3-622e-4f4c-9fe7-3e37feda6369",
   "metadata": {},
   "outputs": [],
   "source": []
  },
  {
   "cell_type": "code",
   "execution_count": null,
   "id": "b04c0d86-3a1e-461e-9650-fb489c0396fb",
   "metadata": {},
   "outputs": [],
   "source": [
    "# Import the random module to generate random numbers\n",
    "import random\n",
    "\n",
    "# Generate a random number between 1 and 101 (inclusive) and store it as the secret number to guess\n",
    "secret = random.randint(1,101)\n",
    "\n",
    "# Initialize a counter to track the number of guesses the player has made\n",
    "attempts_taken = 0\n",
    "\n",
    "# Set the maximum number of guesses the player is allowed\n",
    "total_attempts = 10\n",
    "\n",
    "# Print a welcome message to introduce the game\n",
    "print(\"Welcome to number guessing game!\\n\")\n",
    "\n",
    "# Start a loop that continues until the player uses all allowed attempts\n",
    "while attempts_taken < total_attempts:\n",
    "    # Increment the attempt counter by 1 for each guess\n",
    "    attempts_taken +=1\n",
    "    \n",
    "    # Prompt the player to enter a guess and convert the input (string) to an integer\n",
    "    guess = int(input(\"Enter your guess : \"))\n",
    "    \n",
    "    # Check if the guess is higher than the secret number\n",
    "    if guess > secret:\n",
    "        # Print a hint that the guess is too high\n",
    "        print(\"\\nToo High! Try Low!\")\n",
    "    \n",
    "    # Check if the guess is lower than the secret number\n",
    "    elif guess < secret:\n",
    "        # Print a hint that the guess is too low\n",
    "        print(\"\\nToo Low! Try High!\")\n",
    "    \n",
    "    # If the guess is neither too high nor too low, it must be correct\n",
    "    else:\n",
    "        # Print a congratulatory message with the secret number and attempts taken\n",
    "        print(f\"\\nCongratulations! You've guess the correct number {secret} in {attempts_taken} attempts\")\n",
    "        # Exit the loop since the player guessed correctly\n",
    "        break\n",
    "    \n",
    "    # Print the number of attempts remaining\n",
    "    print(f\"\\nAttempts Left : {total_attempts - attempts_taken}\")\n",
    "\n",
    "# Check if the player used all attempts without guessing correctly\n",
    "if attempts_taken == total_attempts:\n",
    "    # Print a message indicating failure and reveal the secret number\n",
    "    print(f\"\\nFailed to Guess the correct number : {secret}\")"
   ]
  }
 ],
 "metadata": {
  "kernelspec": {
   "display_name": "Python (myenv)",
   "language": "python",
   "name": "myenv"
  },
  "language_info": {
   "codemirror_mode": {
    "name": "ipython",
    "version": 3
   },
   "file_extension": ".py",
   "mimetype": "text/x-python",
   "name": "python",
   "nbconvert_exporter": "python",
   "pygments_lexer": "ipython3",
   "version": "3.11.7"
  }
 },
 "nbformat": 4,
 "nbformat_minor": 5
}
