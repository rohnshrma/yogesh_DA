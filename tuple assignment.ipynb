{
 "cells": [
  {
   "cell_type": "code",
   "execution_count": 4,
   "id": "57d430eb-7b13-45a3-b4c0-a75b3be151ce",
   "metadata": {},
   "outputs": [
    {
     "name": "stdout",
     "output_type": "stream",
     "text": [
      "('Pizza', 'Burger', 'Pasta', 'Sushi')\n",
      "Burger\n",
      "Sushi\n"
     ]
    }
   ],
   "source": [
    "fav_food = (\"Pizza\",\"Burger\",\"Pasta\",\"Sushi\")\n",
    "print(fav_food)\n",
    "print(fav_food[1])\n",
    "print(fav_food[len(fav_food) - 1])"
   ]
  },
  {
   "cell_type": "code",
   "execution_count": 6,
   "id": "aeb6ac19-de58-4c9d-9892-e0b090a4d4c7",
   "metadata": {},
   "outputs": [
    {
     "name": "stdout",
     "output_type": "stream",
     "text": [
      "3\n"
     ]
    }
   ],
   "source": [
    "nums = (12,23,34,10,10,10)\n",
    "print(nums.count(10))"
   ]
  },
  {
   "cell_type": "code",
   "execution_count": 8,
   "id": "4214abfc-a3f6-4bb4-a59c-c6ca702661bb",
   "metadata": {},
   "outputs": [
    {
     "name": "stdout",
     "output_type": "stream",
     "text": [
      "0\n"
     ]
    }
   ],
   "source": [
    "colors = (\"red\",\"green\",\"blue\",\"red\")\n",
    "print(colors.index(\"red\"))"
   ]
  },
  {
   "cell_type": "code",
   "execution_count": 12,
   "id": "477546d1-bd08-4c00-bd74-76a11acc4b45",
   "metadata": {},
   "outputs": [
    {
     "name": "stdout",
     "output_type": "stream",
     "text": [
      "100\n",
      "200\n",
      "300\n"
     ]
    }
   ],
   "source": [
    "myNums = (100,200,300)\n",
    "x,y,z = myNums\n",
    "print(x)\n",
    "print(y)\n",
    "print(z)"
   ]
  },
  {
   "cell_type": "code",
   "execution_count": 18,
   "id": "20e47c91-042c-4bd2-aa78-c18a6f21b0e1",
   "metadata": {},
   "outputs": [
    {
     "name": "stdout",
     "output_type": "stream",
     "text": [
      "(1, 2, 3, 4, 0, 5, 6, 7, 8)\n"
     ]
    }
   ],
   "source": [
    "t1 = (1,2,3,4)\n",
    "t2 = (0,5,6,7,8)\n",
    "t3 = t1+t2\n",
    "print(t3)"
   ]
  },
  {
   "cell_type": "code",
   "execution_count": 20,
   "id": "069b5555-39cc-4f59-a06f-091b7618e69f",
   "metadata": {},
   "outputs": [
    {
     "name": "stdout",
     "output_type": "stream",
     "text": [
      "True\n",
      "False\n"
     ]
    }
   ],
   "source": [
    "fruits = (\"apple\",\"banana\",\"cherry\")\n",
    "print(\"banana\" in fruits)\n",
    "print(\"grapes\" in fruits)"
   ]
  },
  {
   "cell_type": "code",
   "execution_count": 22,
   "id": "4725088d-3d5c-457a-babf-9f1e3aaee3a6",
   "metadata": {},
   "outputs": [
    {
     "name": "stdout",
     "output_type": "stream",
     "text": [
      "(10, 15, 20)\n"
     ]
    }
   ],
   "source": [
    "tup = (5,10,15,20,25,30)\n",
    "print(tup[1:4])"
   ]
  },
  {
   "cell_type": "code",
   "execution_count": 24,
   "id": "84ebedd1-9be1-4f06-b11c-1ad90405918a",
   "metadata": {},
   "outputs": [
    {
     "name": "stdout",
     "output_type": "stream",
     "text": [
      "<class 'tuple'>\n"
     ]
    }
   ],
   "source": [
    "numbers = [23,45,2,3,34,2,3]\n",
    "numbers = tuple(numbers)\n",
    "print(type(numbers))"
   ]
  },
  {
   "cell_type": "code",
   "execution_count": 26,
   "id": "aedfaff3-839a-4287-816f-29b99af9d38b",
   "metadata": {},
   "outputs": [],
   "source": [
    "nested = ((1,2),(3,4),(5,6))"
   ]
  },
  {
   "cell_type": "code",
   "execution_count": 36,
   "id": "e9e54fac-17ad-40a2-9c3e-add079251c2f",
   "metadata": {},
   "outputs": [
    {
     "data": {
      "text/plain": [
       "5"
      ]
     },
     "execution_count": 36,
     "metadata": {},
     "output_type": "execute_result"
    }
   ],
   "source": [
    "nested[2][0]"
   ]
  },
  {
   "cell_type": "code",
   "execution_count": null,
   "id": "33e895a4-a3e8-4583-aa79-89de51c1efea",
   "metadata": {},
   "outputs": [],
   "source": []
  }
 ],
 "metadata": {
  "kernelspec": {
   "display_name": "Python (myenv)",
   "language": "python",
   "name": "myenv"
  },
  "language_info": {
   "codemirror_mode": {
    "name": "ipython",
    "version": 3
   },
   "file_extension": ".py",
   "mimetype": "text/x-python",
   "name": "python",
   "nbconvert_exporter": "python",
   "pygments_lexer": "ipython3",
   "version": "3.11.7"
  }
 },
 "nbformat": 4,
 "nbformat_minor": 5
}
