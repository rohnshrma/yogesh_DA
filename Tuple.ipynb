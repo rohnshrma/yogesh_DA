{
 "cells": [
  {
   "cell_type": "markdown",
   "id": "1790540b-a3dd-42d9-a1ab-171f2a08d387",
   "metadata": {},
   "source": [
    "# Tuple\n",
    "<ul>\n",
    "    <li>Ordered</li>\n",
    "    <li>Indexed</li>\n",
    "    <li>Unchangable</li>\n",
    "    <li>Allows Duplicates</li>\n",
    "</ul>"
   ]
  },
  {
   "cell_type": "code",
   "execution_count": 141,
   "id": "5c6adef4-ded3-471a-b36f-c4865f73d144",
   "metadata": {},
   "outputs": [],
   "source": [
    "x = 23,34,2,335,45 ,23"
   ]
  },
  {
   "cell_type": "code",
   "execution_count": 143,
   "id": "81b1d342-d9b2-4a21-8110-9453c3b51656",
   "metadata": {},
   "outputs": [
    {
     "name": "stdout",
     "output_type": "stream",
     "text": [
      "<class 'tuple'>\n"
     ]
    }
   ],
   "source": [
    "print(type(x))"
   ]
  },
  {
   "cell_type": "code",
   "execution_count": 145,
   "id": "0a15266c-dab8-4823-9865-a4da93246d30",
   "metadata": {},
   "outputs": [],
   "source": [
    "y =  (34)"
   ]
  },
  {
   "cell_type": "code",
   "execution_count": 147,
   "id": "7011056f-c5b1-410f-be64-e0dc928cac7b",
   "metadata": {},
   "outputs": [
    {
     "name": "stdout",
     "output_type": "stream",
     "text": [
      "<class 'int'>\n"
     ]
    }
   ],
   "source": [
    "print(type(y))"
   ]
  },
  {
   "cell_type": "code",
   "execution_count": 149,
   "id": "7ed43cbf-e36a-4026-b783-1031e64318bd",
   "metadata": {},
   "outputs": [],
   "source": [
    "# creating a tuple with single item use \",\"\n",
    "z = (34,)"
   ]
  },
  {
   "cell_type": "code",
   "execution_count": 151,
   "id": "af35f2ee-011f-43dd-88a3-a13d40a5f7c9",
   "metadata": {},
   "outputs": [
    {
     "name": "stdout",
     "output_type": "stream",
     "text": [
      "<class 'tuple'>\n"
     ]
    }
   ],
   "source": [
    "print(type(z))"
   ]
  },
  {
   "cell_type": "code",
   "execution_count": null,
   "id": "4cb1147d-66d6-413c-b117-49e0e6a9944a",
   "metadata": {},
   "outputs": [],
   "source": []
  },
  {
   "cell_type": "code",
   "execution_count": 154,
   "id": "f613bd5f-84b3-49f5-9cfe-b152167afe2b",
   "metadata": {},
   "outputs": [
    {
     "name": "stdout",
     "output_type": "stream",
     "text": [
      "(23, 34, 2, 335, 45, 23)\n"
     ]
    }
   ],
   "source": [
    "print(x) # ordered and allows duplicates"
   ]
  },
  {
   "cell_type": "code",
   "execution_count": 156,
   "id": "cb0ab6b5-bdaf-4e65-ae1c-2a04be514002",
   "metadata": {},
   "outputs": [
    {
     "name": "stdout",
     "output_type": "stream",
     "text": [
      "34\n"
     ]
    }
   ],
   "source": [
    "print(x[1]) # indexed"
   ]
  },
  {
   "cell_type": "code",
   "execution_count": 158,
   "id": "1b3ebf73-35b4-4b5b-ad00-dcbd9af56f05",
   "metadata": {},
   "outputs": [
    {
     "ename": "TypeError",
     "evalue": "'tuple' object does not support item assignment",
     "output_type": "error",
     "traceback": [
      "\u001b[0;31m---------------------------------------------------------------------------\u001b[0m",
      "\u001b[0;31mTypeError\u001b[0m                                 Traceback (most recent call last)",
      "Cell \u001b[0;32mIn[158], line 1\u001b[0m\n\u001b[0;32m----> 1\u001b[0m x[\u001b[38;5;241m3\u001b[39m] \u001b[38;5;241m=\u001b[39m \u001b[38;5;241m100\u001b[39m\n",
      "\u001b[0;31mTypeError\u001b[0m: 'tuple' object does not support item assignment"
     ]
    }
   ],
   "source": [
    "x[3] = 100 # unchangable | immutable"
   ]
  },
  {
   "cell_type": "code",
   "execution_count": 160,
   "id": "cc32a89f-d4bd-41c6-99ba-b3d1a983ec3f",
   "metadata": {},
   "outputs": [
    {
     "name": "stdout",
     "output_type": "stream",
     "text": [
      "2\n"
     ]
    }
   ],
   "source": [
    "print(x.count(23)) # return number of occurancrs of the specified item"
   ]
  },
  {
   "cell_type": "code",
   "execution_count": 162,
   "id": "57eb8899-78fb-40be-a978-863215b7b7a9",
   "metadata": {},
   "outputs": [
    {
     "name": "stdout",
     "output_type": "stream",
     "text": [
      "0\n",
      "5\n"
     ]
    }
   ],
   "source": [
    "print(x.index(23)) # return index of the first occurance \n",
    "print(x.index(23, 1 , 6)) # return index of the first occurance "
   ]
  },
  {
   "cell_type": "raw",
   "id": "d13d259c-3c1a-41e7-957b-81d7db94e77f",
   "metadata": {},
   "source": []
  },
  {
   "cell_type": "code",
   "execution_count": 164,
   "id": "415ea41f-33b6-4ed0-985d-ca075853266e",
   "metadata": {},
   "outputs": [
    {
     "name": "stdout",
     "output_type": "stream",
     "text": [
      "<class 'list'>\n",
      "[23, 34, 100, 2, 335, 45, 23]\n",
      "[23, 34, 100, 2, 45, 23]\n",
      "(23, 34, 100, 2, 45, 23)\n"
     ]
    }
   ],
   "source": [
    "# Let's assume 'x' is a list of numbers, e.g., x = [10, 20, 30, 40, 50].\n",
    "# If 'x' is not defined, this code would raise an error. For this explanation, assume x = [10, 20, 30, 40, 50].\n",
    "\n",
    "# Line 1: num_list = list(x)\n",
    "# Explanation: The 'list()' function converts the input 'x' into a list.\n",
    "# Here, we assume 'x' is already a list, so 'num_list' becomes a new list with the same elements as 'x'.\n",
    "# The 'list()' function is often used to convert other data types (like tuples or strings) into a list.\n",
    "# For example, if x = [10, 20, 30, 40, 50], then num_list = [10, 20, 30, 40, 50].\n",
    "num_list = list(x)\n",
    "\n",
    "# Line 2: print(type(num_list))\n",
    "# Explanation: The 'type()' function tells us the data type of 'num_list'.\n",
    "# The 'print()' function outputs this to the console.\n",
    "# Since 'num_list' is a list, this will print: <class 'list'>.\n",
    "# This is useful to confirm that 'num_list' is indeed a list.\n",
    "print(type(num_list))\n",
    "\n",
    "# Line 3: num_list.insert(2, 100)\n",
    "# Explanation: The 'insert()' method adds an element (100) at the specified index (2) in the list.\n",
    "# Lists in Python are zero-indexed, so index 2 refers to the third position.\n",
    "# The element 100 is inserted at index 2, shifting all elements from index 2 onward to the right.\n",
    "# If num_list was [10, 20, 30, 40, 50], after this, it becomes [10, 20, 100, 30, 40, 50].\n",
    "num_list.insert(2, 100)\n",
    "\n",
    "# Line 4: print(num_list)\n",
    "# Explanation: This prints the current state of 'num_list' to the console.\n",
    "# After the insert, it will print: [10, 20, 100, 30, 40, 50].\n",
    "# The 'print()' function shows the entire list so we can see the changes.\n",
    "print(num_list)\n",
    "\n",
    "# Line 5: num_list.remove(335)\n",
    "# Explanation: The 'remove()' method removes the first occurrence of the specified value (335) from the list.\n",
    "# If 335 is not in the list (e.g., [10, 20, 100, 30, 40, 50]), this will raise a ValueError.\n",
    "# For this explanation, if 335 isn't present, the code will crash unless handled (e.g., with try-except).\n",
    "# Assuming 335 was in the list (e.g., if num_list was modified earlier), it would remove it.\n",
    "# Since 335 is not in [10, 20, 100, 30, 40, 50], this line would cause an error in this case.\n",
    "num_list.remove(335)\n",
    "\n",
    "# Line 6: print(num_list)\n",
    "# Explanation: This would print the updated 'num_list' after removing 335.\n",
    "# If the previous line didn’t crash, it would show the list without 335.\n",
    "# Since 335 isn’t in our assumed list, this line won’t execute due to the error above.\n",
    "print(num_list)\n",
    "\n",
    "# Line 7: x = tuple(num_list)\n",
    "# Explanation: The 'tuple()' function converts 'num_list' (a list) into a tuple.\n",
    "# A tuple is like a list but immutable, meaning you can’t change its elements after creation.\n",
    "# If num_list is [10, 20, 100, 30, 40, 50], then 'x' becomes (10, 20, 100, 30, 40, 50).\n",
    "# This line assigns the new tuple to the variable 'x', overwriting the original 'x'.\n",
    "x = tuple(num_list)\n",
    "\n",
    "# Line 8: print(x)\n",
    "# Explanation: This prints the tuple 'x' to the console.\n",
    "# If the previous steps worked (ignoring the remove error), it would print: (10, 20, 100, 30, 40, 50).\n",
    "# Tuples are displayed with parentheses () instead of square brackets [] like lists.\n",
    "print(x)"
   ]
  },
  {
   "cell_type": "code",
   "execution_count": null,
   "id": "189fb3ad-abe8-4998-b22c-17b56270cb52",
   "metadata": {},
   "outputs": [],
   "source": []
  },
  {
   "cell_type": "code",
   "execution_count": 175,
   "id": "5594824f-a29e-4366-a176-ebc4e12de92b",
   "metadata": {},
   "outputs": [
    {
     "name": "stdout",
     "output_type": "stream",
     "text": [
      "23\n",
      "34\n",
      "100\n",
      "2\n"
     ]
    }
   ],
   "source": [
    "print(x[0])\n",
    "print(x[1])\n",
    "print(x[2])\n",
    "print(x[3])"
   ]
  },
  {
   "cell_type": "code",
   "execution_count": 203,
   "id": "6c8e3608-7713-416f-b1d9-4940ce61a189",
   "metadata": {},
   "outputs": [
    {
     "name": "stdout",
     "output_type": "stream",
     "text": [
      "23\n",
      "[2, 335]\n"
     ]
    }
   ],
   "source": [
    "# Define the list 'x' with the given numbers.\n",
    "# Lists in Python are ordered, mutable collections, defined with square brackets [].\n",
    "x = [23, 34, 2, 335, 45, 23]\n",
    "\n",
    "# Line 1: suraj, tushar, *rohan, yogesh, others = x\n",
    "# Explanation: This uses tuple unpacking to assign elements from the list 'x' to variables.\n",
    "# - 'suraj' gets the first element: 23\n",
    "# - 'tushar' gets the second element: 34\n",
    "# - '*rohan' uses the asterisk (*) to collect all elements between the second and the last two elements into a list.\n",
    "#   Here, 'rohan' gets [2, 335], because these are the elements at indices 2 and 3.\n",
    "# - 'yogesh' gets the second-to-last element: 45\n",
    "# - 'others' gets the last element: 23\n",
    "# The list 'x' has exactly 6 elements, and the unpacking matches: 2 (suraj, tushar) + some (*rohan) + 2 (yogesh, others).\n",
    "suraj, tushar, *rohan, yogesh, others = x\n",
    "\n",
    "# Line 2: print(suraj)\n",
    "# Explanation: This prints the value of 'suraj', which is the first element of 'x'.\n",
    "# Output will be: 23\n",
    "print(suraj)\n",
    "\n",
    "# Line 3: print(rohan)\n",
    "# Explanation: This prints the value of 'rohan', which is a list containing the middle elements of 'x'.\n",
    "# Since 'rohan' collects elements between tushar (index 1) and yogesh (second-to-last), it gets [2, 335].\n",
    "# Output will be: [2, 335]\n",
    "print(rohan)"
   ]
  },
  {
   "cell_type": "raw",
   "id": "be78430c-85fe-4a60-b8fe-c812c12c20d3",
   "metadata": {},
   "source": []
  },
  {
   "cell_type": "code",
   "execution_count": null,
   "id": "ac9f473a-baf4-4f0d-8037-f9756bf1b25d",
   "metadata": {},
   "outputs": [],
   "source": []
  },
  {
   "cell_type": "code",
   "execution_count": null,
   "id": "e8b6bc15-a6a6-4af7-9f6b-97e134de1b3b",
   "metadata": {},
   "outputs": [],
   "source": []
  },
  {
   "cell_type": "code",
   "execution_count": null,
   "id": "9ef96054-d3e1-43fb-9a3e-cb6ef23f0775",
   "metadata": {},
   "outputs": [],
   "source": []
  },
  {
   "cell_type": "code",
   "execution_count": null,
   "id": "a2c5b997-2c00-4579-974c-ad0195da9fd5",
   "metadata": {},
   "outputs": [],
   "source": []
  },
  {
   "cell_type": "code",
   "execution_count": null,
   "id": "d5270403-a8d9-428d-a3ba-e4ac9604a0a3",
   "metadata": {},
   "outputs": [],
   "source": []
  }
 ],
 "metadata": {
  "kernelspec": {
   "display_name": "Python (myenv)",
   "language": "python",
   "name": "myenv"
  },
  "language_info": {
   "codemirror_mode": {
    "name": "ipython",
    "version": 3
   },
   "file_extension": ".py",
   "mimetype": "text/x-python",
   "name": "python",
   "nbconvert_exporter": "python",
   "pygments_lexer": "ipython3",
   "version": "3.11.7"
  }
 },
 "nbformat": 4,
 "nbformat_minor": 5
}
