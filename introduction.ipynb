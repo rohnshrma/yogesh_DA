{
 "cells": [
  {
   "cell_type": "markdown",
   "id": "70f13c3d-1447-47b9-a8bb-6cc3bb585505",
   "metadata": {},
   "source": [
    "# Introduction file\n",
    "this is an introductory file\n",
    "### Output \n",
    "### Input\n",
    "### Variables"
   ]
  },
  {
   "cell_type": "markdown",
   "id": "6b5f921f-1146-4a2d-a649-cb8c722df97a",
   "metadata": {},
   "source": [
    "### <u>print()</u> function is used to provide output in python"
   ]
  },
  {
   "cell_type": "code",
   "execution_count": 23,
   "id": "70b9c453-fb5a-4b1f-a096-d84db5076fe8",
   "metadata": {
    "scrolled": true
   },
   "outputs": [
    {
     "name": "stdout",
     "output_type": "stream",
     "text": [
      "46\n"
     ]
    }
   ],
   "source": [
    "print(23*2)"
   ]
  },
  {
   "cell_type": "code",
   "execution_count": 25,
   "id": "ad1eb3ff-df67-4804-a353-92fd6fb251b9",
   "metadata": {},
   "outputs": [
    {
     "name": "stdout",
     "output_type": "stream",
     "text": [
      "20880467999847912034355032910567\n"
     ]
    }
   ],
   "source": [
    "print(23**23)"
   ]
  },
  {
   "cell_type": "markdown",
   "id": "191b722a-ed9d-4f92-b02a-d4d7f0defe82",
   "metadata": {},
   "source": [
    "# Input\n",
    "input(message) function is used to collect input from user"
   ]
  },
  {
   "cell_type": "code",
   "execution_count": 32,
   "id": "f7e62d9d-c720-4651-aa24-680858ca4cae",
   "metadata": {},
   "outputs": [
    {
     "name": "stdin",
     "output_type": "stream",
     "text": [
      "Enter your name :  yogesh\n"
     ]
    },
    {
     "data": {
      "text/plain": [
       "'yogesh'"
      ]
     },
     "execution_count": 32,
     "metadata": {},
     "output_type": "execute_result"
    }
   ],
   "source": [
    "input(\"Enter your name : \")"
   ]
  },
  {
   "cell_type": "code",
   "execution_count": null,
   "id": "6a8c3d21-98d1-4ceb-938f-4eb100173e69",
   "metadata": {},
   "outputs": [],
   "source": []
  },
  {
   "cell_type": "markdown",
   "id": "baa35912-7399-4399-bc76-1ec3d13b6b84",
   "metadata": {},
   "source": [
    "## Variable\n",
    "a empty container used to store data, having a label on it known as variable name or identifier\n",
    "\n",
    "## How to create a varible ? \n",
    "the moment you assign a value to a word it becomes a variable"
   ]
  },
  {
   "cell_type": "code",
   "execution_count": 38,
   "id": "4ae7a306-36bf-448d-af37-c38dcb2d5bee",
   "metadata": {},
   "outputs": [],
   "source": [
    "name = \"Yogesh\""
   ]
  },
  {
   "cell_type": "code",
   "execution_count": 40,
   "id": "10be5f0e-2591-44e8-b2fd-d8d2dbaa0249",
   "metadata": {},
   "outputs": [
    {
     "name": "stdout",
     "output_type": "stream",
     "text": [
      "Yogesh\n"
     ]
    }
   ],
   "source": [
    "print(name)"
   ]
  },
  {
   "cell_type": "code",
   "execution_count": null,
   "id": "714031db-8074-4101-83ae-1914b1b82703",
   "metadata": {},
   "outputs": [],
   "source": []
  },
  {
   "cell_type": "code",
   "execution_count": 52,
   "id": "054c2f15-5e8c-4bdf-8186-139c68a1950f",
   "metadata": {},
   "outputs": [
    {
     "name": "stdin",
     "output_type": "stream",
     "text": [
      "Enter your age :  23\n"
     ]
    }
   ],
   "source": [
    "age = input(\"Enter your age : \")\n",
    "# print(\"Hello world i am\" ,name ,\"and i am\", age , \" years old.\")"
   ]
  },
  {
   "cell_type": "code",
   "execution_count": 3,
   "id": "ce4c18df-f62d-413b-a102-2d312fe978f3",
   "metadata": {},
   "outputs": [],
   "source": [
    "x = 23"
   ]
  },
  {
   "cell_type": "code",
   "execution_count": 5,
   "id": "158171f4-29d9-46d2-9575-ae5bbb9e5527",
   "metadata": {},
   "outputs": [],
   "source": [
    "yourName = None"
   ]
  },
  {
   "cell_type": "code",
   "execution_count": null,
   "id": "64a39f64-ee1a-42c7-9b3c-e5a7f19e4bbd",
   "metadata": {},
   "outputs": [],
   "source": []
  }
 ],
 "metadata": {
  "kernelspec": {
   "display_name": "Python 3 (ipykernel)",
   "language": "python",
   "name": "python3"
  },
  "language_info": {
   "codemirror_mode": {
    "name": "ipython",
    "version": 3
   },
   "file_extension": ".py",
   "mimetype": "text/x-python",
   "name": "python",
   "nbconvert_exporter": "python",
   "pygments_lexer": "ipython3",
   "version": "3.11.7"
  }
 },
 "nbformat": 4,
 "nbformat_minor": 5
}
