{
 "cells": [
  {
   "cell_type": "markdown",
   "id": "11a0c606-a387-443b-862e-650cf356e1cb",
   "metadata": {},
   "source": [
    "# Dictionary\n",
    "<ul>\n",
    "    <li>Ordered</li>\n",
    "    <li>Unindexed</li>\n",
    "    <li>Changable | mutable</li>\n",
    "    <li>Doesn't Allows Duplicates</li>\n",
    "</ul>\n",
    "\n",
    "## curly brackets {} are used to create a dictionary , where items are in {key : value , } pairs"
   ]
  },
  {
   "cell_type": "code",
   "execution_count": 2,
   "id": "6812fdc9-3c3e-40c6-82e9-cba8f7efebe8",
   "metadata": {},
   "outputs": [],
   "source": [
    "x = {\"apple\",3,34,3,423,23}"
   ]
  },
  {
   "cell_type": "code",
   "execution_count": 3,
   "id": "9737c2ee-be50-49f9-9712-33fa7fa67aff",
   "metadata": {},
   "outputs": [],
   "source": [
    "car = {\n",
    "    \"name\" : \"Yogesh\", # property = \"key\" : \"value\"\n",
    "    \"age\" : 23,\n",
    "    \"gender\" : \"Male\",\n",
    "    \"height\" : 1.80,\n",
    "    \"skills\" : [\"HTML\",\"CSS\",\"Python\"]\n",
    "}"
   ]
  },
  {
   "cell_type": "code",
   "execution_count": null,
   "id": "45c28333-d5e3-42ca-a6e0-0f0a8de1862c",
   "metadata": {},
   "outputs": [],
   "source": []
  },
  {
   "cell_type": "code",
   "execution_count": 5,
   "id": "8aebfe77-4af8-428e-b8d1-8da739ae9aeb",
   "metadata": {},
   "outputs": [],
   "source": [
    "car = [\"i20\",\"Hyundai\",4 , 14 , \"Red\"]"
   ]
  },
  {
   "cell_type": "code",
   "execution_count": 9,
   "id": "e255d0ce-fa76-422c-9518-b5e6f3e43e5d",
   "metadata": {},
   "outputs": [],
   "source": [
    "myCar = {\n",
    "    \"model\" : \"i20\",\n",
    "    \"brand\" : \"Hyundai\",\n",
    "    \"wheels\" : 4,\n",
    "    \"mileage\" : \"14 kmpl\",\n",
    "    \"color\" : \"red\"\n",
    "}"
   ]
  },
  {
   "cell_type": "code",
   "execution_count": 11,
   "id": "f3f6cabb-6597-4f75-81de-0e5a305eeb42",
   "metadata": {},
   "outputs": [
    {
     "name": "stdout",
     "output_type": "stream",
     "text": [
      "{'model': 'i20', 'brand': 'Hyundai', 'wheels': 4, 'mileage': '14 kmpl', 'color': 'red'}\n"
     ]
    }
   ],
   "source": [
    "print(myCar)"
   ]
  },
  {
   "cell_type": "code",
   "execution_count": 13,
   "id": "55563aad-5c76-4649-8674-40919e10ad96",
   "metadata": {},
   "outputs": [
    {
     "name": "stdout",
     "output_type": "stream",
     "text": [
      "<class 'dict'>\n"
     ]
    }
   ],
   "source": [
    "print(type(myCar))"
   ]
  },
  {
   "cell_type": "code",
   "execution_count": null,
   "id": "35e0d596-8647-45a2-8c52-a40ef40873a3",
   "metadata": {},
   "outputs": [],
   "source": []
  },
  {
   "cell_type": "code",
   "execution_count": null,
   "id": "ddebca03-a377-49e0-8f2b-f3349214ad53",
   "metadata": {},
   "outputs": [],
   "source": []
  },
  {
   "cell_type": "code",
   "execution_count": 17,
   "id": "b07e0873-cb3d-4a48-b4a3-f4edbb0b4d4f",
   "metadata": {},
   "outputs": [],
   "source": [
    "book = {\n",
    "    \"title\" : \"Harry potter and the half blood prince\",\n",
    "    \"author\" : \"JK Rowlings\",\n",
    "    \"year\" : 1991,\n",
    "    \"pages\" : 1001,\n",
    "    \"year\" : 2002\n",
    "}"
   ]
  },
  {
   "cell_type": "code",
   "execution_count": 19,
   "id": "48ec45dc-0da4-40bf-ad01-b97eae4f5cde",
   "metadata": {},
   "outputs": [
    {
     "name": "stdout",
     "output_type": "stream",
     "text": [
      "{'title': 'Harry potter and the half blood prince', 'author': 'JK Rowlings', 'year': 2002, 'pages': 1001}\n"
     ]
    }
   ],
   "source": [
    "print(book) # ordered and doesn't allows duplicates"
   ]
  },
  {
   "cell_type": "code",
   "execution_count": 21,
   "id": "13a4ef6b-9830-4bf5-b4c5-dca3aa8e558f",
   "metadata": {},
   "outputs": [
    {
     "ename": "KeyError",
     "evalue": "0",
     "output_type": "error",
     "traceback": [
      "\u001b[0;31m---------------------------------------------------------------------------\u001b[0m",
      "\u001b[0;31mKeyError\u001b[0m                                  Traceback (most recent call last)",
      "Cell \u001b[0;32mIn[21], line 1\u001b[0m\n\u001b[0;32m----> 1\u001b[0m \u001b[38;5;28mprint\u001b[39m(book[\u001b[38;5;241m0\u001b[39m])\n",
      "\u001b[0;31mKeyError\u001b[0m: 0"
     ]
    }
   ],
   "source": [
    "print(book[0]) # unindexed"
   ]
  },
  {
   "cell_type": "code",
   "execution_count": null,
   "id": "39c91bcc-cd21-425b-8f84-f21e94ab42a8",
   "metadata": {},
   "outputs": [],
   "source": [
    "ccc"
   ]
  },
  {
   "cell_type": "code",
   "execution_count": 24,
   "id": "f1116e0b-a85c-495a-9d83-aa5e3901ddc9",
   "metadata": {},
   "outputs": [
    {
     "name": "stdout",
     "output_type": "stream",
     "text": [
      "JK Rowlings\n"
     ]
    }
   ],
   "source": [
    "print(book[\"author\"])"
   ]
  },
  {
   "cell_type": "code",
   "execution_count": 26,
   "id": "c28156ff-c37b-462d-9f2a-e3c7522d6480",
   "metadata": {},
   "outputs": [
    {
     "name": "stdout",
     "output_type": "stream",
     "text": [
      "1001\n"
     ]
    }
   ],
   "source": [
    "print(book[\"pages\"])"
   ]
  },
  {
   "cell_type": "code",
   "execution_count": null,
   "id": "12511c0f-f119-4381-abeb-ba19f2f2fe40",
   "metadata": {},
   "outputs": [],
   "source": []
  },
  {
   "cell_type": "code",
   "execution_count": 29,
   "id": "05892fe1-fb61-4014-8444-9c35a3bc0b97",
   "metadata": {},
   "outputs": [],
   "source": [
    "book[\"pages\"] = 2002"
   ]
  },
  {
   "cell_type": "code",
   "execution_count": 31,
   "id": "b4fdadc9-3a9d-432c-b09e-9b0960ac3d17",
   "metadata": {},
   "outputs": [
    {
     "name": "stdout",
     "output_type": "stream",
     "text": [
      "{'title': 'Harry potter and the half blood prince', 'author': 'JK Rowlings', 'year': 2002, 'pages': 2002}\n"
     ]
    }
   ],
   "source": [
    "print(book)"
   ]
  },
  {
   "cell_type": "code",
   "execution_count": null,
   "id": "3a1bf0b8-60da-4f55-88ee-65fc919c19b7",
   "metadata": {},
   "outputs": [],
   "source": []
  },
  {
   "cell_type": "code",
   "execution_count": 34,
   "id": "aaf6c814-8f40-4dcc-80bb-2e0a5c0d7977",
   "metadata": {},
   "outputs": [],
   "source": [
    "book[\"isAvailable\"] = True"
   ]
  },
  {
   "cell_type": "code",
   "execution_count": 36,
   "id": "471829dc-b68f-4dfe-90de-f7165b3e42fd",
   "metadata": {},
   "outputs": [
    {
     "name": "stdout",
     "output_type": "stream",
     "text": [
      "{'title': 'Harry potter and the half blood prince', 'author': 'JK Rowlings', 'year': 2002, 'pages': 2002, 'isAvailable': True}\n"
     ]
    }
   ],
   "source": [
    "print(book)"
   ]
  },
  {
   "cell_type": "code",
   "execution_count": 38,
   "id": "2d05095f-ebb6-462f-9566-6a5420d624c5",
   "metadata": {},
   "outputs": [
    {
     "data": {
      "text/plain": [
       "<function print(*args, sep=' ', end='\\n', file=None, flush=False)>"
      ]
     },
     "execution_count": 38,
     "metadata": {},
     "output_type": "execute_result"
    }
   ],
   "source": [
    "print"
   ]
  },
  {
   "cell_type": "code",
   "execution_count": null,
   "id": "ab105e19-f949-44bf-9bab-66c4096d3093",
   "metadata": {},
   "outputs": [],
   "source": []
  },
  {
   "cell_type": "code",
   "execution_count": 44,
   "id": "6e897d84-5b46-43bc-9007-09c25ddd03f7",
   "metadata": {},
   "outputs": [
    {
     "data": {
      "text/plain": [
       "'Harry potter and the half blood prince'"
      ]
     },
     "execution_count": 44,
     "metadata": {},
     "output_type": "execute_result"
    }
   ],
   "source": [
    "print(book[\"title\"])"
   ]
  },
  {
   "cell_type": "code",
   "execution_count": 50,
   "id": "1f6361d4-a05d-4486-83ab-56f8f4ed3fa6",
   "metadata": {},
   "outputs": [
    {
     "name": "stdout",
     "output_type": "stream",
     "text": [
      "Harry potter and the half blood prince\n"
     ]
    }
   ],
   "source": [
    "print(book.get(\"title\")) # return value of the specified key"
   ]
  },
  {
   "cell_type": "code",
   "execution_count": 57,
   "id": "09d1878f-3d80-4292-a425-fb25e1ff95a3",
   "metadata": {},
   "outputs": [
    {
     "name": "stdout",
     "output_type": "stream",
     "text": [
      "{'title': 'Harry potter and the half blood prince', 'author': 'JK Rowlings', 'year': 2002, 'pages': 3000, 'isAvailable': True}\n"
     ]
    }
   ],
   "source": [
    "book[\"pages\"] = 3000\n",
    "print(book)"
   ]
  },
  {
   "cell_type": "code",
   "execution_count": 61,
   "id": "44df407d-0b80-49ef-aa2f-4c1791cc2af4",
   "metadata": {},
   "outputs": [
    {
     "name": "stdout",
     "output_type": "stream",
     "text": [
      "{'title': 'Harry potter and the half blood prince', 'author': 'JK Rowlings', 'year': 2002, 'pages': 1000, 'isAvailable': True}\n"
     ]
    }
   ],
   "source": [
    "book.update({\"pages\" : 1000})\n",
    "print(book)"
   ]
  },
  {
   "cell_type": "code",
   "execution_count": 65,
   "id": "9760a774-4d0f-4e00-8566-7bee3b44d16b",
   "metadata": {},
   "outputs": [
    {
     "name": "stdout",
     "output_type": "stream",
     "text": [
      "dict_values(['Harry potter and the half blood prince', 'JK Rowlings', 2002, 1000, True])\n"
     ]
    }
   ],
   "source": [
    "print(book.values()) # return a list representation of values"
   ]
  },
  {
   "cell_type": "code",
   "execution_count": null,
   "id": "b83553f2-33c5-4aa8-9e88-20d06b74ffb1",
   "metadata": {},
   "outputs": [],
   "source": []
  },
  {
   "cell_type": "code",
   "execution_count": 67,
   "id": "0672edc0-edb4-4c68-a694-e4158526a035",
   "metadata": {},
   "outputs": [
    {
     "name": "stdout",
     "output_type": "stream",
     "text": [
      "dict_keys(['title', 'author', 'year', 'pages', 'isAvailable'])\n"
     ]
    }
   ],
   "source": [
    "print(book.keys()) # return a list representation of values"
   ]
  },
  {
   "cell_type": "code",
   "execution_count": 69,
   "id": "aaaaf2cd-6ede-4118-8c66-45f80b192e10",
   "metadata": {},
   "outputs": [
    {
     "name": "stdout",
     "output_type": "stream",
     "text": [
      "dict_items([('title', 'Harry potter and the half blood prince'), ('author', 'JK Rowlings'), ('year', 2002), ('pages', 1000), ('isAvailable', True)])\n"
     ]
    }
   ],
   "source": [
    "print(book.items()) # return a list where all the key value pairs are as tuples"
   ]
  },
  {
   "cell_type": "code",
   "execution_count": 71,
   "id": "e0da41a0-b18c-447b-a122-7069372dcaad",
   "metadata": {},
   "outputs": [],
   "source": [
    "book[\"inStocks\"] = True"
   ]
  },
  {
   "cell_type": "code",
   "execution_count": 73,
   "id": "b604b948-04e6-49ad-a6ef-c2fb95d37c01",
   "metadata": {},
   "outputs": [],
   "source": [
    "book.update({\"inStocks\" : True})"
   ]
  },
  {
   "cell_type": "code",
   "execution_count": 77,
   "id": "c198d63d-197f-475f-b5a8-6a8317a6fe1a",
   "metadata": {},
   "outputs": [
    {
     "data": {
      "text/plain": [
       "('isAvailable', True)"
      ]
     },
     "execution_count": 77,
     "metadata": {},
     "output_type": "execute_result"
    }
   ],
   "source": [
    "book.popitem() # remove and return the last property"
   ]
  },
  {
   "cell_type": "code",
   "execution_count": 81,
   "id": "db593866-5c5c-4516-822e-40313ebadfc7",
   "metadata": {},
   "outputs": [
    {
     "ename": "KeyError",
     "evalue": "'author'",
     "output_type": "error",
     "traceback": [
      "\u001b[0;31m---------------------------------------------------------------------------\u001b[0m",
      "\u001b[0;31mKeyError\u001b[0m                                  Traceback (most recent call last)",
      "Cell \u001b[0;32mIn[81], line 1\u001b[0m\n\u001b[0;32m----> 1\u001b[0m book\u001b[38;5;241m.\u001b[39mpop(\u001b[38;5;124m\"\u001b[39m\u001b[38;5;124mauthor\u001b[39m\u001b[38;5;124m\"\u001b[39m)\n",
      "\u001b[0;31mKeyError\u001b[0m: 'author'"
     ]
    }
   ],
   "source": [
    "book.pop(\"author\") # removes and return the value of the specified key"
   ]
  },
  {
   "cell_type": "code",
   "execution_count": 115,
   "id": "70f1b38b-46d0-49e2-8976-2e861ba9e15a",
   "metadata": {},
   "outputs": [],
   "source": [
    "# creates and return a new dict with the given keys and default value\n",
    "marks = book.fromkeys([\"yogesh\",\"rohan\",\"tushar\"] , 23) # takes a list keys and a default value "
   ]
  },
  {
   "cell_type": "code",
   "execution_count": 117,
   "id": "deae792b-10f2-4681-af8d-07f4e8700f82",
   "metadata": {},
   "outputs": [
    {
     "data": {
      "text/plain": [
       "{'yogesh': 23, 'rohan': 23, 'tushar': 23}"
      ]
     },
     "execution_count": 117,
     "metadata": {},
     "output_type": "execute_result"
    }
   ],
   "source": [
    "marks"
   ]
  },
  {
   "cell_type": "code",
   "execution_count": 89,
   "id": "3aae6903-6f48-4ae7-b788-83786e9ab766",
   "metadata": {},
   "outputs": [
    {
     "ename": "TypeError",
     "evalue": "setdefault expected at least 1 argument, got 0",
     "output_type": "error",
     "traceback": [
      "\u001b[0;31m---------------------------------------------------------------------------\u001b[0m",
      "\u001b[0;31mTypeError\u001b[0m                                 Traceback (most recent call last)",
      "Cell \u001b[0;32mIn[89], line 1\u001b[0m\n\u001b[0;32m----> 1\u001b[0m marks\u001b[38;5;241m.\u001b[39msetdefault()\n",
      "\u001b[0;31mTypeError\u001b[0m: setdefault expected at least 1 argument, got 0"
     ]
    }
   ],
   "source": [
    "marks.setdefault()"
   ]
  },
  {
   "cell_type": "code",
   "execution_count": 93,
   "id": "ebc4f0d1-0d26-4b86-8396-2f049a49b6b3",
   "metadata": {},
   "outputs": [],
   "source": [
    "marks[\"origin\"] = None"
   ]
  },
  {
   "cell_type": "code",
   "execution_count": 95,
   "id": "fdccf79c-6307-4c1a-9654-021adaba7304",
   "metadata": {},
   "outputs": [
    {
     "data": {
      "text/plain": [
       "{'yogesh': 100, 'rohan': 100, 'tushar': 100, 'origin': None}"
      ]
     },
     "execution_count": 95,
     "metadata": {},
     "output_type": "execute_result"
    }
   ],
   "source": [
    "marks"
   ]
  },
  {
   "cell_type": "code",
   "execution_count": 105,
   "id": "79d3f62e-4da8-4da9-8e64-1ef435243dc3",
   "metadata": {},
   "outputs": [
    {
     "data": {
      "text/plain": [
       "'Harry potter and the half blood prince'"
      ]
     },
     "execution_count": 105,
     "metadata": {},
     "output_type": "execute_result"
    }
   ],
   "source": [
    "book.setdefault(\"title\" , \"Harry potter and goblet of fire\" )"
   ]
  },
  {
   "cell_type": "code",
   "execution_count": 107,
   "id": "70d5a350-52dd-49f2-ae16-63a22bd48fff",
   "metadata": {},
   "outputs": [
    {
     "data": {
      "text/plain": [
       "'Harry potter and goblet of fire'"
      ]
     },
     "execution_count": 107,
     "metadata": {},
     "output_type": "execute_result"
    }
   ],
   "source": [
    "book.setdefault(\"nextInstalment\" , \"Harry potter and goblet of fire\" )"
   ]
  },
  {
   "cell_type": "code",
   "execution_count": 99,
   "id": "0b2bf1b9-8e05-4c58-b572-448cbb808a9d",
   "metadata": {},
   "outputs": [
    {
     "data": {
      "text/plain": [
       "{'yogesh': 100, 'rohan': 100, 'tushar': 100, 'origin': None}"
      ]
     },
     "execution_count": 99,
     "metadata": {},
     "output_type": "execute_result"
    }
   ],
   "source": [
    "marks"
   ]
  },
  {
   "cell_type": "code",
   "execution_count": null,
   "id": "9aec1d35-548f-4af0-8501-3cfbb5e8998b",
   "metadata": {},
   "outputs": [],
   "source": []
  },
  {
   "cell_type": "code",
   "execution_count": null,
   "id": "d010e7cf-158e-4ac3-91ba-04e0dcdc7804",
   "metadata": {},
   "outputs": [],
   "source": []
  },
  {
   "cell_type": "code",
   "execution_count": 3,
   "id": "f30b4ec3-cf20-4c53-8237-42c82e056168",
   "metadata": {},
   "outputs": [],
   "source": [
    "# Practice Assignment: Exploring Python Dictionaries\n",
    "# Objective: Understand Python dictionaries, their methods, and features (ordered, indexed, changeable, duplicates)\n",
    "# Instructions: Complete each task by writing Python code. Test your code to ensure it works as expected.\n",
    "# Submit your code with comments explaining each section.\n",
    "\n",
    "# Task 1: Create a Dictionary\n",
    "# Create a dictionary 'student' with keys: 'name', 'age', 'grade', 'subjects' (subjects should be a list).\n",
    "\n",
    "# Task 2: Access and Modify Dictionary (Indexed and Changeable)\n",
    "# a) Access and print the 'name' and 'subjects' from the 'student' dictionary.\n",
    "# b) Change the 'grade' to 'B' and add a new key-value pair 'city': 'New York'.\n",
    "# c) Try adding a duplicate key (e.g., 'name' again) and observe what happens.\n",
    "\n",
    "# Task 3: Dictionary Methods - get(), keys(), values(), items()\n",
    "# a) Use get() to retrieve 'age', with a default value of 'Unknown' if the key doesn't exist.\n",
    "# b) Print all keys using keys() and all values using values().\n",
    "# c) Use items() to print key-value pairs as tuples.\n",
    "\n",
    "# Task 4: Dictionary Methods - update(), pop(), popitem()\n",
    "# a) Use update() to add multiple key-value pairs {'school': 'XYZ High', 'year': 2023}.\n",
    "# b) Use pop() to remove the 'age' key and print the removed value.\n",
    "# c) Use popitem() to remove and print the last inserted key-value pair.\n",
    "\n",
    "# Task 5: Dictionary Methods - clear(), copy()\n",
    "# a) Create a copy of the 'student' dictionary using copy().\n",
    "# b) Use clear() to empty the copied dictionary and print both dictionaries to verify.\n",
    "\n",
    "# Task 6: Dictionary Features - Order Preservation\n",
    "# Create a dictionary 'inventory' with items and their quantities.\n",
    "# Add a new item 'grape': 12 and print the dictionary to confirm the order of keys.\n",
    "\n",
    "# Task 7: Nested Dictionaries\n",
    "# Create a dictionary 'classroom' with keys 'student1' and 'student2', each containing a nested dictionary\n",
    "# with keys 'name' and 'marks' (marks should be a list of integers).\n",
    "# Access and print the marks of 'student1'.\n",
    "\n",
    "# Task 8: Dictionary Comprehension\n",
    "# Use dictionary comprehension to create a dictionary where keys are numbers from 1 to 5,\n",
    "# and values are the squares of those numbers.\n",
    "\n",
    "# Task 9: Check for Key Existence\n",
    "# Use the 'in' operator to check if the key 'name' exists in the 'student' dictionary.\n",
    "# Print a message indicating whether it exists or not.\n",
    "\n",
    "# Task 10: Error Handling with Dictionaries\n",
    "# Write code to access a non-existent key 'phone' in the 'student' dictionary.\n",
    "# Use try-except to handle the KeyError and print a custom message."
   ]
  },
  {
   "cell_type": "code",
   "execution_count": 5,
   "id": "22ccd80b-ee12-473a-895b-2f79a36337fc",
   "metadata": {},
   "outputs": [],
   "source": [
    "classroom = {\n",
    "    \"student1\" : {\n",
    "        \"name\" : \"Yogesh\",\n",
    "        \"marks\" : 100\n",
    "    },\n",
    "    \"student2\" : {\n",
    "        \"name\" : \"tushar\",\n",
    "        \"marks\" : 102\n",
    "    }\n",
    "}"
   ]
  },
  {
   "cell_type": "code",
   "execution_count": 13,
   "id": "9cb35782-d7c3-4871-bc24-31976f946b6c",
   "metadata": {},
   "outputs": [
    {
     "name": "stdout",
     "output_type": "stream",
     "text": [
      "102\n"
     ]
    }
   ],
   "source": [
    "print(classroom[\"student2\"][\"marks\"])"
   ]
  },
  {
   "cell_type": "code",
   "execution_count": null,
   "id": "dffe0a52-7459-41d8-8a4b-abbb3b5608dd",
   "metadata": {},
   "outputs": [],
   "source": []
  }
 ],
 "metadata": {
  "kernelspec": {
   "display_name": "Python (myenv)",
   "language": "python",
   "name": "myenv"
  },
  "language_info": {
   "codemirror_mode": {
    "name": "ipython",
    "version": 3
   },
   "file_extension": ".py",
   "mimetype": "text/x-python",
   "name": "python",
   "nbconvert_exporter": "python",
   "pygments_lexer": "ipython3",
   "version": "3.11.7"
  }
 },
 "nbformat": 4,
 "nbformat_minor": 5
}
